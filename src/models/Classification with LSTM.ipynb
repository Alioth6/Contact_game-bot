{
 "cells": [
  {
   "cell_type": "markdown",
   "metadata": {},
   "source": [
    "# Данные"
   ]
  },
  {
   "cell_type": "markdown",
   "metadata": {},
   "source": [
    "Сначала подготовим смешанный датасет, указав тип каждого из определений: \n",
    "\n",
    " - \"0\" - это формальное определение\n",
    " \n",
    " - \"1\" - определение-перечисление\n",
    " \n",
    " - \"2\" - неформальное определение"
   ]
  },
  {
   "cell_type": "markdown",
   "metadata": {},
   "source": [
    "## Шаблоны для определений-перечислений"
   ]
  },
  {
   "cell_type": "code",
   "execution_count": 1,
   "metadata": {},
   "outputs": [],
   "source": [
    "import spacy\n",
    "\n",
    "nlp = spacy.load('ru_core_news_lg')"
   ]
  },
  {
   "cell_type": "markdown",
   "metadata": {},
   "source": [
    "Сначала расшифруем названия частей речи:"
   ]
  },
  {
   "cell_type": "code",
   "execution_count": 2,
   "metadata": {},
   "outputs": [
    {
     "name": "stdout",
     "output_type": "stream",
     "text": [
      "NOUN noun\n",
      "ADJ adjective\n",
      "ADP adposition\n",
      "VERB verb\n",
      "CCONJ coordinating conjunction\n",
      "PRON pronoun\n",
      "ADV adverb\n",
      "DET determiner\n",
      "NUM numeral\n",
      "PROPN proper noun\n",
      "SCONJ subordinating conjunction\n",
      "X other\n",
      "AUX auxiliary\n"
     ]
    }
   ],
   "source": [
    "pos_tags = [\"NOUN\", \"ADJ\", \"ADP\", \"VERB\", \"CCONJ\", \"PRON\", \"ADV\", \"DET\", \"NUM\", \"PROPN\", \"SCONJ\", \"X\", \"AUX\"]\n",
    "\n",
    "for tag in pos_tags:\n",
    "    print(tag, spacy.explain(tag))"
   ]
  },
  {
   "cell_type": "markdown",
   "metadata": {},
   "source": [
    "Объединим оба вида союзов в один; объединим служебные части речи (\"AUX\"), междометия(\"INTJ\"), частицы(\"PART\") и неопределённые (\"X\") междометия(\"INTJ\"); присоединим имена собственные к существительным. Сопоставим каждому типу обозначение:"
   ]
  },
  {
   "cell_type": "code",
   "execution_count": 3,
   "metadata": {},
   "outputs": [],
   "source": [
    "symb = {\"NOUN\" : \"N\", \"ADJ\" : \"ADJ\", \"ADP\" : \"ADP\", \"VERB\" : \"V\", \n",
    "         \"CCONJ\" : \"C\", \"PRON\" : \"P\", \"ADV\" : \"ADV\", \"DET\" : \"D\", \n",
    "         \"NUM\" : \"NUM\", \"PROPN\" : \"N\", \"SCONJ\" : \"C\", \"X\" : \"X\", \n",
    "         \"AUX\" : \"X\", \"PUNCT\" : \"PUNCT\"}\n",
    "\n",
    "numb = {\"NOUN\" : 1, \"ADJ\" : 2, \"ADP\" : 3, \"VERB\" : 4, \n",
    "        \"CCONJ\" : 5, \"PRON\" : 6, \"ADV\" : 7, \"DET\" : 8, \n",
    "        \"NUM\" : 9, \"PROPN\" : 1, \"SCONJ\" : 5, \"X\" : 10, \n",
    "        \"AUX\" : 10, \"PUNCT\" : 11}"
   ]
  },
  {
   "cell_type": "code",
   "execution_count": 4,
   "metadata": {},
   "outputs": [],
   "source": [
    "import re\n",
    "\n",
    "patterns = [r'\\b(PUNCT)?(N(PUNCT|C)+)*N\\b', r'\\b(PUNCT)?(ADJ(PUNCT|C)+)*ADJ\\b', \n",
    "            r'\\b(PUNCT)?(ADJN(PUNCT|C)+)*ADJN\\b', r'\\b(PUNCT)?(N{1,2}(PUNCT|C)+)*N{1,2}\\b', \n",
    "            r'\\b(PUNCT)?((ADJ)?N(PUNCT|C)+)*(ADJ)?N\\b', r'\\b(PUNCT)?(V(PUNCT|C)+)*V\\b']"
   ]
  },
  {
   "cell_type": "markdown",
   "metadata": {},
   "source": [
    "## Подготовка датасета"
   ]
  },
  {
   "cell_type": "code",
   "execution_count": 5,
   "metadata": {},
   "outputs": [
    {
     "name": "stdout",
     "output_type": "stream",
     "text": [
      "(26861, 3)\n"
     ]
    },
    {
     "data": {
      "text/html": [
       "<div>\n",
       "<style scoped>\n",
       "    .dataframe tbody tr th:only-of-type {\n",
       "        vertical-align: middle;\n",
       "    }\n",
       "\n",
       "    .dataframe tbody tr th {\n",
       "        vertical-align: top;\n",
       "    }\n",
       "\n",
       "    .dataframe thead th {\n",
       "        text-align: right;\n",
       "    }\n",
       "</style>\n",
       "<table border=\"1\" class=\"dataframe\">\n",
       "  <thead>\n",
       "    <tr style=\"text-align: right;\">\n",
       "      <th></th>\n",
       "      <th>defs</th>\n",
       "      <th>word</th>\n",
       "      <th>len</th>\n",
       "    </tr>\n",
       "  </thead>\n",
       "  <tbody>\n",
       "    <tr>\n",
       "      <th>0</th>\n",
       "      <td>колпак на лампе</td>\n",
       "      <td>абажур</td>\n",
       "      <td>15</td>\n",
       "    </tr>\n",
       "    <tr>\n",
       "      <th>1</th>\n",
       "      <td>настоятель католического монастыря</td>\n",
       "      <td>аббат</td>\n",
       "      <td>34</td>\n",
       "    </tr>\n",
       "    <tr>\n",
       "      <th>2</th>\n",
       "      <td>католический священник</td>\n",
       "      <td>аббат</td>\n",
       "      <td>22</td>\n",
       "    </tr>\n",
       "    <tr>\n",
       "      <th>3</th>\n",
       "      <td>католический монастырь</td>\n",
       "      <td>аббатство</td>\n",
       "      <td>22</td>\n",
       "    </tr>\n",
       "    <tr>\n",
       "      <th>4</th>\n",
       "      <td>слово из первых букв</td>\n",
       "      <td>аббревиатура</td>\n",
       "      <td>20</td>\n",
       "    </tr>\n",
       "  </tbody>\n",
       "</table>\n",
       "</div>"
      ],
      "text/plain": [
       "                                 defs          word  len\n",
       "0                     колпак на лампе        абажур   15\n",
       "1  настоятель католического монастыря         аббат   34\n",
       "2              католический священник         аббат   22\n",
       "3              католический монастырь     аббатство   22\n",
       "4                слово из первых букв  аббревиатура   20"
      ]
     },
     "execution_count": 5,
     "metadata": {},
     "output_type": "execute_result"
    }
   ],
   "source": [
    "import pandas as pd\n",
    "\n",
    "file1 = 'test_set_002.csv'\n",
    "\n",
    "data = pd.read_csv(file1, delimiter=',')\n",
    "\n",
    "print(data.shape)\n",
    "data.head(5)"
   ]
  },
  {
   "cell_type": "code",
   "execution_count": 6,
   "metadata": {},
   "outputs": [],
   "source": [
    "del data['len']"
   ]
  },
  {
   "cell_type": "code",
   "execution_count": 7,
   "metadata": {},
   "outputs": [],
   "source": [
    "new_col = []\n",
    "num_arrays = []\n",
    "\n",
    "max_code_len = 0\n",
    "\n",
    "for sentence in data['defs']:\n",
    "    doc = nlp(sentence)\n",
    "    curr_str = \"\"\n",
    "    curr_arr = []\n",
    "    \n",
    "    for i in range(len(doc)):\n",
    "        word = doc[i]\n",
    "        pos_tag = word.pos_\n",
    "        if pos_tag not in symb:\n",
    "            curr_str += \"X\"\n",
    "            curr_arr.append(numb[\"X\"])\n",
    "            continue\n",
    "        curr_str += symb[pos_tag]\n",
    "        curr_arr.append(numb[pos_tag])\n",
    "        \n",
    "    new_col.append(curr_str)\n",
    "    num_arrays.append(curr_arr)\n",
    "    \n",
    "    if len(curr_arr) >= max_code_len:\n",
    "        max_code_len = len(curr_arr)"
   ]
  },
  {
   "cell_type": "code",
   "execution_count": 8,
   "metadata": {},
   "outputs": [
    {
     "data": {
      "text/html": [
       "<div>\n",
       "<style scoped>\n",
       "    .dataframe tbody tr th:only-of-type {\n",
       "        vertical-align: middle;\n",
       "    }\n",
       "\n",
       "    .dataframe tbody tr th {\n",
       "        vertical-align: top;\n",
       "    }\n",
       "\n",
       "    .dataframe thead th {\n",
       "        text-align: right;\n",
       "    }\n",
       "</style>\n",
       "<table border=\"1\" class=\"dataframe\">\n",
       "  <thead>\n",
       "    <tr style=\"text-align: right;\">\n",
       "      <th></th>\n",
       "      <th>defs</th>\n",
       "      <th>word</th>\n",
       "      <th>encoded defs</th>\n",
       "      <th>code array</th>\n",
       "    </tr>\n",
       "  </thead>\n",
       "  <tbody>\n",
       "    <tr>\n",
       "      <th>0</th>\n",
       "      <td>колпак на лампе</td>\n",
       "      <td>абажур</td>\n",
       "      <td>NADPN</td>\n",
       "      <td>[1, 3, 1]</td>\n",
       "    </tr>\n",
       "    <tr>\n",
       "      <th>1</th>\n",
       "      <td>настоятель католического монастыря</td>\n",
       "      <td>аббат</td>\n",
       "      <td>NADJN</td>\n",
       "      <td>[1, 2, 1]</td>\n",
       "    </tr>\n",
       "    <tr>\n",
       "      <th>2</th>\n",
       "      <td>католический священник</td>\n",
       "      <td>аббат</td>\n",
       "      <td>ADJN</td>\n",
       "      <td>[2, 1]</td>\n",
       "    </tr>\n",
       "    <tr>\n",
       "      <th>3</th>\n",
       "      <td>католический монастырь</td>\n",
       "      <td>аббатство</td>\n",
       "      <td>ADJN</td>\n",
       "      <td>[2, 1]</td>\n",
       "    </tr>\n",
       "    <tr>\n",
       "      <th>4</th>\n",
       "      <td>слово из первых букв</td>\n",
       "      <td>аббревиатура</td>\n",
       "      <td>NADPADJN</td>\n",
       "      <td>[1, 3, 2, 1]</td>\n",
       "    </tr>\n",
       "  </tbody>\n",
       "</table>\n",
       "</div>"
      ],
      "text/plain": [
       "                                 defs          word encoded defs    code array\n",
       "0                     колпак на лампе        абажур        NADPN     [1, 3, 1]\n",
       "1  настоятель католического монастыря         аббат        NADJN     [1, 2, 1]\n",
       "2              католический священник         аббат         ADJN        [2, 1]\n",
       "3              католический монастырь     аббатство         ADJN        [2, 1]\n",
       "4                слово из первых букв  аббревиатура     NADPADJN  [1, 3, 2, 1]"
      ]
     },
     "execution_count": 8,
     "metadata": {},
     "output_type": "execute_result"
    }
   ],
   "source": [
    "data[\"encoded defs\"] = new_col\n",
    "data[\"code array\"] = num_arrays\n",
    "data.head()"
   ]
  },
  {
   "cell_type": "code",
   "execution_count": 9,
   "metadata": {},
   "outputs": [
    {
     "data": {
      "text/html": [
       "<div>\n",
       "<style scoped>\n",
       "    .dataframe tbody tr th:only-of-type {\n",
       "        vertical-align: middle;\n",
       "    }\n",
       "\n",
       "    .dataframe tbody tr th {\n",
       "        vertical-align: top;\n",
       "    }\n",
       "\n",
       "    .dataframe thead th {\n",
       "        text-align: right;\n",
       "    }\n",
       "</style>\n",
       "<table border=\"1\" class=\"dataframe\">\n",
       "  <thead>\n",
       "    <tr style=\"text-align: right;\">\n",
       "      <th></th>\n",
       "      <th>defs</th>\n",
       "      <th>word</th>\n",
       "      <th>encoded defs</th>\n",
       "      <th>code array</th>\n",
       "      <th>class</th>\n",
       "    </tr>\n",
       "  </thead>\n",
       "  <tbody>\n",
       "    <tr>\n",
       "      <th>0</th>\n",
       "      <td>колпак на лампе</td>\n",
       "      <td>абажур</td>\n",
       "      <td>NADPN</td>\n",
       "      <td>[1, 3, 1]</td>\n",
       "      <td>0</td>\n",
       "    </tr>\n",
       "    <tr>\n",
       "      <th>1</th>\n",
       "      <td>настоятель католического монастыря</td>\n",
       "      <td>аббат</td>\n",
       "      <td>NADJN</td>\n",
       "      <td>[1, 2, 1]</td>\n",
       "      <td>0</td>\n",
       "    </tr>\n",
       "    <tr>\n",
       "      <th>2</th>\n",
       "      <td>католический священник</td>\n",
       "      <td>аббат</td>\n",
       "      <td>ADJN</td>\n",
       "      <td>[2, 1]</td>\n",
       "      <td>1</td>\n",
       "    </tr>\n",
       "    <tr>\n",
       "      <th>3</th>\n",
       "      <td>католический монастырь</td>\n",
       "      <td>аббатство</td>\n",
       "      <td>ADJN</td>\n",
       "      <td>[2, 1]</td>\n",
       "      <td>1</td>\n",
       "    </tr>\n",
       "    <tr>\n",
       "      <th>4</th>\n",
       "      <td>слово из первых букв</td>\n",
       "      <td>аббревиатура</td>\n",
       "      <td>NADPADJN</td>\n",
       "      <td>[1, 3, 2, 1]</td>\n",
       "      <td>0</td>\n",
       "    </tr>\n",
       "    <tr>\n",
       "      <th>5</th>\n",
       "      <td>сокращение</td>\n",
       "      <td>аббревиатура</td>\n",
       "      <td>N</td>\n",
       "      <td>[1]</td>\n",
       "      <td>1</td>\n",
       "    </tr>\n",
       "    <tr>\n",
       "      <th>6</th>\n",
       "      <td>искажение изображения</td>\n",
       "      <td>аберрация</td>\n",
       "      <td>NN</td>\n",
       "      <td>[1, 1]</td>\n",
       "      <td>1</td>\n",
       "    </tr>\n",
       "    <tr>\n",
       "      <th>7</th>\n",
       "      <td>отдельный фрагмент текста</td>\n",
       "      <td>абзац</td>\n",
       "      <td>ADJNN</td>\n",
       "      <td>[2, 1, 1]</td>\n",
       "      <td>0</td>\n",
       "    </tr>\n",
       "    <tr>\n",
       "      <th>8</th>\n",
       "      <td>текст с красной строки</td>\n",
       "      <td>абзац</td>\n",
       "      <td>NADPADJN</td>\n",
       "      <td>[1, 3, 2, 1]</td>\n",
       "      <td>0</td>\n",
       "    </tr>\n",
       "    <tr>\n",
       "      <th>9</th>\n",
       "      <td>поступающий в университет</td>\n",
       "      <td>абитуриент</td>\n",
       "      <td>VADPN</td>\n",
       "      <td>[4, 3, 1]</td>\n",
       "      <td>0</td>\n",
       "    </tr>\n",
       "    <tr>\n",
       "      <th>10</th>\n",
       "      <td>подписка</td>\n",
       "      <td>абонемент</td>\n",
       "      <td>N</td>\n",
       "      <td>[1]</td>\n",
       "      <td>1</td>\n",
       "    </tr>\n",
       "    <tr>\n",
       "      <th>11</th>\n",
       "      <td>отдел библиотеки, где книги выдаются на дом</td>\n",
       "      <td>абонемент</td>\n",
       "      <td>NNPUNCTADVNVADPN</td>\n",
       "      <td>[1, 1, 11, 7, 1, 4, 3, 1]</td>\n",
       "      <td>0</td>\n",
       "    </tr>\n",
       "    <tr>\n",
       "      <th>12</th>\n",
       "      <td>штурм корабля</td>\n",
       "      <td>абордаж</td>\n",
       "      <td>NN</td>\n",
       "      <td>[1, 1]</td>\n",
       "      <td>1</td>\n",
       "    </tr>\n",
       "    <tr>\n",
       "      <th>13</th>\n",
       "      <td>прерывание беременности</td>\n",
       "      <td>аборт</td>\n",
       "      <td>NN</td>\n",
       "      <td>[1, 1]</td>\n",
       "      <td>1</td>\n",
       "    </tr>\n",
       "    <tr>\n",
       "      <th>14</th>\n",
       "      <td>магическое заклинание</td>\n",
       "      <td>абракадабра</td>\n",
       "      <td>ADJN</td>\n",
       "      <td>[2, 1]</td>\n",
       "      <td>1</td>\n",
       "    </tr>\n",
       "    <tr>\n",
       "      <th>15</th>\n",
       "      <td>кавказский горец</td>\n",
       "      <td>абрек</td>\n",
       "      <td>ADJN</td>\n",
       "      <td>[2, 1]</td>\n",
       "      <td>1</td>\n",
       "    </tr>\n",
       "    <tr>\n",
       "      <th>16</th>\n",
       "      <td>оранжевый фрукт с большой косточкой</td>\n",
       "      <td>абрикос</td>\n",
       "      <td>ADJNADPADJN</td>\n",
       "      <td>[2, 1, 3, 2, 1]</td>\n",
       "      <td>0</td>\n",
       "    </tr>\n",
       "    <tr>\n",
       "      <th>17</th>\n",
       "      <td>контурный рисунок</td>\n",
       "      <td>абрис</td>\n",
       "      <td>ADJN</td>\n",
       "      <td>[2, 1]</td>\n",
       "      <td>1</td>\n",
       "    </tr>\n",
       "    <tr>\n",
       "      <th>18</th>\n",
       "      <td>внешние очертания</td>\n",
       "      <td>абрис</td>\n",
       "      <td>ADJN</td>\n",
       "      <td>[2, 1]</td>\n",
       "      <td>1</td>\n",
       "    </tr>\n",
       "    <tr>\n",
       "      <th>19</th>\n",
       "      <td>нечто неотносительное</td>\n",
       "      <td>абсолют</td>\n",
       "      <td>PADJ</td>\n",
       "      <td>[6, 2]</td>\n",
       "      <td>0</td>\n",
       "    </tr>\n",
       "  </tbody>\n",
       "</table>\n",
       "</div>"
      ],
      "text/plain": [
       "                                           defs          word  \\\n",
       "0                               колпак на лампе        абажур   \n",
       "1            настоятель католического монастыря         аббат   \n",
       "2                        католический священник         аббат   \n",
       "3                        католический монастырь     аббатство   \n",
       "4                          слово из первых букв  аббревиатура   \n",
       "5                                    сокращение  аббревиатура   \n",
       "6                         искажение изображения     аберрация   \n",
       "7                     отдельный фрагмент текста         абзац   \n",
       "8                        текст с красной строки         абзац   \n",
       "9                     поступающий в университет    абитуриент   \n",
       "10                                     подписка     абонемент   \n",
       "11  отдел библиотеки, где книги выдаются на дом     абонемент   \n",
       "12                                штурм корабля       абордаж   \n",
       "13                      прерывание беременности         аборт   \n",
       "14                        магическое заклинание   абракадабра   \n",
       "15                             кавказский горец         абрек   \n",
       "16          оранжевый фрукт с большой косточкой       абрикос   \n",
       "17                            контурный рисунок         абрис   \n",
       "18                            внешние очертания         абрис   \n",
       "19                        нечто неотносительное       абсолют   \n",
       "\n",
       "        encoded defs                 code array  class  \n",
       "0              NADPN                  [1, 3, 1]      0  \n",
       "1              NADJN                  [1, 2, 1]      0  \n",
       "2               ADJN                     [2, 1]      1  \n",
       "3               ADJN                     [2, 1]      1  \n",
       "4           NADPADJN               [1, 3, 2, 1]      0  \n",
       "5                  N                        [1]      1  \n",
       "6                 NN                     [1, 1]      1  \n",
       "7              ADJNN                  [2, 1, 1]      0  \n",
       "8           NADPADJN               [1, 3, 2, 1]      0  \n",
       "9              VADPN                  [4, 3, 1]      0  \n",
       "10                 N                        [1]      1  \n",
       "11  NNPUNCTADVNVADPN  [1, 1, 11, 7, 1, 4, 3, 1]      0  \n",
       "12                NN                     [1, 1]      1  \n",
       "13                NN                     [1, 1]      1  \n",
       "14              ADJN                     [2, 1]      1  \n",
       "15              ADJN                     [2, 1]      1  \n",
       "16       ADJNADPADJN            [2, 1, 3, 2, 1]      0  \n",
       "17              ADJN                     [2, 1]      1  \n",
       "18              ADJN                     [2, 1]      1  \n",
       "19              PADJ                     [6, 2]      0  "
      ]
     },
     "execution_count": 9,
     "metadata": {},
     "output_type": "execute_result"
    }
   ],
   "source": [
    "classes = []\n",
    "\n",
    "for code in data[\"encoded defs\"]:\n",
    "    flag = False\n",
    "    for pattern in patterns:\n",
    "        if re.fullmatch(pattern, code) and not flag:\n",
    "            classes.append(1)\n",
    "            flag = True\n",
    "    if not flag:\n",
    "        classes.append(0)\n",
    "    \n",
    "data[\"class\"] = classes\n",
    "data.head(20)"
   ]
  },
  {
   "cell_type": "code",
   "execution_count": 10,
   "metadata": {},
   "outputs": [
    {
     "data": {
      "text/html": [
       "<div>\n",
       "<style scoped>\n",
       "    .dataframe tbody tr th:only-of-type {\n",
       "        vertical-align: middle;\n",
       "    }\n",
       "\n",
       "    .dataframe tbody tr th {\n",
       "        vertical-align: top;\n",
       "    }\n",
       "\n",
       "    .dataframe thead th {\n",
       "        text-align: right;\n",
       "    }\n",
       "</style>\n",
       "<table border=\"1\" class=\"dataframe\">\n",
       "  <thead>\n",
       "    <tr style=\"text-align: right;\">\n",
       "      <th></th>\n",
       "      <th>word</th>\n",
       "      <th>defs</th>\n",
       "    </tr>\n",
       "  </thead>\n",
       "  <tbody>\n",
       "    <tr>\n",
       "      <th>0</th>\n",
       "      <td>абажур</td>\n",
       "      <td>верхняя часть лампы</td>\n",
       "    </tr>\n",
       "    <tr>\n",
       "      <th>1</th>\n",
       "      <td>абажур</td>\n",
       "      <td>часть лампы</td>\n",
       "    </tr>\n",
       "    <tr>\n",
       "      <th>2</th>\n",
       "      <td>абонемент</td>\n",
       "      <td>это карточка, которая позволяет тебе ходить в ...</td>\n",
       "    </tr>\n",
       "    <tr>\n",
       "      <th>3</th>\n",
       "      <td>абрикос</td>\n",
       "      <td>маленький оранжевый фрукт</td>\n",
       "    </tr>\n",
       "    <tr>\n",
       "      <th>4</th>\n",
       "      <td>абрикос</td>\n",
       "      <td>фрукт</td>\n",
       "    </tr>\n",
       "  </tbody>\n",
       "</table>\n",
       "</div>"
      ],
      "text/plain": [
       "        word                                               defs\n",
       "0     абажур                                верхняя часть лампы\n",
       "1     абажур                                        часть лампы\n",
       "2  абонемент  это карточка, которая позволяет тебе ходить в ...\n",
       "3    абрикос                          маленький оранжевый фрукт\n",
       "4    абрикос                                              фрукт"
      ]
     },
     "execution_count": 10,
     "metadata": {},
     "output_type": "execute_result"
    }
   ],
   "source": [
    "file2 = '004_human_set_3000.csv'\n",
    "\n",
    "human_data = pd.read_csv(file2, comment='#')\n",
    "human_data.head()"
   ]
  },
  {
   "cell_type": "code",
   "execution_count": 11,
   "metadata": {},
   "outputs": [
    {
     "data": {
      "text/html": [
       "<div>\n",
       "<style scoped>\n",
       "    .dataframe tbody tr th:only-of-type {\n",
       "        vertical-align: middle;\n",
       "    }\n",
       "\n",
       "    .dataframe tbody tr th {\n",
       "        vertical-align: top;\n",
       "    }\n",
       "\n",
       "    .dataframe thead th {\n",
       "        text-align: right;\n",
       "    }\n",
       "</style>\n",
       "<table border=\"1\" class=\"dataframe\">\n",
       "  <thead>\n",
       "    <tr style=\"text-align: right;\">\n",
       "      <th></th>\n",
       "      <th>word</th>\n",
       "      <th>defs</th>\n",
       "      <th>encoded defs</th>\n",
       "      <th>code array</th>\n",
       "    </tr>\n",
       "  </thead>\n",
       "  <tbody>\n",
       "    <tr>\n",
       "      <th>0</th>\n",
       "      <td>абажур</td>\n",
       "      <td>верхняя часть лампы</td>\n",
       "      <td>ADJNN</td>\n",
       "      <td>[2, 1, 1]</td>\n",
       "    </tr>\n",
       "    <tr>\n",
       "      <th>1</th>\n",
       "      <td>абажур</td>\n",
       "      <td>часть лампы</td>\n",
       "      <td>NN</td>\n",
       "      <td>[1, 1]</td>\n",
       "    </tr>\n",
       "    <tr>\n",
       "      <th>2</th>\n",
       "      <td>абонемент</td>\n",
       "      <td>это карточка, которая позволяет тебе ходить в ...</td>\n",
       "      <td>PNPUNCTPVPVADPNCXVDNADPN</td>\n",
       "      <td>[6, 1, 11, 6, 4, 6, 4, 3, 1, 5, 10, 4, 8, 1, 3...</td>\n",
       "    </tr>\n",
       "    <tr>\n",
       "      <th>3</th>\n",
       "      <td>абрикос</td>\n",
       "      <td>маленький оранжевый фрукт</td>\n",
       "      <td>ADJADJN</td>\n",
       "      <td>[2, 2, 1]</td>\n",
       "    </tr>\n",
       "    <tr>\n",
       "      <th>4</th>\n",
       "      <td>абрикос</td>\n",
       "      <td>фрукт</td>\n",
       "      <td>N</td>\n",
       "      <td>[1]</td>\n",
       "    </tr>\n",
       "  </tbody>\n",
       "</table>\n",
       "</div>"
      ],
      "text/plain": [
       "        word                                               defs  \\\n",
       "0     абажур                                верхняя часть лампы   \n",
       "1     абажур                                        часть лампы   \n",
       "2  абонемент  это карточка, которая позволяет тебе ходить в ...   \n",
       "3    абрикос                          маленький оранжевый фрукт   \n",
       "4    абрикос                                              фрукт   \n",
       "\n",
       "               encoded defs                                         code array  \n",
       "0                     ADJNN                                          [2, 1, 1]  \n",
       "1                        NN                                             [1, 1]  \n",
       "2  PNPUNCTPVPVADPNCXVDNADPN  [6, 1, 11, 6, 4, 6, 4, 3, 1, 5, 10, 4, 8, 1, 3...  \n",
       "3                   ADJADJN                                          [2, 2, 1]  \n",
       "4                         N                                                [1]  "
      ]
     },
     "execution_count": 11,
     "metadata": {},
     "output_type": "execute_result"
    }
   ],
   "source": [
    "codes = []\n",
    "arrays = []\n",
    "\n",
    "for sentence in human_data['defs']:\n",
    "    doc = nlp(sentence)\n",
    "    curr_str = \"\"\n",
    "    curr_arr = []\n",
    "    \n",
    "    for i in range(len(doc)):\n",
    "        word = doc[i]\n",
    "        pos_tag = word.pos_\n",
    "        if pos_tag not in symb:\n",
    "            curr_str += \"X\"\n",
    "            curr_arr.append(numb[\"X\"])\n",
    "            continue\n",
    "        curr_str += symb[pos_tag]\n",
    "        curr_arr.append(numb[pos_tag])\n",
    "        \n",
    "    codes.append(curr_str)\n",
    "    arrays.append(curr_arr)\n",
    "    \n",
    "    if len(curr_arr) >= max_code_len:\n",
    "        max_code_len = len(curr_arr)\n",
    "    \n",
    "human_data[\"encoded defs\"] = codes\n",
    "human_data[\"code array\"] = arrays\n",
    "human_data.head()"
   ]
  },
  {
   "cell_type": "code",
   "execution_count": 12,
   "metadata": {},
   "outputs": [
    {
     "data": {
      "text/html": [
       "<div>\n",
       "<style scoped>\n",
       "    .dataframe tbody tr th:only-of-type {\n",
       "        vertical-align: middle;\n",
       "    }\n",
       "\n",
       "    .dataframe tbody tr th {\n",
       "        vertical-align: top;\n",
       "    }\n",
       "\n",
       "    .dataframe thead th {\n",
       "        text-align: right;\n",
       "    }\n",
       "</style>\n",
       "<table border=\"1\" class=\"dataframe\">\n",
       "  <thead>\n",
       "    <tr style=\"text-align: right;\">\n",
       "      <th></th>\n",
       "      <th>word</th>\n",
       "      <th>defs</th>\n",
       "      <th>encoded defs</th>\n",
       "      <th>code array</th>\n",
       "      <th>class</th>\n",
       "    </tr>\n",
       "  </thead>\n",
       "  <tbody>\n",
       "    <tr>\n",
       "      <th>0</th>\n",
       "      <td>абажур</td>\n",
       "      <td>верхняя часть лампы</td>\n",
       "      <td>ADJNN</td>\n",
       "      <td>[2, 1, 1]</td>\n",
       "      <td>2</td>\n",
       "    </tr>\n",
       "    <tr>\n",
       "      <th>1</th>\n",
       "      <td>абажур</td>\n",
       "      <td>часть лампы</td>\n",
       "      <td>NN</td>\n",
       "      <td>[1, 1]</td>\n",
       "      <td>1</td>\n",
       "    </tr>\n",
       "    <tr>\n",
       "      <th>2</th>\n",
       "      <td>абонемент</td>\n",
       "      <td>это карточка, которая позволяет тебе ходить в ...</td>\n",
       "      <td>PNPUNCTPVPVADPNCXVDNADPN</td>\n",
       "      <td>[6, 1, 11, 6, 4, 6, 4, 3, 1, 5, 10, 4, 8, 1, 3...</td>\n",
       "      <td>2</td>\n",
       "    </tr>\n",
       "    <tr>\n",
       "      <th>3</th>\n",
       "      <td>абрикос</td>\n",
       "      <td>маленький оранжевый фрукт</td>\n",
       "      <td>ADJADJN</td>\n",
       "      <td>[2, 2, 1]</td>\n",
       "      <td>2</td>\n",
       "    </tr>\n",
       "    <tr>\n",
       "      <th>4</th>\n",
       "      <td>абрикос</td>\n",
       "      <td>фрукт</td>\n",
       "      <td>N</td>\n",
       "      <td>[1]</td>\n",
       "      <td>1</td>\n",
       "    </tr>\n",
       "    <tr>\n",
       "      <th>5</th>\n",
       "      <td>абрикоч</td>\n",
       "      <td>фрукт похожий на персик но меньше</td>\n",
       "      <td>NADJADPNCNUM</td>\n",
       "      <td>[1, 2, 3, 1, 5, 9]</td>\n",
       "      <td>2</td>\n",
       "    </tr>\n",
       "    <tr>\n",
       "      <th>6</th>\n",
       "      <td>абсцисс</td>\n",
       "      <td>ось ординат</td>\n",
       "      <td>NN</td>\n",
       "      <td>[1, 1]</td>\n",
       "      <td>1</td>\n",
       "    </tr>\n",
       "    <tr>\n",
       "      <th>7</th>\n",
       "      <td>авария</td>\n",
       "      <td>когда сталкиваются два транспортных средства</td>\n",
       "      <td>CVNUMADJN</td>\n",
       "      <td>[5, 4, 9, 2, 1]</td>\n",
       "      <td>2</td>\n",
       "    </tr>\n",
       "    <tr>\n",
       "      <th>8</th>\n",
       "      <td>авиабилет</td>\n",
       "      <td>я покупаю его, чтобы полететь в другую страну</td>\n",
       "      <td>PVPPUNCTCVADPADJN</td>\n",
       "      <td>[6, 4, 6, 11, 5, 4, 3, 2, 1]</td>\n",
       "      <td>2</td>\n",
       "    </tr>\n",
       "    <tr>\n",
       "      <th>9</th>\n",
       "      <td>авианосец</td>\n",
       "      <td>корабль, который переносит самолеты и вертолеты</td>\n",
       "      <td>NPUNCTPVNCN</td>\n",
       "      <td>[1, 11, 6, 4, 1, 5, 1]</td>\n",
       "      <td>2</td>\n",
       "    </tr>\n",
       "    <tr>\n",
       "      <th>10</th>\n",
       "      <td>авиценна</td>\n",
       "      <td>философ</td>\n",
       "      <td>N</td>\n",
       "      <td>[1]</td>\n",
       "      <td>1</td>\n",
       "    </tr>\n",
       "    <tr>\n",
       "      <th>11</th>\n",
       "      <td>австралия</td>\n",
       "      <td>там живут кенгуру</td>\n",
       "      <td>ADVVN</td>\n",
       "      <td>[7, 4, 1]</td>\n",
       "      <td>2</td>\n",
       "    </tr>\n",
       "    <tr>\n",
       "      <th>12</th>\n",
       "      <td>автобус</td>\n",
       "      <td>на нем я могу доехать до работы.</td>\n",
       "      <td>ADPPPVVADPNPUNCT</td>\n",
       "      <td>[3, 6, 6, 4, 4, 3, 1, 11]</td>\n",
       "      <td>2</td>\n",
       "    </tr>\n",
       "    <tr>\n",
       "      <th>13</th>\n",
       "      <td>автомобиль</td>\n",
       "      <td>это личное средство передвижения</td>\n",
       "      <td>DADJNN</td>\n",
       "      <td>[8, 2, 1, 1]</td>\n",
       "      <td>2</td>\n",
       "    </tr>\n",
       "    <tr>\n",
       "      <th>14</th>\n",
       "      <td>автомобиль</td>\n",
       "      <td>машина</td>\n",
       "      <td>N</td>\n",
       "      <td>[1]</td>\n",
       "      <td>1</td>\n",
       "    </tr>\n",
       "    <tr>\n",
       "      <th>15</th>\n",
       "      <td>автомобиль</td>\n",
       "      <td>машина по-другому</td>\n",
       "      <td>NADVADVADV</td>\n",
       "      <td>[1, 7, 7, 7]</td>\n",
       "      <td>2</td>\n",
       "    </tr>\n",
       "    <tr>\n",
       "      <th>16</th>\n",
       "      <td>ад</td>\n",
       "      <td>рай</td>\n",
       "      <td>N</td>\n",
       "      <td>[1]</td>\n",
       "      <td>1</td>\n",
       "    </tr>\n",
       "    <tr>\n",
       "      <th>17</th>\n",
       "      <td>ад</td>\n",
       "      <td>туда попадают грешники</td>\n",
       "      <td>ADVVN</td>\n",
       "      <td>[7, 4, 1]</td>\n",
       "      <td>2</td>\n",
       "    </tr>\n",
       "    <tr>\n",
       "      <th>18</th>\n",
       "      <td>ад</td>\n",
       "      <td>место, куда попадают люди после смерти, если н...</td>\n",
       "      <td>NPUNCTADVVNADPNPUNCTCV</td>\n",
       "      <td>[1, 11, 7, 4, 1, 3, 1, 11, 5, 4]</td>\n",
       "      <td>2</td>\n",
       "    </tr>\n",
       "    <tr>\n",
       "      <th>19</th>\n",
       "      <td>адюльтер</td>\n",
       "      <td>алю</td>\n",
       "      <td>N</td>\n",
       "      <td>[1]</td>\n",
       "      <td>1</td>\n",
       "    </tr>\n",
       "  </tbody>\n",
       "</table>\n",
       "</div>"
      ],
      "text/plain": [
       "          word                                               defs  \\\n",
       "0       абажур                                верхняя часть лампы   \n",
       "1       абажур                                        часть лампы   \n",
       "2    абонемент  это карточка, которая позволяет тебе ходить в ...   \n",
       "3      абрикос                          маленький оранжевый фрукт   \n",
       "4      абрикос                                              фрукт   \n",
       "5      абрикоч                  фрукт похожий на персик но меньше   \n",
       "6      абсцисс                                        ось ординат   \n",
       "7       авария       когда сталкиваются два транспортных средства   \n",
       "8    авиабилет      я покупаю его, чтобы полететь в другую страну   \n",
       "9    авианосец    корабль, который переносит самолеты и вертолеты   \n",
       "10    авиценна                                            философ   \n",
       "11   австралия                                  там живут кенгуру   \n",
       "12     автобус                   на нем я могу доехать до работы.   \n",
       "13  автомобиль                   это личное средство передвижения   \n",
       "14  автомобиль                                             машина   \n",
       "15  автомобиль                                  машина по-другому   \n",
       "16          ад                                                рай   \n",
       "17          ад                             туда попадают грешники   \n",
       "18          ад  место, куда попадают люди после смерти, если н...   \n",
       "19    адюльтер                                                алю   \n",
       "\n",
       "                encoded defs  \\\n",
       "0                      ADJNN   \n",
       "1                         NN   \n",
       "2   PNPUNCTPVPVADPNCXVDNADPN   \n",
       "3                    ADJADJN   \n",
       "4                          N   \n",
       "5               NADJADPNCNUM   \n",
       "6                         NN   \n",
       "7                  CVNUMADJN   \n",
       "8          PVPPUNCTCVADPADJN   \n",
       "9                NPUNCTPVNCN   \n",
       "10                         N   \n",
       "11                     ADVVN   \n",
       "12          ADPPPVVADPNPUNCT   \n",
       "13                    DADJNN   \n",
       "14                         N   \n",
       "15                NADVADVADV   \n",
       "16                         N   \n",
       "17                     ADVVN   \n",
       "18    NPUNCTADVVNADPNPUNCTCV   \n",
       "19                         N   \n",
       "\n",
       "                                           code array  class  \n",
       "0                                           [2, 1, 1]      2  \n",
       "1                                              [1, 1]      1  \n",
       "2   [6, 1, 11, 6, 4, 6, 4, 3, 1, 5, 10, 4, 8, 1, 3...      2  \n",
       "3                                           [2, 2, 1]      2  \n",
       "4                                                 [1]      1  \n",
       "5                                  [1, 2, 3, 1, 5, 9]      2  \n",
       "6                                              [1, 1]      1  \n",
       "7                                     [5, 4, 9, 2, 1]      2  \n",
       "8                        [6, 4, 6, 11, 5, 4, 3, 2, 1]      2  \n",
       "9                              [1, 11, 6, 4, 1, 5, 1]      2  \n",
       "10                                                [1]      1  \n",
       "11                                          [7, 4, 1]      2  \n",
       "12                          [3, 6, 6, 4, 4, 3, 1, 11]      2  \n",
       "13                                       [8, 2, 1, 1]      2  \n",
       "14                                                [1]      1  \n",
       "15                                       [1, 7, 7, 7]      2  \n",
       "16                                                [1]      1  \n",
       "17                                          [7, 4, 1]      2  \n",
       "18                   [1, 11, 7, 4, 1, 3, 1, 11, 5, 4]      2  \n",
       "19                                                [1]      1  "
      ]
     },
     "execution_count": 12,
     "metadata": {},
     "output_type": "execute_result"
    }
   ],
   "source": [
    "human_classes = []\n",
    "\n",
    "for code in human_data[\"encoded defs\"]:\n",
    "    flag = False\n",
    "    for pattern in patterns:\n",
    "        if re.fullmatch(pattern, code) and not flag:\n",
    "            human_classes.append(1)\n",
    "            flag = True\n",
    "    if not flag:\n",
    "        human_classes.append(2)\n",
    "    \n",
    "human_data[\"class\"] = human_classes\n",
    "human_data.head(20)"
   ]
  },
  {
   "cell_type": "code",
   "execution_count": 13,
   "metadata": {},
   "outputs": [
    {
     "data": {
      "text/html": [
       "<div>\n",
       "<style scoped>\n",
       "    .dataframe tbody tr th:only-of-type {\n",
       "        vertical-align: middle;\n",
       "    }\n",
       "\n",
       "    .dataframe tbody tr th {\n",
       "        vertical-align: top;\n",
       "    }\n",
       "\n",
       "    .dataframe thead th {\n",
       "        text-align: right;\n",
       "    }\n",
       "</style>\n",
       "<table border=\"1\" class=\"dataframe\">\n",
       "  <thead>\n",
       "    <tr style=\"text-align: right;\">\n",
       "      <th></th>\n",
       "      <th>class</th>\n",
       "      <th>code array</th>\n",
       "      <th>defs</th>\n",
       "      <th>encoded defs</th>\n",
       "      <th>word</th>\n",
       "    </tr>\n",
       "  </thead>\n",
       "  <tbody>\n",
       "    <tr>\n",
       "      <th>0</th>\n",
       "      <td>0</td>\n",
       "      <td>[1, 3, 1]</td>\n",
       "      <td>колпак на лампе</td>\n",
       "      <td>NADPN</td>\n",
       "      <td>абажур</td>\n",
       "    </tr>\n",
       "    <tr>\n",
       "      <th>1</th>\n",
       "      <td>0</td>\n",
       "      <td>[1, 2, 1]</td>\n",
       "      <td>настоятель католического монастыря</td>\n",
       "      <td>NADJN</td>\n",
       "      <td>аббат</td>\n",
       "    </tr>\n",
       "    <tr>\n",
       "      <th>2</th>\n",
       "      <td>1</td>\n",
       "      <td>[2, 1]</td>\n",
       "      <td>католический священник</td>\n",
       "      <td>ADJN</td>\n",
       "      <td>аббат</td>\n",
       "    </tr>\n",
       "    <tr>\n",
       "      <th>3</th>\n",
       "      <td>1</td>\n",
       "      <td>[2, 1]</td>\n",
       "      <td>католический монастырь</td>\n",
       "      <td>ADJN</td>\n",
       "      <td>аббатство</td>\n",
       "    </tr>\n",
       "    <tr>\n",
       "      <th>4</th>\n",
       "      <td>0</td>\n",
       "      <td>[1, 3, 2, 1]</td>\n",
       "      <td>слово из первых букв</td>\n",
       "      <td>NADPADJN</td>\n",
       "      <td>аббревиатура</td>\n",
       "    </tr>\n",
       "  </tbody>\n",
       "</table>\n",
       "</div>"
      ],
      "text/plain": [
       "   class    code array                                defs encoded defs  \\\n",
       "0      0     [1, 3, 1]                     колпак на лампе        NADPN   \n",
       "1      0     [1, 2, 1]  настоятель католического монастыря        NADJN   \n",
       "2      1        [2, 1]              католический священник         ADJN   \n",
       "3      1        [2, 1]              католический монастырь         ADJN   \n",
       "4      0  [1, 3, 2, 1]                слово из первых букв     NADPADJN   \n",
       "\n",
       "           word  \n",
       "0        абажур  \n",
       "1         аббат  \n",
       "2         аббат  \n",
       "3     аббатство  \n",
       "4  аббревиатура  "
      ]
     },
     "execution_count": 13,
     "metadata": {},
     "output_type": "execute_result"
    }
   ],
   "source": [
    "mix_data = pd.concat([data, human_data], sort=True)\n",
    "\n",
    "mix_data.head()"
   ]
  },
  {
   "cell_type": "markdown",
   "metadata": {},
   "source": [
    "Перемешаем строчки:"
   ]
  },
  {
   "cell_type": "code",
   "execution_count": 14,
   "metadata": {},
   "outputs": [
    {
     "data": {
      "text/html": [
       "<div>\n",
       "<style scoped>\n",
       "    .dataframe tbody tr th:only-of-type {\n",
       "        vertical-align: middle;\n",
       "    }\n",
       "\n",
       "    .dataframe tbody tr th {\n",
       "        vertical-align: top;\n",
       "    }\n",
       "\n",
       "    .dataframe thead th {\n",
       "        text-align: right;\n",
       "    }\n",
       "</style>\n",
       "<table border=\"1\" class=\"dataframe\">\n",
       "  <thead>\n",
       "    <tr style=\"text-align: right;\">\n",
       "      <th></th>\n",
       "      <th>class</th>\n",
       "      <th>code array</th>\n",
       "      <th>defs</th>\n",
       "      <th>encoded defs</th>\n",
       "      <th>word</th>\n",
       "    </tr>\n",
       "  </thead>\n",
       "  <tbody>\n",
       "    <tr>\n",
       "      <th>0</th>\n",
       "      <td>0</td>\n",
       "      <td>[2, 1, 3, 6, 6, 6]</td>\n",
       "      <td>запасная часть к чему-либо</td>\n",
       "      <td>ADJNADPPPP</td>\n",
       "      <td>запаска</td>\n",
       "    </tr>\n",
       "    <tr>\n",
       "      <th>1</th>\n",
       "      <td>0</td>\n",
       "      <td>[2, 1, 3, 2, 1, 3, 1, 2, 2, 1]</td>\n",
       "      <td>пищевой продукт из пресного теста в виде тонки...</td>\n",
       "      <td>ADJNADPADJNADPNADJADJN</td>\n",
       "      <td>вермишель</td>\n",
       "    </tr>\n",
       "    <tr>\n",
       "      <th>2</th>\n",
       "      <td>0</td>\n",
       "      <td>[2, 11, 2, 11, 2, 11, 1, 1, 11, 1]</td>\n",
       "      <td>наружная (передняя, верхняя) сторона предмета,...</td>\n",
       "      <td>ADJPUNCTADJPUNCTADJPUNCTNNPUNCTN</td>\n",
       "      <td>лицо</td>\n",
       "    </tr>\n",
       "    <tr>\n",
       "      <th>3</th>\n",
       "      <td>0</td>\n",
       "      <td>[3, 2, 11, 2, 1, 11, 1, 5, 10, 11, 1, 11]</td>\n",
       "      <td>об общеизвестных, прописных правилах, истинах ...</td>\n",
       "      <td>ADPADJPUNCTADJNPUNCTNCXPUNCTNPUNCT</td>\n",
       "      <td>политграмота</td>\n",
       "    </tr>\n",
       "    <tr>\n",
       "      <th>4</th>\n",
       "      <td>0</td>\n",
       "      <td>[4, 1, 1, 11, 4, 1]</td>\n",
       "      <td>организованная группа людей, занимающаяся банд...</td>\n",
       "      <td>VNNPUNCTVN</td>\n",
       "      <td>бандгруппа</td>\n",
       "    </tr>\n",
       "  </tbody>\n",
       "</table>\n",
       "</div>"
      ],
      "text/plain": [
       "   class                                 code array  \\\n",
       "0      0                         [2, 1, 3, 6, 6, 6]   \n",
       "1      0             [2, 1, 3, 2, 1, 3, 1, 2, 2, 1]   \n",
       "2      0         [2, 11, 2, 11, 2, 11, 1, 1, 11, 1]   \n",
       "3      0  [3, 2, 11, 2, 1, 11, 1, 5, 10, 11, 1, 11]   \n",
       "4      0                        [4, 1, 1, 11, 4, 1]   \n",
       "\n",
       "                                                defs  \\\n",
       "0                         запасная часть к чему-либо   \n",
       "1  пищевой продукт из пресного теста в виде тонки...   \n",
       "2  наружная (передняя, верхняя) сторона предмета,...   \n",
       "3  об общеизвестных, прописных правилах, истинах ...   \n",
       "4  организованная группа людей, занимающаяся банд...   \n",
       "\n",
       "                         encoded defs          word  \n",
       "0                          ADJNADPPPP       запаска  \n",
       "1              ADJNADPADJNADPNADJADJN     вермишель  \n",
       "2    ADJPUNCTADJPUNCTADJPUNCTNNPUNCTN          лицо  \n",
       "3  ADPADJPUNCTADJNPUNCTNCXPUNCTNPUNCT  политграмота  \n",
       "4                          VNNPUNCTVN    бандгруппа  "
      ]
     },
     "execution_count": 14,
     "metadata": {},
     "output_type": "execute_result"
    }
   ],
   "source": [
    "mix_data = mix_data.sample(frac=1).reset_index(drop=True)\n",
    "mix_data.head()"
   ]
  },
  {
   "cell_type": "code",
   "execution_count": 15,
   "metadata": {},
   "outputs": [],
   "source": [
    "mix_data.to_csv('mixed_dataset.csv')"
   ]
  },
  {
   "cell_type": "markdown",
   "metadata": {},
   "source": [
    "# Обучение LSTM-сети"
   ]
  },
  {
   "cell_type": "code",
   "execution_count": 16,
   "metadata": {},
   "outputs": [
    {
     "name": "stdout",
     "output_type": "stream",
     "text": [
      "(20829, 5)\n",
      "(8927, 5)\n"
     ]
    }
   ],
   "source": [
    "import numpy as np\n",
    "\n",
    "train, test = np.split(mix_data, [int(.7*len(mix_data))])\n",
    "print(train.shape)\n",
    "print(test.shape)"
   ]
  },
  {
   "cell_type": "code",
   "execution_count": 17,
   "metadata": {},
   "outputs": [],
   "source": [
    "from tensorflow.keras import utils\n",
    "from tensorflow.keras.preprocessing.sequence import pad_sequences\n",
    "\n",
    "nb_classes = 3\n",
    "\n",
    "y_train = utils.to_categorical(train[\"class\"], nb_classes)"
   ]
  },
  {
   "cell_type": "code",
   "execution_count": 18,
   "metadata": {},
   "outputs": [
    {
     "data": {
      "text/plain": [
       "array([[1., 0., 0.],\n",
       "       [1., 0., 0.],\n",
       "       [1., 0., 0.],\n",
       "       ...,\n",
       "       [0., 1., 0.],\n",
       "       [1., 0., 0.],\n",
       "       [1., 0., 0.]], dtype=float32)"
      ]
     },
     "execution_count": 18,
     "metadata": {},
     "output_type": "execute_result"
    }
   ],
   "source": [
    "y_train"
   ]
  },
  {
   "cell_type": "code",
   "execution_count": 19,
   "metadata": {},
   "outputs": [],
   "source": [
    "x_train = pad_sequences(train[\"code array\"], maxlen=max_code_len)"
   ]
  },
  {
   "cell_type": "code",
   "execution_count": 20,
   "metadata": {},
   "outputs": [
    {
     "data": {
      "text/plain": [
       "array([[ 0,  0,  0, ...,  6,  6,  6],\n",
       "       [ 0,  0,  0, ...,  2,  2,  1],\n",
       "       [ 0,  0,  0, ...,  1, 11,  1],\n",
       "       ...,\n",
       "       [ 0,  0,  0, ...,  1, 11,  1],\n",
       "       [ 0,  0,  0, ..., 11,  2,  1],\n",
       "       [ 0,  0,  0, ...,  5,  2,  1]])"
      ]
     },
     "execution_count": 20,
     "metadata": {},
     "output_type": "execute_result"
    }
   ],
   "source": [
    "x_train"
   ]
  },
  {
   "cell_type": "code",
   "execution_count": 21,
   "metadata": {},
   "outputs": [],
   "source": [
    "from tensorflow.keras.models import Sequential\n",
    "from tensorflow.keras.layers import Embedding, LSTM, Dense\n",
    "\n",
    "max_numb_val = 11\n",
    "\n",
    "model_lstm = Sequential()\n",
    "model_lstm.add(Embedding(max_numb_val + 1, 32, input_length=max_code_len))\n",
    "model_lstm.add(LSTM(16))\n",
    "model_lstm.add(Dense(3, activation='softmax'))"
   ]
  },
  {
   "cell_type": "code",
   "execution_count": 22,
   "metadata": {},
   "outputs": [],
   "source": [
    "model_lstm.compile(optimizer='adam', \n",
    "                   loss='categorical_crossentropy', \n",
    "                   metrics=['accuracy'])"
   ]
  },
  {
   "cell_type": "code",
   "execution_count": 23,
   "metadata": {},
   "outputs": [
    {
     "name": "stdout",
     "output_type": "stream",
     "text": [
      "Model: \"sequential\"\n",
      "_________________________________________________________________\n",
      "Layer (type)                 Output Shape              Param #   \n",
      "=================================================================\n",
      "embedding (Embedding)        (None, 52, 32)            384       \n",
      "_________________________________________________________________\n",
      "lstm (LSTM)                  (None, 16)                3136      \n",
      "_________________________________________________________________\n",
      "dense (Dense)                (None, 3)                 51        \n",
      "=================================================================\n",
      "Total params: 3,571\n",
      "Trainable params: 3,571\n",
      "Non-trainable params: 0\n",
      "_________________________________________________________________\n"
     ]
    }
   ],
   "source": [
    "model_lstm.summary()"
   ]
  },
  {
   "cell_type": "code",
   "execution_count": 24,
   "metadata": {},
   "outputs": [],
   "source": [
    "from tensorflow.keras.callbacks import ModelCheckpoint\n",
    "\n",
    "model_lstm_save_path = 'model_lstm.h5'\n",
    "checkpoint_callback_lstm = ModelCheckpoint(model_lstm_save_path,\n",
    "                                           monitor='val_accuracy',\n",
    "                                           batch_size=32,\n",
    "                                           save_best_only=True,\n",
    "                                           verbose=1)"
   ]
  },
  {
   "cell_type": "code",
   "execution_count": 25,
   "metadata": {},
   "outputs": [
    {
     "name": "stdout",
     "output_type": "stream",
     "text": [
      "Epoch 1/5\n",
      "586/586 [==============================] - 10s 14ms/step - loss: 0.5272 - accuracy: 0.8267 - val_loss: 0.2287 - val_accuracy: 0.9141\n",
      "\n",
      "Epoch 00001: val_accuracy improved from -inf to 0.91407, saving model to model_lstm.h5\n",
      "Epoch 2/5\n",
      "586/586 [==============================] - 7s 12ms/step - loss: 0.2475 - accuracy: 0.9163 - val_loss: 0.1857 - val_accuracy: 0.9390\n",
      "\n",
      "Epoch 00002: val_accuracy improved from 0.91407 to 0.93903, saving model to model_lstm.h5\n",
      "Epoch 3/5\n",
      "586/586 [==============================] - 7s 12ms/step - loss: 0.2196 - accuracy: 0.9219 - val_loss: 0.1696 - val_accuracy: 0.9429\n",
      "\n",
      "Epoch 00003: val_accuracy improved from 0.93903 to 0.94287, saving model to model_lstm.h5\n",
      "Epoch 4/5\n",
      "586/586 [==============================] - 7s 12ms/step - loss: 0.1852 - accuracy: 0.9354 - val_loss: 0.1573 - val_accuracy: 0.9443\n",
      "\n",
      "Epoch 00004: val_accuracy improved from 0.94287 to 0.94431, saving model to model_lstm.h5\n",
      "Epoch 5/5\n",
      "586/586 [==============================] - 7s 12ms/step - loss: 0.1814 - accuracy: 0.9357 - val_loss: 0.1487 - val_accuracy: 0.9434\n",
      "\n",
      "Epoch 00005: val_accuracy did not improve from 0.94431\n"
     ]
    }
   ],
   "source": [
    "history_lstm = model_lstm.fit(x_train, \n",
    "                              y_train, \n",
    "                              epochs=5,\n",
    "                              validation_split=0.1,\n",
    "                              callbacks=[checkpoint_callback_lstm])"
   ]
  },
  {
   "cell_type": "code",
   "execution_count": 26,
   "metadata": {},
   "outputs": [
    {
     "data": {
      "image/png": "[encoded data removed]",
      "text/plain": [
       "<Figure size 432x288 with 1 Axes>"
      ]
     },
     "metadata": {
      "needs_background": "light"
     },
     "output_type": "display_data"
    }
   ],
   "source": [
    "import matplotlib.pyplot as plt\n",
    "%matplotlib inline\n",
    "\n",
    "plt.plot(history_lstm.history['accuracy'], \n",
    "         label='Доля верных ответов на обучающем наборе')\n",
    "plt.plot(history_lstm.history['val_accuracy'], \n",
    "         label='Доля верных ответов на проверочном наборе')\n",
    "plt.xlabel('Эпоха обучения')\n",
    "plt.ylabel('Доля верных ответов')\n",
    "plt.legend()\n",
    "plt.show()"
   ]
  },
  {
   "cell_type": "markdown",
   "metadata": {},
   "source": [
    "# Оценка качества модели"
   ]
  },
  {
   "cell_type": "code",
   "execution_count": 27,
   "metadata": {},
   "outputs": [
    {
     "data": {
      "text/plain": [
       "array([[1., 0., 0.],\n",
       "       [1., 0., 0.],\n",
       "       [1., 0., 0.],\n",
       "       ...,\n",
       "       [0., 1., 0.],\n",
       "       [1., 0., 0.],\n",
       "       [0., 1., 0.]], dtype=float32)"
      ]
     },
     "execution_count": 27,
     "metadata": {},
     "output_type": "execute_result"
    }
   ],
   "source": [
    "y_test = utils.to_categorical(test[\"class\"], nb_classes)\n",
    "y_test"
   ]
  },
  {
   "cell_type": "code",
   "execution_count": 28,
   "metadata": {},
   "outputs": [
    {
     "data": {
      "text/plain": [
       "array([[ 0,  0,  0, ...,  5,  2,  1],\n",
       "       [ 0,  0,  0, ..., 11,  2,  1],\n",
       "       [ 0,  0,  0, ...,  1,  2,  1],\n",
       "       ...,\n",
       "       [ 0,  0,  0, ..., 11, 11,  1],\n",
       "       [ 0,  0,  0, ...,  2,  1,  1],\n",
       "       [ 0,  0,  0, ..., 11,  2,  1]])"
      ]
     },
     "execution_count": 28,
     "metadata": {},
     "output_type": "execute_result"
    }
   ],
   "source": [
    "x_test = pad_sequences(test[\"code array\"], maxlen=max_code_len)\n",
    "x_test"
   ]
  },
  {
   "cell_type": "code",
   "execution_count": 29,
   "metadata": {},
   "outputs": [
    {
     "name": "stdout",
     "output_type": "stream",
     "text": [
      "279/279 [==============================] - 1s 3ms/step - loss: 0.1873 - accuracy: 0.9364\n"
     ]
    },
    {
     "data": {
      "text/plain": [
       "[0.1872844099998474, 0.9363728165626526]"
      ]
     },
     "execution_count": 29,
     "metadata": {},
     "output_type": "execute_result"
    }
   ],
   "source": [
    "model_lstm.load_weights(model_lstm_save_path)\n",
    "model_lstm.evaluate(x_test, y_test, verbose=1)"
   ]
  },
  {
   "cell_type": "code",
   "execution_count": 30,
   "metadata": {},
   "outputs": [
    {
     "name": "stdout",
     "output_type": "stream",
     "text": [
      "[[6755   51  113]\n",
      " [  69 1375    0]\n",
      " [ 323   12  229]]\n"
     ]
    }
   ],
   "source": [
    "from sklearn.metrics import confusion_matrix\n",
    "\n",
    "y_pred = model_lstm.predict(x_test)\n",
    "cnf_matrix = confusion_matrix(np.argmax(y_test, axis=1), np.argmax(y_pred, axis=1))\n",
    "print(cnf_matrix)"
   ]
  },
  {
   "cell_type": "code",
   "execution_count": 31,
   "metadata": {},
   "outputs": [
    {
     "name": "stdout",
     "output_type": "stream",
     "text": [
      "Confusion matrix, without normalization\n"
     ]
    },
    {
     "data": {
      "image/png": "[encoded data removed]",
      "text/plain": [
       "<Figure size 720x576 with 2 Axes>"
      ]
     },
     "metadata": {
      "needs_background": "light"
     },
     "output_type": "display_data"
    }
   ],
   "source": [
    "font = {'size' : 15}\n",
    "plt.rc('font', **font)\n",
    "\n",
    "plt.figure(figsize=(10, 8))\n",
    "\n",
    "classes = [\"Formal\", \"Sequence\", \"Informal\"]\n",
    "title = \"Confusion matrix\"\n",
    "\n",
    "plt.imshow(cnf_matrix, cmap=plt.cm.Blues)\n",
    "plt.title(title)\n",
    "plt.colorbar()\n",
    "tick_marks = np.arange(len(classes))\n",
    "plt.xticks(tick_marks, classes, rotation=45)\n",
    "plt.yticks(tick_marks, classes)\n",
    "\n",
    "print(\"Confusion matrix, without normalization\")\n",
    "\n",
    "thresh = cnf_matrix.max() / 2.\n",
    "for i in range(nb_classes):\n",
    "    for j in range(nb_classes):\n",
    "        plt.text(j, i, cnf_matrix[i, j],\n",
    "                 horizontalalignment=\"center\",\n",
    "                 color=\"white\" if cnf_matrix[i, j] > thresh else \"black\")\n",
    "    \n",
    "plt.tight_layout()\n",
    "plt.ylabel('True label')\n",
    "plt.xlabel('Predicted label')\n",
    "plt.savefig('conf_matrix.png')\n",
    "plt.show()"
   ]
  },
  {
   "cell_type": "code",
   "execution_count": 32,
   "metadata": {},
   "outputs": [
    {
     "name": "stdout",
     "output_type": "stream",
     "text": [
      "Normalized confusion matrix\n"
     ]
    },
    {
     "data": {
      "image/png": "[encoded data removed]",
      "text/plain": [
       "<Figure size 720x576 with 2 Axes>"
      ]
     },
     "metadata": {
      "needs_background": "light"
     },
     "output_type": "display_data"
    }
   ],
   "source": [
    "font = {'size' : 15}\n",
    "plt.rc('font', **font)\n",
    "\n",
    "plt.figure(figsize=(10, 8))\n",
    "\n",
    "plt.imshow(cnf_matrix, cmap=plt.cm.Blues)\n",
    "plt.title(title)\n",
    "plt.colorbar()\n",
    "tick_marks = np.arange(len(classes))\n",
    "plt.xticks(tick_marks, classes, rotation=45)\n",
    "plt.yticks(tick_marks, classes)\n",
    "\n",
    "print(\"Normalized confusion matrix\")\n",
    "cnf_matrix = cnf_matrix.astype('float') / cnf_matrix.sum(axis=1)[:, np.newaxis]\n",
    "\n",
    "thresh = cnf_matrix.max() / 2.\n",
    "for i in range(nb_classes):\n",
    "    for j in range(nb_classes):\n",
    "        plt.text(j, i, \"{:.2f}\".format(cnf_matrix[i, j]),\n",
    "                 horizontalalignment=\"center\",\n",
    "                 color=\"white\" if cnf_matrix[i, j] > thresh else \"black\")\n",
    "    \n",
    "plt.tight_layout()\n",
    "plt.ylabel('True label')\n",
    "plt.xlabel('Predicted label')\n",
    "plt.savefig('normal_conf_matrix.png')\n",
    "plt.show()"
   ]
  },
  {
   "cell_type": "markdown",
   "metadata": {},
   "source": [
    "# Оценка времени работы"
   ]
  },
  {
   "cell_type": "code",
   "execution_count": 33,
   "metadata": {},
   "outputs": [
    {
     "name": "stdout",
     "output_type": "stream",
     "text": [
      "279/279 [==============================] - 1s 3ms/step - loss: 0.1873 - accuracy: 0.9364: 0s - loss: 0.197\n",
      "0.8557827472686768\n"
     ]
    }
   ],
   "source": [
    "import time\n",
    "\n",
    "start_time = time.time()\n",
    "model_lstm.load_weights(model_lstm_save_path)\n",
    "model_lstm.evaluate(x_test, y_test, verbose=1)\n",
    "end_time = time.time()\n",
    "total_time = end_time - start_time\n",
    "print(total_time)"
   ]
  },
  {
   "cell_type": "code",
   "execution_count": 34,
   "metadata": {},
   "outputs": [
    {
     "name": "stdout",
     "output_type": "stream",
     "text": [
      "9.586453985310595e-05\n"
     ]
    }
   ],
   "source": [
    "print(total_time / len(y_test))"
   ]
  },
  {
   "cell_type": "code",
   "execution_count": 35,
   "metadata": {},
   "outputs": [
    {
     "data": {
      "text/html": [
       "<div>\n",
       "<style scoped>\n",
       "    .dataframe tbody tr th:only-of-type {\n",
       "        vertical-align: middle;\n",
       "    }\n",
       "\n",
       "    .dataframe tbody tr th {\n",
       "        vertical-align: top;\n",
       "    }\n",
       "\n",
       "    .dataframe thead th {\n",
       "        text-align: right;\n",
       "    }\n",
       "</style>\n",
       "<table border=\"1\" class=\"dataframe\">\n",
       "  <thead>\n",
       "    <tr style=\"text-align: right;\">\n",
       "      <th></th>\n",
       "      <th>class</th>\n",
       "      <th>code array</th>\n",
       "      <th>defs</th>\n",
       "      <th>encoded defs</th>\n",
       "      <th>word</th>\n",
       "    </tr>\n",
       "  </thead>\n",
       "  <tbody>\n",
       "    <tr>\n",
       "      <th>20829</th>\n",
       "      <td>0</td>\n",
       "      <td>[2, 2, 1, 3, 1, 5, 2, 1]</td>\n",
       "      <td>форменный головной убор с козырьком и высоким ...</td>\n",
       "      <td>ADJADJNADPNCADJN</td>\n",
       "      <td>кепи</td>\n",
       "    </tr>\n",
       "    <tr>\n",
       "      <th>20830</th>\n",
       "      <td>0</td>\n",
       "      <td>[11, 2, 11, 2, 1]</td>\n",
       "      <td>, подлый, отвратительный человек</td>\n",
       "      <td>PUNCTADJPUNCTADJN</td>\n",
       "      <td>гад</td>\n",
       "    </tr>\n",
       "    <tr>\n",
       "      <th>20831</th>\n",
       "      <td>0</td>\n",
       "      <td>[11, 1, 2, 1]</td>\n",
       "      <td>, группа ассоциированных слов</td>\n",
       "      <td>PUNCTNADJN</td>\n",
       "      <td>лексема</td>\n",
       "    </tr>\n",
       "    <tr>\n",
       "      <th>20832</th>\n",
       "      <td>0</td>\n",
       "      <td>[2, 1, 3, 1, 11, 7, 3, 1, 5, 2, 1, 11]</td>\n",
       "      <td>загородная усадьба во Франции (часто с парком ...</td>\n",
       "      <td>ADJNADPNPUNCTADVADPNCADJNPUNCT</td>\n",
       "      <td>шато</td>\n",
       "    </tr>\n",
       "    <tr>\n",
       "      <th>20833</th>\n",
       "      <td>1</td>\n",
       "      <td>[1, 11, 1, 11, 1]</td>\n",
       "      <td>указ, постановление, приказание</td>\n",
       "      <td>NPUNCTNPUNCTN</td>\n",
       "      <td>распоряжение</td>\n",
       "    </tr>\n",
       "  </tbody>\n",
       "</table>\n",
       "</div>"
      ],
      "text/plain": [
       "       class                              code array  \\\n",
       "20829      0                [2, 2, 1, 3, 1, 5, 2, 1]   \n",
       "20830      0                       [11, 2, 11, 2, 1]   \n",
       "20831      0                           [11, 1, 2, 1]   \n",
       "20832      0  [2, 1, 3, 1, 11, 7, 3, 1, 5, 2, 1, 11]   \n",
       "20833      1                       [1, 11, 1, 11, 1]   \n",
       "\n",
       "                                                    defs  \\\n",
       "20829  форменный головной убор с козырьком и высоким ...   \n",
       "20830                   , подлый, отвратительный человек   \n",
       "20831                      , группа ассоциированных слов   \n",
       "20832  загородная усадьба во Франции (часто с парком ...   \n",
       "20833                    указ, постановление, приказание   \n",
       "\n",
       "                         encoded defs          word  \n",
       "20829                ADJADJNADPNCADJN          кепи  \n",
       "20830               PUNCTADJPUNCTADJN           гад  \n",
       "20831                      PUNCTNADJN       лексема  \n",
       "20832  ADJNADPNPUNCTADVADPNCADJNPUNCT          шато  \n",
       "20833                   NPUNCTNPUNCTN  распоряжение  "
      ]
     },
     "execution_count": 35,
     "metadata": {},
     "output_type": "execute_result"
    }
   ],
   "source": [
    "test.head()"
   ]
  },
  {
   "cell_type": "code",
   "execution_count": 36,
   "metadata": {},
   "outputs": [
    {
     "data": {
      "text/html": [
       "<div>\n",
       "<style scoped>\n",
       "    .dataframe tbody tr th:only-of-type {\n",
       "        vertical-align: middle;\n",
       "    }\n",
       "\n",
       "    .dataframe tbody tr th {\n",
       "        vertical-align: top;\n",
       "    }\n",
       "\n",
       "    .dataframe thead th {\n",
       "        text-align: right;\n",
       "    }\n",
       "</style>\n",
       "<table border=\"1\" class=\"dataframe\">\n",
       "  <thead>\n",
       "    <tr style=\"text-align: right;\">\n",
       "      <th></th>\n",
       "      <th>class</th>\n",
       "      <th>code array</th>\n",
       "      <th>defs</th>\n",
       "      <th>encoded defs</th>\n",
       "      <th>word</th>\n",
       "      <th>running time</th>\n",
       "    </tr>\n",
       "  </thead>\n",
       "  <tbody>\n",
       "    <tr>\n",
       "      <th>20829</th>\n",
       "      <td>0</td>\n",
       "      <td>[2, 2, 1, 3, 1, 5, 2, 1]</td>\n",
       "      <td>форменный головной убор с козырьком и высоким ...</td>\n",
       "      <td>ADJADJNADPNCADJN</td>\n",
       "      <td>кепи</td>\n",
       "      <td>0.283396</td>\n",
       "    </tr>\n",
       "    <tr>\n",
       "      <th>20830</th>\n",
       "      <td>0</td>\n",
       "      <td>[11, 2, 11, 2, 1]</td>\n",
       "      <td>, подлый, отвратительный человек</td>\n",
       "      <td>PUNCTADJPUNCTADJN</td>\n",
       "      <td>гад</td>\n",
       "      <td>0.006348</td>\n",
       "    </tr>\n",
       "    <tr>\n",
       "      <th>20831</th>\n",
       "      <td>0</td>\n",
       "      <td>[11, 1, 2, 1]</td>\n",
       "      <td>, группа ассоциированных слов</td>\n",
       "      <td>PUNCTNADJN</td>\n",
       "      <td>лексема</td>\n",
       "      <td>0.006024</td>\n",
       "    </tr>\n",
       "    <tr>\n",
       "      <th>20832</th>\n",
       "      <td>0</td>\n",
       "      <td>[2, 1, 3, 1, 11, 7, 3, 1, 5, 2, 1, 11]</td>\n",
       "      <td>загородная усадьба во Франции (часто с парком ...</td>\n",
       "      <td>ADJNADPNPUNCTADVADPNCADJNPUNCT</td>\n",
       "      <td>шато</td>\n",
       "      <td>0.004469</td>\n",
       "    </tr>\n",
       "    <tr>\n",
       "      <th>20833</th>\n",
       "      <td>1</td>\n",
       "      <td>[1, 11, 1, 11, 1]</td>\n",
       "      <td>указ, постановление, приказание</td>\n",
       "      <td>NPUNCTNPUNCTN</td>\n",
       "      <td>распоряжение</td>\n",
       "      <td>0.005760</td>\n",
       "    </tr>\n",
       "  </tbody>\n",
       "</table>\n",
       "</div>"
      ],
      "text/plain": [
       "       class                              code array  \\\n",
       "20829      0                [2, 2, 1, 3, 1, 5, 2, 1]   \n",
       "20830      0                       [11, 2, 11, 2, 1]   \n",
       "20831      0                           [11, 1, 2, 1]   \n",
       "20832      0  [2, 1, 3, 1, 11, 7, 3, 1, 5, 2, 1, 11]   \n",
       "20833      1                       [1, 11, 1, 11, 1]   \n",
       "\n",
       "                                                    defs  \\\n",
       "20829  форменный головной убор с козырьком и высоким ...   \n",
       "20830                   , подлый, отвратительный человек   \n",
       "20831                      , группа ассоциированных слов   \n",
       "20832  загородная усадьба во Франции (часто с парком ...   \n",
       "20833                    указ, постановление, приказание   \n",
       "\n",
       "                         encoded defs          word  running time  \n",
       "20829                ADJADJNADPNCADJN          кепи      0.283396  \n",
       "20830               PUNCTADJPUNCTADJN           гад      0.006348  \n",
       "20831                      PUNCTNADJN       лексема      0.006024  \n",
       "20832  ADJNADPNPUNCTADVADPNCADJNPUNCT          шато      0.004469  \n",
       "20833                   NPUNCTNPUNCTN  распоряжение      0.005760  "
      ]
     },
     "execution_count": 36,
     "metadata": {},
     "output_type": "execute_result"
    }
   ],
   "source": [
    "times_array = []\n",
    "\n",
    "for i in range(len(x_test)):\n",
    "    start_time = time.time()\n",
    "    model_lstm.predict_on_batch(np.array([x_test[i]]))\n",
    "    end_time = time.time()\n",
    "    curr_time = end_time - start_time\n",
    "    times_array.append(curr_time)\n",
    "\n",
    "test['running time'] = times_array\n",
    "test.head()"
   ]
  },
  {
   "cell_type": "markdown",
   "metadata": {},
   "source": [
    "Теперь посчитаем разные характеристики (время в секундах):"
   ]
  },
  {
   "cell_type": "code",
   "execution_count": 37,
   "metadata": {},
   "outputs": [
    {
     "data": {
      "text/plain": [
       "0.003901243209838867"
      ]
     },
     "execution_count": 37,
     "metadata": {},
     "output_type": "execute_result"
    }
   ],
   "source": [
    "test['running time'].min()"
   ]
  },
  {
   "cell_type": "code",
   "execution_count": 38,
   "metadata": {},
   "outputs": [
    {
     "data": {
      "text/plain": [
       "0.28339624404907227"
      ]
     },
     "execution_count": 38,
     "metadata": {},
     "output_type": "execute_result"
    }
   ],
   "source": [
    "test['running time'].max()"
   ]
  },
  {
   "cell_type": "code",
   "execution_count": 39,
   "metadata": {},
   "outputs": [
    {
     "data": {
      "text/plain": [
       "0.0050296783447265625"
      ]
     },
     "execution_count": 39,
     "metadata": {},
     "output_type": "execute_result"
    }
   ],
   "source": [
    "test['running time'].median()"
   ]
  },
  {
   "cell_type": "code",
   "execution_count": 40,
   "metadata": {},
   "outputs": [
    {
     "data": {
      "text/plain": [
       "0.0053308292934605315"
      ]
     },
     "execution_count": 40,
     "metadata": {},
     "output_type": "execute_result"
    }
   ],
   "source": [
    "test['running time'].mean()"
   ]
  },
  {
   "cell_type": "markdown",
   "metadata": {},
   "source": [
    "## Корреляция между временем предсказания и длиной определения"
   ]
  },
  {
   "cell_type": "code",
   "execution_count": 41,
   "metadata": {},
   "outputs": [
    {
     "data": {
      "text/html": [
       "<div>\n",
       "<style scoped>\n",
       "    .dataframe tbody tr th:only-of-type {\n",
       "        vertical-align: middle;\n",
       "    }\n",
       "\n",
       "    .dataframe tbody tr th {\n",
       "        vertical-align: top;\n",
       "    }\n",
       "\n",
       "    .dataframe thead th {\n",
       "        text-align: right;\n",
       "    }\n",
       "</style>\n",
       "<table border=\"1\" class=\"dataframe\">\n",
       "  <thead>\n",
       "    <tr style=\"text-align: right;\">\n",
       "      <th></th>\n",
       "      <th>class</th>\n",
       "      <th>code array</th>\n",
       "      <th>defs</th>\n",
       "      <th>encoded defs</th>\n",
       "      <th>word</th>\n",
       "      <th>running time</th>\n",
       "      <th>defs_without_punct</th>\n",
       "    </tr>\n",
       "  </thead>\n",
       "  <tbody>\n",
       "    <tr>\n",
       "      <th>20829</th>\n",
       "      <td>0</td>\n",
       "      <td>[2, 2, 1, 3, 1, 5, 2, 1]</td>\n",
       "      <td>форменный головной убор с козырьком и высоким ...</td>\n",
       "      <td>ADJADJNADPNCADJN</td>\n",
       "      <td>кепи</td>\n",
       "      <td>0.283396</td>\n",
       "      <td>форменный головной убор с козырьком и высоким ...</td>\n",
       "    </tr>\n",
       "    <tr>\n",
       "      <th>20830</th>\n",
       "      <td>0</td>\n",
       "      <td>[11, 2, 11, 2, 1]</td>\n",
       "      <td>, подлый, отвратительный человек</td>\n",
       "      <td>PUNCTADJPUNCTADJN</td>\n",
       "      <td>гад</td>\n",
       "      <td>0.006348</td>\n",
       "      <td>подлый отвратительный человек</td>\n",
       "    </tr>\n",
       "    <tr>\n",
       "      <th>20831</th>\n",
       "      <td>0</td>\n",
       "      <td>[11, 1, 2, 1]</td>\n",
       "      <td>, группа ассоциированных слов</td>\n",
       "      <td>PUNCTNADJN</td>\n",
       "      <td>лексема</td>\n",
       "      <td>0.006024</td>\n",
       "      <td>группа ассоциированных слов</td>\n",
       "    </tr>\n",
       "    <tr>\n",
       "      <th>20832</th>\n",
       "      <td>0</td>\n",
       "      <td>[2, 1, 3, 1, 11, 7, 3, 1, 5, 2, 1, 11]</td>\n",
       "      <td>загородная усадьба во Франции (часто с парком ...</td>\n",
       "      <td>ADJNADPNPUNCTADVADPNCADJNPUNCT</td>\n",
       "      <td>шато</td>\n",
       "      <td>0.004469</td>\n",
       "      <td>загородная усадьба во Франции часто с парком и...</td>\n",
       "    </tr>\n",
       "    <tr>\n",
       "      <th>20833</th>\n",
       "      <td>1</td>\n",
       "      <td>[1, 11, 1, 11, 1]</td>\n",
       "      <td>указ, постановление, приказание</td>\n",
       "      <td>NPUNCTNPUNCTN</td>\n",
       "      <td>распоряжение</td>\n",
       "      <td>0.005760</td>\n",
       "      <td>указ постановление приказание</td>\n",
       "    </tr>\n",
       "  </tbody>\n",
       "</table>\n",
       "</div>"
      ],
      "text/plain": [
       "       class                              code array  \\\n",
       "20829      0                [2, 2, 1, 3, 1, 5, 2, 1]   \n",
       "20830      0                       [11, 2, 11, 2, 1]   \n",
       "20831      0                           [11, 1, 2, 1]   \n",
       "20832      0  [2, 1, 3, 1, 11, 7, 3, 1, 5, 2, 1, 11]   \n",
       "20833      1                       [1, 11, 1, 11, 1]   \n",
       "\n",
       "                                                    defs  \\\n",
       "20829  форменный головной убор с козырьком и высоким ...   \n",
       "20830                   , подлый, отвратительный человек   \n",
       "20831                      , группа ассоциированных слов   \n",
       "20832  загородная усадьба во Франции (часто с парком ...   \n",
       "20833                    указ, постановление, приказание   \n",
       "\n",
       "                         encoded defs          word  running time  \\\n",
       "20829                ADJADJNADPNCADJN          кепи      0.283396   \n",
       "20830               PUNCTADJPUNCTADJN           гад      0.006348   \n",
       "20831                      PUNCTNADJN       лексема      0.006024   \n",
       "20832  ADJNADPNPUNCTADVADPNCADJNPUNCT          шато      0.004469   \n",
       "20833                   NPUNCTNPUNCTN  распоряжение      0.005760   \n",
       "\n",
       "                                      defs_without_punct  \n",
       "20829  форменный головной убор с козырьком и высоким ...  \n",
       "20830                      подлый отвратительный человек  \n",
       "20831                        группа ассоциированных слов  \n",
       "20832  загородная усадьба во Франции часто с парком и...  \n",
       "20833                      указ постановление приказание  "
      ]
     },
     "execution_count": 41,
     "metadata": {},
     "output_type": "execute_result"
    }
   ],
   "source": [
    "from string import punctuation\n",
    "\n",
    "test['defs_without_punct'] =  test.apply(lambda row: ''.join([s for s in row.defs if s not in punctuation]), axis=1)\n",
    "test.head()"
   ]
  },
  {
   "cell_type": "code",
   "execution_count": 42,
   "metadata": {},
   "outputs": [
    {
     "data": {
      "text/html": [
       "<div>\n",
       "<style scoped>\n",
       "    .dataframe tbody tr th:only-of-type {\n",
       "        vertical-align: middle;\n",
       "    }\n",
       "\n",
       "    .dataframe tbody tr th {\n",
       "        vertical-align: top;\n",
       "    }\n",
       "\n",
       "    .dataframe thead th {\n",
       "        text-align: right;\n",
       "    }\n",
       "</style>\n",
       "<table border=\"1\" class=\"dataframe\">\n",
       "  <thead>\n",
       "    <tr style=\"text-align: right;\">\n",
       "      <th></th>\n",
       "      <th>class</th>\n",
       "      <th>code array</th>\n",
       "      <th>defs</th>\n",
       "      <th>encoded defs</th>\n",
       "      <th>word</th>\n",
       "      <th>running time</th>\n",
       "      <th>defs_without_punct</th>\n",
       "      <th>amount_of_words</th>\n",
       "    </tr>\n",
       "  </thead>\n",
       "  <tbody>\n",
       "    <tr>\n",
       "      <th>20829</th>\n",
       "      <td>0</td>\n",
       "      <td>[2, 2, 1, 3, 1, 5, 2, 1]</td>\n",
       "      <td>форменный головной убор с козырьком и высоким ...</td>\n",
       "      <td>ADJADJNADPNCADJN</td>\n",
       "      <td>кепи</td>\n",
       "      <td>0.283396</td>\n",
       "      <td>форменный головной убор с козырьком и высоким ...</td>\n",
       "      <td>8</td>\n",
       "    </tr>\n",
       "    <tr>\n",
       "      <th>20830</th>\n",
       "      <td>0</td>\n",
       "      <td>[11, 2, 11, 2, 1]</td>\n",
       "      <td>, подлый, отвратительный человек</td>\n",
       "      <td>PUNCTADJPUNCTADJN</td>\n",
       "      <td>гад</td>\n",
       "      <td>0.006348</td>\n",
       "      <td>подлый отвратительный человек</td>\n",
       "      <td>3</td>\n",
       "    </tr>\n",
       "    <tr>\n",
       "      <th>20831</th>\n",
       "      <td>0</td>\n",
       "      <td>[11, 1, 2, 1]</td>\n",
       "      <td>, группа ассоциированных слов</td>\n",
       "      <td>PUNCTNADJN</td>\n",
       "      <td>лексема</td>\n",
       "      <td>0.006024</td>\n",
       "      <td>группа ассоциированных слов</td>\n",
       "      <td>3</td>\n",
       "    </tr>\n",
       "    <tr>\n",
       "      <th>20832</th>\n",
       "      <td>0</td>\n",
       "      <td>[2, 1, 3, 1, 11, 7, 3, 1, 5, 2, 1, 11]</td>\n",
       "      <td>загородная усадьба во Франции (часто с парком ...</td>\n",
       "      <td>ADJNADPNPUNCTADVADPNCADJNPUNCT</td>\n",
       "      <td>шато</td>\n",
       "      <td>0.004469</td>\n",
       "      <td>загородная усадьба во Франции часто с парком и...</td>\n",
       "      <td>10</td>\n",
       "    </tr>\n",
       "    <tr>\n",
       "      <th>20833</th>\n",
       "      <td>1</td>\n",
       "      <td>[1, 11, 1, 11, 1]</td>\n",
       "      <td>указ, постановление, приказание</td>\n",
       "      <td>NPUNCTNPUNCTN</td>\n",
       "      <td>распоряжение</td>\n",
       "      <td>0.005760</td>\n",
       "      <td>указ постановление приказание</td>\n",
       "      <td>3</td>\n",
       "    </tr>\n",
       "  </tbody>\n",
       "</table>\n",
       "</div>"
      ],
      "text/plain": [
       "       class                              code array  \\\n",
       "20829      0                [2, 2, 1, 3, 1, 5, 2, 1]   \n",
       "20830      0                       [11, 2, 11, 2, 1]   \n",
       "20831      0                           [11, 1, 2, 1]   \n",
       "20832      0  [2, 1, 3, 1, 11, 7, 3, 1, 5, 2, 1, 11]   \n",
       "20833      1                       [1, 11, 1, 11, 1]   \n",
       "\n",
       "                                                    defs  \\\n",
       "20829  форменный головной убор с козырьком и высоким ...   \n",
       "20830                   , подлый, отвратительный человек   \n",
       "20831                      , группа ассоциированных слов   \n",
       "20832  загородная усадьба во Франции (часто с парком ...   \n",
       "20833                    указ, постановление, приказание   \n",
       "\n",
       "                         encoded defs          word  running time  \\\n",
       "20829                ADJADJNADPNCADJN          кепи      0.283396   \n",
       "20830               PUNCTADJPUNCTADJN           гад      0.006348   \n",
       "20831                      PUNCTNADJN       лексема      0.006024   \n",
       "20832  ADJNADPNPUNCTADVADPNCADJNPUNCT          шато      0.004469   \n",
       "20833                   NPUNCTNPUNCTN  распоряжение      0.005760   \n",
       "\n",
       "                                      defs_without_punct  amount_of_words  \n",
       "20829  форменный головной убор с козырьком и высоким ...                8  \n",
       "20830                      подлый отвратительный человек                3  \n",
       "20831                        группа ассоциированных слов                3  \n",
       "20832  загородная усадьба во Франции часто с парком и...               10  \n",
       "20833                      указ постановление приказание                3  "
      ]
     },
     "execution_count": 42,
     "metadata": {},
     "output_type": "execute_result"
    }
   ],
   "source": [
    "test['amount_of_words'] =  test.apply(lambda row: len(row.defs_without_punct.split()), axis=1)\n",
    "test.head()"
   ]
  },
  {
   "cell_type": "code",
   "execution_count": 43,
   "metadata": {},
   "outputs": [
    {
     "data": {
      "text/plain": [
       "0.0030001995718346177"
      ]
     },
     "execution_count": 43,
     "metadata": {},
     "output_type": "execute_result"
    }
   ],
   "source": [
    "test['running time'].corr(test['amount_of_words'])"
   ]
  },
  {
   "cell_type": "markdown",
   "metadata": {},
   "source": [
    "Получили положительную корреляцию => большим значениям времени соответствует большие длины определений, и наоборот."
   ]
  }
 ],
 "metadata": {
  "kernelspec": {
   "display_name": "Python 3",
   "language": "python",
   "name": "python3"
  },
  "language_info": {
   "codemirror_mode": {
    "name": "ipython",
    "version": 3
   },
   "file_extension": ".py",
   "mimetype": "text/x-python",
   "name": "python",
   "nbconvert_exporter": "python",
   "pygments_lexer": "ipython3",
   "version": "3.7.3"
  }
 },
 "nbformat": 4,
 "nbformat_minor": 2
}
