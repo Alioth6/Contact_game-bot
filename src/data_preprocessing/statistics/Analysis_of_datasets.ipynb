{
 "cells": [
  {
   "cell_type": "markdown",
   "metadata": {},
   "source": [
    "## Данные"
   ]
  },
  {
   "cell_type": "code",
   "execution_count": 1,
   "metadata": {},
   "outputs": [],
   "source": [
    "import pandas as pd\n",
    "import numpy as np"
   ]
  },
  {
   "cell_type": "code",
   "execution_count": 2,
   "metadata": {},
   "outputs": [
    {
     "data": {
      "text/html": [
       "<div>\n",
       "<style scoped>\n",
       "    .dataframe tbody tr th:only-of-type {\n",
       "        vertical-align: middle;\n",
       "    }\n",
       "\n",
       "    .dataframe tbody tr th {\n",
       "        vertical-align: top;\n",
       "    }\n",
       "\n",
       "    .dataframe thead th {\n",
       "        text-align: right;\n",
       "    }\n",
       "</style>\n",
       "<table border=\"1\" class=\"dataframe\">\n",
       "  <thead>\n",
       "    <tr style=\"text-align: right;\">\n",
       "      <th></th>\n",
       "      <th>word</th>\n",
       "      <th>defs</th>\n",
       "    </tr>\n",
       "  </thead>\n",
       "  <tbody>\n",
       "    <tr>\n",
       "      <th>0</th>\n",
       "      <td>абажур</td>\n",
       "      <td>верхняя часть лампы</td>\n",
       "    </tr>\n",
       "    <tr>\n",
       "      <th>1</th>\n",
       "      <td>абажур</td>\n",
       "      <td>часть лампы</td>\n",
       "    </tr>\n",
       "    <tr>\n",
       "      <th>2</th>\n",
       "      <td>абонемент</td>\n",
       "      <td>это карточка, которая позволяет тебе ходить в ...</td>\n",
       "    </tr>\n",
       "    <tr>\n",
       "      <th>3</th>\n",
       "      <td>абрикос</td>\n",
       "      <td>маленький оранжевый фрукт</td>\n",
       "    </tr>\n",
       "    <tr>\n",
       "      <th>4</th>\n",
       "      <td>абрикос</td>\n",
       "      <td>фрукт</td>\n",
       "    </tr>\n",
       "  </tbody>\n",
       "</table>\n",
       "</div>"
      ],
      "text/plain": [
       "        word                                               defs\n",
       "0     абажур                                верхняя часть лампы\n",
       "1     абажур                                        часть лампы\n",
       "2  абонемент  это карточка, которая позволяет тебе ходить в ...\n",
       "3    абрикос                          маленький оранжевый фрукт\n",
       "4    абрикос                                              фрукт"
      ]
     },
     "execution_count": 2,
     "metadata": {},
     "output_type": "execute_result"
    }
   ],
   "source": [
    "data = pd.read_csv('004_human_set_3000.csv')\n",
    "data.head()"
   ]
  },
  {
   "cell_type": "code",
   "execution_count": 3,
   "metadata": {},
   "outputs": [
    {
     "data": {
      "text/plain": [
       "(2895, 2)"
      ]
     },
     "execution_count": 3,
     "metadata": {},
     "output_type": "execute_result"
    }
   ],
   "source": [
    "data.shape"
   ]
  },
  {
   "cell_type": "code",
   "execution_count": 4,
   "metadata": {},
   "outputs": [
    {
     "name": "stdout",
     "output_type": "stream",
     "text": [
      "(26861, 3)\n"
     ]
    },
    {
     "data": {
      "text/html": [
       "<div>\n",
       "<style scoped>\n",
       "    .dataframe tbody tr th:only-of-type {\n",
       "        vertical-align: middle;\n",
       "    }\n",
       "\n",
       "    .dataframe tbody tr th {\n",
       "        vertical-align: top;\n",
       "    }\n",
       "\n",
       "    .dataframe thead th {\n",
       "        text-align: right;\n",
       "    }\n",
       "</style>\n",
       "<table border=\"1\" class=\"dataframe\">\n",
       "  <thead>\n",
       "    <tr style=\"text-align: right;\">\n",
       "      <th></th>\n",
       "      <th>defs</th>\n",
       "      <th>word</th>\n",
       "      <th>len</th>\n",
       "    </tr>\n",
       "  </thead>\n",
       "  <tbody>\n",
       "    <tr>\n",
       "      <th>0</th>\n",
       "      <td>колпак на лампе</td>\n",
       "      <td>абажур</td>\n",
       "      <td>15</td>\n",
       "    </tr>\n",
       "    <tr>\n",
       "      <th>1</th>\n",
       "      <td>настоятель католического монастыря</td>\n",
       "      <td>аббат</td>\n",
       "      <td>34</td>\n",
       "    </tr>\n",
       "    <tr>\n",
       "      <th>2</th>\n",
       "      <td>католический священник</td>\n",
       "      <td>аббат</td>\n",
       "      <td>22</td>\n",
       "    </tr>\n",
       "    <tr>\n",
       "      <th>3</th>\n",
       "      <td>католический монастырь</td>\n",
       "      <td>аббатство</td>\n",
       "      <td>22</td>\n",
       "    </tr>\n",
       "    <tr>\n",
       "      <th>4</th>\n",
       "      <td>слово из первых букв</td>\n",
       "      <td>аббревиатура</td>\n",
       "      <td>20</td>\n",
       "    </tr>\n",
       "  </tbody>\n",
       "</table>\n",
       "</div>"
      ],
      "text/plain": [
       "                                 defs          word  len\n",
       "0                     колпак на лампе        абажур   15\n",
       "1  настоятель католического монастыря         аббат   34\n",
       "2              католический священник         аббат   22\n",
       "3              католический монастырь     аббатство   22\n",
       "4                слово из первых букв  аббревиатура   20"
      ]
     },
     "execution_count": 4,
     "metadata": {},
     "output_type": "execute_result"
    }
   ],
   "source": [
    "formal_data = pd.read_csv('test_set_002.csv', delimiter=',')\n",
    "\n",
    "print(formal_data.shape)\n",
    "formal_data.head()"
   ]
  },
  {
   "cell_type": "markdown",
   "metadata": {},
   "source": [
    "## Добавим новые признаки"
   ]
  },
  {
   "cell_type": "code",
   "execution_count": 5,
   "metadata": {},
   "outputs": [],
   "source": [
    "import spacy\n",
    "\n",
    "nlp = spacy.load('ru_core_news_lg')"
   ]
  },
  {
   "cell_type": "code",
   "execution_count": 6,
   "metadata": {},
   "outputs": [],
   "source": [
    "from string import punctuation\n",
    "from nltk.corpus import stopwords\n",
    "from nltk.tokenize import word_tokenize\n",
    "\n",
    "stops = stopwords.words(\"russian\")"
   ]
  },
  {
   "cell_type": "code",
   "execution_count": 7,
   "metadata": {},
   "outputs": [],
   "source": [
    "def add_new_features(data):\n",
    "\n",
    "    lengths = []\n",
    "    verbs = []\n",
    "    nouns = []\n",
    "    adj = []\n",
    "    prons = []\n",
    "    punct = []\n",
    "    len_of_words = []\n",
    "    \n",
    "    for i, row in data.iterrows():\n",
    "        lengths.append(len(row['defs'].split()))\n",
    "    data['len'] = lengths\n",
    "\n",
    "    for text in data['defs']:\n",
    "        puncts = ''.join(x for x in text if x in punctuation)\n",
    "        punct.append(len(puncts))\n",
    "        \n",
    "        text = ''.join(x for x in text if x not in punctuation)\n",
    "        words = word_tokenize(text, language=\"russian\")\n",
    "        \n",
    "        curr_sum = 0\n",
    "        for word in words:\n",
    "            curr_sum += len(word)\n",
    "        if len(words):\n",
    "            len_of_words.append(curr_sum / len(words))\n",
    "        else:\n",
    "            len_of_words.append(0)\n",
    "        \n",
    "        words = [word for word in words if word not in stops]\n",
    "        text = ' '.join(words)\n",
    "        doc = nlp(text)\n",
    "        curr_verbs, curr_nouns, curr_adj, curr_prons = 0, 0, 0, 0\n",
    "        for token in doc:\n",
    "            if token.pos_ == \"VERB\":\n",
    "                curr_verbs += 1\n",
    "            if token.pos_ == \"NOUN\":\n",
    "                curr_nouns += 1\n",
    "            if token.pos_ == \"ADJ\":\n",
    "                curr_adj += 1\n",
    "            if token.pos_ == \"PRON\":\n",
    "                curr_prons += 1\n",
    "        verbs.append(curr_verbs)\n",
    "        nouns.append(curr_nouns)\n",
    "        adj.append(curr_adj)\n",
    "        prons.append(curr_prons)\n",
    "        \n",
    "    data['verbs'] = verbs\n",
    "    data['nouns'] = nouns\n",
    "    data['adj'] = adj\n",
    "    data['prons'] = prons\n",
    "    data['punct'] = punct\n",
    "    data['mean_word_len'] = len_of_words\n",
    "    "
   ]
  },
  {
   "cell_type": "code",
   "execution_count": 8,
   "metadata": {},
   "outputs": [
    {
     "data": {
      "text/html": [
       "<div>\n",
       "<style scoped>\n",
       "    .dataframe tbody tr th:only-of-type {\n",
       "        vertical-align: middle;\n",
       "    }\n",
       "\n",
       "    .dataframe tbody tr th {\n",
       "        vertical-align: top;\n",
       "    }\n",
       "\n",
       "    .dataframe thead th {\n",
       "        text-align: right;\n",
       "    }\n",
       "</style>\n",
       "<table border=\"1\" class=\"dataframe\">\n",
       "  <thead>\n",
       "    <tr style=\"text-align: right;\">\n",
       "      <th></th>\n",
       "      <th>word</th>\n",
       "      <th>defs</th>\n",
       "      <th>len</th>\n",
       "      <th>verbs</th>\n",
       "      <th>nouns</th>\n",
       "      <th>adj</th>\n",
       "      <th>prons</th>\n",
       "      <th>punct</th>\n",
       "      <th>mean_word_len</th>\n",
       "    </tr>\n",
       "  </thead>\n",
       "  <tbody>\n",
       "    <tr>\n",
       "      <th>0</th>\n",
       "      <td>абажур</td>\n",
       "      <td>верхняя часть лампы</td>\n",
       "      <td>3</td>\n",
       "      <td>0</td>\n",
       "      <td>2</td>\n",
       "      <td>1</td>\n",
       "      <td>0</td>\n",
       "      <td>0</td>\n",
       "      <td>5.666667</td>\n",
       "    </tr>\n",
       "    <tr>\n",
       "      <th>1</th>\n",
       "      <td>абажур</td>\n",
       "      <td>часть лампы</td>\n",
       "      <td>2</td>\n",
       "      <td>0</td>\n",
       "      <td>2</td>\n",
       "      <td>0</td>\n",
       "      <td>0</td>\n",
       "      <td>0</td>\n",
       "      <td>5.000000</td>\n",
       "    </tr>\n",
       "    <tr>\n",
       "      <th>2</th>\n",
       "      <td>абонемент</td>\n",
       "      <td>это карточка, которая позволяет тебе ходить в ...</td>\n",
       "      <td>15</td>\n",
       "      <td>3</td>\n",
       "      <td>3</td>\n",
       "      <td>0</td>\n",
       "      <td>3</td>\n",
       "      <td>1</td>\n",
       "      <td>4.666667</td>\n",
       "    </tr>\n",
       "    <tr>\n",
       "      <th>3</th>\n",
       "      <td>абрикос</td>\n",
       "      <td>маленький оранжевый фрукт</td>\n",
       "      <td>3</td>\n",
       "      <td>0</td>\n",
       "      <td>1</td>\n",
       "      <td>2</td>\n",
       "      <td>0</td>\n",
       "      <td>0</td>\n",
       "      <td>7.666667</td>\n",
       "    </tr>\n",
       "    <tr>\n",
       "      <th>4</th>\n",
       "      <td>абрикос</td>\n",
       "      <td>фрукт</td>\n",
       "      <td>1</td>\n",
       "      <td>0</td>\n",
       "      <td>1</td>\n",
       "      <td>0</td>\n",
       "      <td>0</td>\n",
       "      <td>0</td>\n",
       "      <td>5.000000</td>\n",
       "    </tr>\n",
       "  </tbody>\n",
       "</table>\n",
       "</div>"
      ],
      "text/plain": [
       "        word                                               defs  len  verbs  \\\n",
       "0     абажур                                верхняя часть лампы    3      0   \n",
       "1     абажур                                        часть лампы    2      0   \n",
       "2  абонемент  это карточка, которая позволяет тебе ходить в ...   15      3   \n",
       "3    абрикос                          маленький оранжевый фрукт    3      0   \n",
       "4    абрикос                                              фрукт    1      0   \n",
       "\n",
       "   nouns  adj  prons  punct  mean_word_len  \n",
       "0      2    1      0      0       5.666667  \n",
       "1      2    0      0      0       5.000000  \n",
       "2      3    0      3      1       4.666667  \n",
       "3      1    2      0      0       7.666667  \n",
       "4      1    0      0      0       5.000000  "
      ]
     },
     "execution_count": 8,
     "metadata": {},
     "output_type": "execute_result"
    }
   ],
   "source": [
    "add_new_features(data)\n",
    "add_new_features(formal_data)\n",
    "\n",
    "data.head()"
   ]
  },
  {
   "cell_type": "code",
   "execution_count": 9,
   "metadata": {},
   "outputs": [
    {
     "data": {
      "text/html": [
       "<div>\n",
       "<style scoped>\n",
       "    .dataframe tbody tr th:only-of-type {\n",
       "        vertical-align: middle;\n",
       "    }\n",
       "\n",
       "    .dataframe tbody tr th {\n",
       "        vertical-align: top;\n",
       "    }\n",
       "\n",
       "    .dataframe thead th {\n",
       "        text-align: right;\n",
       "    }\n",
       "</style>\n",
       "<table border=\"1\" class=\"dataframe\">\n",
       "  <thead>\n",
       "    <tr style=\"text-align: right;\">\n",
       "      <th></th>\n",
       "      <th>defs</th>\n",
       "      <th>word</th>\n",
       "      <th>len</th>\n",
       "      <th>verbs</th>\n",
       "      <th>nouns</th>\n",
       "      <th>adj</th>\n",
       "      <th>prons</th>\n",
       "      <th>punct</th>\n",
       "      <th>mean_word_len</th>\n",
       "    </tr>\n",
       "  </thead>\n",
       "  <tbody>\n",
       "    <tr>\n",
       "      <th>0</th>\n",
       "      <td>колпак на лампе</td>\n",
       "      <td>абажур</td>\n",
       "      <td>3</td>\n",
       "      <td>0</td>\n",
       "      <td>2</td>\n",
       "      <td>0</td>\n",
       "      <td>0</td>\n",
       "      <td>0</td>\n",
       "      <td>4.333333</td>\n",
       "    </tr>\n",
       "    <tr>\n",
       "      <th>1</th>\n",
       "      <td>настоятель католического монастыря</td>\n",
       "      <td>аббат</td>\n",
       "      <td>3</td>\n",
       "      <td>0</td>\n",
       "      <td>2</td>\n",
       "      <td>1</td>\n",
       "      <td>0</td>\n",
       "      <td>0</td>\n",
       "      <td>10.666667</td>\n",
       "    </tr>\n",
       "    <tr>\n",
       "      <th>2</th>\n",
       "      <td>католический священник</td>\n",
       "      <td>аббат</td>\n",
       "      <td>2</td>\n",
       "      <td>0</td>\n",
       "      <td>1</td>\n",
       "      <td>1</td>\n",
       "      <td>0</td>\n",
       "      <td>0</td>\n",
       "      <td>10.500000</td>\n",
       "    </tr>\n",
       "    <tr>\n",
       "      <th>3</th>\n",
       "      <td>католический монастырь</td>\n",
       "      <td>аббатство</td>\n",
       "      <td>2</td>\n",
       "      <td>0</td>\n",
       "      <td>1</td>\n",
       "      <td>1</td>\n",
       "      <td>0</td>\n",
       "      <td>0</td>\n",
       "      <td>10.500000</td>\n",
       "    </tr>\n",
       "    <tr>\n",
       "      <th>4</th>\n",
       "      <td>слово из первых букв</td>\n",
       "      <td>аббревиатура</td>\n",
       "      <td>4</td>\n",
       "      <td>0</td>\n",
       "      <td>2</td>\n",
       "      <td>1</td>\n",
       "      <td>0</td>\n",
       "      <td>0</td>\n",
       "      <td>4.250000</td>\n",
       "    </tr>\n",
       "  </tbody>\n",
       "</table>\n",
       "</div>"
      ],
      "text/plain": [
       "                                 defs          word  len  verbs  nouns  adj  \\\n",
       "0                     колпак на лампе        абажур    3      0      2    0   \n",
       "1  настоятель католического монастыря         аббат    3      0      2    1   \n",
       "2              католический священник         аббат    2      0      1    1   \n",
       "3              католический монастырь     аббатство    2      0      1    1   \n",
       "4                слово из первых букв  аббревиатура    4      0      2    1   \n",
       "\n",
       "   prons  punct  mean_word_len  \n",
       "0      0      0       4.333333  \n",
       "1      0      0      10.666667  \n",
       "2      0      0      10.500000  \n",
       "3      0      0      10.500000  \n",
       "4      0      0       4.250000  "
      ]
     },
     "execution_count": 9,
     "metadata": {},
     "output_type": "execute_result"
    }
   ],
   "source": [
    "formal_data.head()"
   ]
  },
  {
   "cell_type": "code",
   "execution_count": 10,
   "metadata": {},
   "outputs": [],
   "source": [
    "data.to_csv('human_set_3000_with_features.csv')\n",
    "formal_data.to_csv('formal_set_with_features.csv')"
   ]
  },
  {
   "cell_type": "markdown",
   "metadata": {},
   "source": [
    "## Гистограммы распределения"
   ]
  },
  {
   "cell_type": "code",
   "execution_count": 12,
   "metadata": {},
   "outputs": [
    {
     "data": {
      "text/plain": [
       "array([[<matplotlib.axes._subplots.AxesSubplot object at 0x000001B3D5D93E80>]],\n",
       "      dtype=object)"
      ]
     },
     "execution_count": 12,
     "metadata": {},
     "output_type": "execute_result"
    },
    {
     "data": {
      "image/png": "[encoded data removed]",
      "text/plain": [
       "<Figure size 432x288 with 1 Axes>"
      ]
     },
     "metadata": {
      "needs_background": "light"
     },
     "output_type": "display_data"
    }
   ],
   "source": [
    "data.hist(column='len', bins=40)"
   ]
  },
  {
   "cell_type": "code",
   "execution_count": 13,
   "metadata": {},
   "outputs": [
    {
     "data": {
      "text/plain": [
       "array([[<matplotlib.axes._subplots.AxesSubplot object at 0x000001B3D5E422B0>]],\n",
       "      dtype=object)"
      ]
     },
     "execution_count": 13,
     "metadata": {},
     "output_type": "execute_result"
    },
    {
     "data": {
      "image/png": "[encoded data removed]",
      "text/plain": [
       "<Figure size 432x288 with 1 Axes>"
      ]
     },
     "metadata": {
      "needs_background": "light"
     },
     "output_type": "display_data"
    }
   ],
   "source": [
    "formal_data.hist(column='len', bins=40)"
   ]
  },
  {
   "cell_type": "code",
   "execution_count": 14,
   "metadata": {},
   "outputs": [
    {
     "data": {
      "text/plain": [
       "array([[<matplotlib.axes._subplots.AxesSubplot object at 0x000001B3D5DDA278>]],\n",
       "      dtype=object)"
      ]
     },
     "execution_count": 14,
     "metadata": {},
     "output_type": "execute_result"
    },
    {
     "data": {
      "image/png": "[encoded data removed]",
      "text/plain": [
       "<Figure size 432x288 with 1 Axes>"
      ]
     },
     "metadata": {
      "needs_background": "light"
     },
     "output_type": "display_data"
    }
   ],
   "source": [
    "data.hist(column='verbs', bins=40)"
   ]
  },
  {
   "cell_type": "code",
   "execution_count": 15,
   "metadata": {},
   "outputs": [
    {
     "data": {
      "text/plain": [
       "array([[<matplotlib.axes._subplots.AxesSubplot object at 0x000001B3D5FD9DD8>]],\n",
       "      dtype=object)"
      ]
     },
     "execution_count": 15,
     "metadata": {},
     "output_type": "execute_result"
    },
    {
     "data": {
      "image/png": "[encoded data removed]",
      "text/plain": [
       "<Figure size 432x288 with 1 Axes>"
      ]
     },
     "metadata": {
      "needs_background": "light"
     },
     "output_type": "display_data"
    }
   ],
   "source": [
    "formal_data.hist(column='verbs', bins=40)"
   ]
  },
  {
   "cell_type": "code",
   "execution_count": 16,
   "metadata": {},
   "outputs": [
    {
     "data": {
      "text/plain": [
       "array([[<matplotlib.axes._subplots.AxesSubplot object at 0x000001B3D62936D8>]],\n",
       "      dtype=object)"
      ]
     },
     "execution_count": 16,
     "metadata": {},
     "output_type": "execute_result"
    },
    {
     "data": {
      "image/png": "[encoded data removed]",
      "text/plain": [
       "<Figure size 432x288 with 1 Axes>"
      ]
     },
     "metadata": {
      "needs_background": "light"
     },
     "output_type": "display_data"
    }
   ],
   "source": [
    "data.hist(column='nouns', bins=40)"
   ]
  },
  {
   "cell_type": "code",
   "execution_count": 17,
   "metadata": {},
   "outputs": [
    {
     "data": {
      "text/plain": [
       "array([[<matplotlib.axes._subplots.AxesSubplot object at 0x000001B3D6337048>]],\n",
       "      dtype=object)"
      ]
     },
     "execution_count": 17,
     "metadata": {},
     "output_type": "execute_result"
    },
    {
     "data": {
      "image/png": "[encoded data removed]",
      "text/plain": [
       "<Figure size 432x288 with 1 Axes>"
      ]
     },
     "metadata": {
      "needs_background": "light"
     },
     "output_type": "display_data"
    }
   ],
   "source": [
    "formal_data.hist(column='nouns', bins=40)"
   ]
  },
  {
   "cell_type": "code",
   "execution_count": 18,
   "metadata": {},
   "outputs": [
    {
     "data": {
      "text/plain": [
       "array([[<matplotlib.axes._subplots.AxesSubplot object at 0x000001B3D642E358>]],\n",
       "      dtype=object)"
      ]
     },
     "execution_count": 18,
     "metadata": {},
     "output_type": "execute_result"
    },
    {
     "data": {
      "image/png": "[encoded data removed]",
      "text/plain": [
       "<Figure size 432x288 with 1 Axes>"
      ]
     },
     "metadata": {
      "needs_background": "light"
     },
     "output_type": "display_data"
    }
   ],
   "source": [
    "data.hist(column='adj', bins=40)"
   ]
  },
  {
   "cell_type": "code",
   "execution_count": 19,
   "metadata": {},
   "outputs": [
    {
     "data": {
      "text/plain": [
       "array([[<matplotlib.axes._subplots.AxesSubplot object at 0x000001B3D64F0358>]],\n",
       "      dtype=object)"
      ]
     },
     "execution_count": 19,
     "metadata": {},
     "output_type": "execute_result"
    },
    {
     "data": {
      "image/png": "[encoded data removed]",
      "text/plain": [
       "<Figure size 432x288 with 1 Axes>"
      ]
     },
     "metadata": {
      "needs_background": "light"
     },
     "output_type": "display_data"
    }
   ],
   "source": [
    "formal_data.hist(column='adj', bins=40)"
   ]
  },
  {
   "cell_type": "code",
   "execution_count": 20,
   "metadata": {},
   "outputs": [
    {
     "data": {
      "text/plain": [
       "array([[<matplotlib.axes._subplots.AxesSubplot object at 0x000001B3D65DFE80>]],\n",
       "      dtype=object)"
      ]
     },
     "execution_count": 20,
     "metadata": {},
     "output_type": "execute_result"
    },
    {
     "data": {
      "image/png": "[encoded data removed]",
      "text/plain": [
       "<Figure size 432x288 with 1 Axes>"
      ]
     },
     "metadata": {
      "needs_background": "light"
     },
     "output_type": "display_data"
    }
   ],
   "source": [
    "data.hist(column='prons', bins=40)"
   ]
  },
  {
   "cell_type": "code",
   "execution_count": 22,
   "metadata": {},
   "outputs": [
    {
     "data": {
      "text/plain": [
       "array([[<matplotlib.axes._subplots.AxesSubplot object at 0x000001B3D66A8160>]],\n",
       "      dtype=object)"
      ]
     },
     "execution_count": 22,
     "metadata": {},
     "output_type": "execute_result"
    },
    {
     "data": {
      "image/png": "[encoded data removed]",
      "text/plain": [
       "<Figure size 432x288 with 1 Axes>"
      ]
     },
     "metadata": {
      "needs_background": "light"
     },
     "output_type": "display_data"
    }
   ],
   "source": [
    "formal_data.hist(column='prons', bins=40)"
   ]
  },
  {
   "cell_type": "code",
   "execution_count": 23,
   "metadata": {},
   "outputs": [
    {
     "data": {
      "text/plain": [
       "array([[<matplotlib.axes._subplots.AxesSubplot object at 0x000001B3D68E7198>]],\n",
       "      dtype=object)"
      ]
     },
     "execution_count": 23,
     "metadata": {},
     "output_type": "execute_result"
    },
    {
     "data": {
      "image/png": "[encoded data removed]",
      "text/plain": [
       "<Figure size 432x288 with 1 Axes>"
      ]
     },
     "metadata": {
      "needs_background": "light"
     },
     "output_type": "display_data"
    }
   ],
   "source": [
    "data.hist(column='punct', bins=40)"
   ]
  },
  {
   "cell_type": "code",
   "execution_count": 24,
   "metadata": {},
   "outputs": [
    {
     "data": {
      "text/plain": [
       "array([[<matplotlib.axes._subplots.AxesSubplot object at 0x000001B3D69C56A0>]],\n",
       "      dtype=object)"
      ]
     },
     "execution_count": 24,
     "metadata": {},
     "output_type": "execute_result"
    },
    {
     "data": {
      "image/png": "[encoded data removed]",
      "text/plain": [
       "<Figure size 432x288 with 1 Axes>"
      ]
     },
     "metadata": {
      "needs_background": "light"
     },
     "output_type": "display_data"
    }
   ],
   "source": [
    "formal_data.hist(column='punct', bins=40)"
   ]
  },
  {
   "cell_type": "code",
   "execution_count": 25,
   "metadata": {},
   "outputs": [
    {
     "data": {
      "text/plain": [
       "array([[<matplotlib.axes._subplots.AxesSubplot object at 0x000001B3D6A77E48>]],\n",
       "      dtype=object)"
      ]
     },
     "execution_count": 25,
     "metadata": {},
     "output_type": "execute_result"
    },
    {
     "data": {
      "image/png": "[encoded data removed]",
      "text/plain": [
       "<Figure size 432x288 with 1 Axes>"
      ]
     },
     "metadata": {
      "needs_background": "light"
     },
     "output_type": "display_data"
    }
   ],
   "source": [
    "data.hist(column='mean_word_len', bins=40)"
   ]
  },
  {
   "cell_type": "code",
   "execution_count": 26,
   "metadata": {},
   "outputs": [
    {
     "data": {
      "text/plain": [
       "array([[<matplotlib.axes._subplots.AxesSubplot object at 0x000001B3D699D550>]],\n",
       "      dtype=object)"
      ]
     },
     "execution_count": 26,
     "metadata": {},
     "output_type": "execute_result"
    },
    {
     "data": {
      "image/png": "[encoded data removed]",
      "text/plain": [
       "<Figure size 432x288 with 1 Axes>"
      ]
     },
     "metadata": {
      "needs_background": "light"
     },
     "output_type": "display_data"
    }
   ],
   "source": [
    "formal_data.hist(column='mean_word_len', bins=40)"
   ]
  },
  {
   "cell_type": "markdown",
   "metadata": {},
   "source": [
    "Итого (для человеческих определений): в основном, определения не длинные -- до 10 слов. В них встречаются существительные (довольно часто), много определений, где нет ни глаголов, ни прилагательных. Средняя длина слова в определениях около 7 букв.\n",
    "\n",
    "Для формальных другие закономерности: они более длинные количеству слов -- до 20 слов, средняя длина слова примерно такая же. В них больше существительных, глаголов, прилагательных и знаков пунктуации.\n",
    "\n",
    "Местоимения встречаются не часто (в основном, не более одного в определении)."
   ]
  },
  {
   "cell_type": "markdown",
   "metadata": {},
   "source": [
    "## Boxplots"
   ]
  },
  {
   "cell_type": "code",
   "execution_count": 27,
   "metadata": {},
   "outputs": [
    {
     "data": {
      "text/plain": [
       "<matplotlib.axes._subplots.AxesSubplot at 0x1b3d6c31dd8>"
      ]
     },
     "execution_count": 27,
     "metadata": {},
     "output_type": "execute_result"
    },
    {
     "data": {
      "image/png": "[encoded data removed]",
      "text/plain": [
       "<Figure size 432x288 with 1 Axes>"
      ]
     },
     "metadata": {
      "needs_background": "light"
     },
     "output_type": "display_data"
    }
   ],
   "source": [
    "data.boxplot(column='len')"
   ]
  },
  {
   "cell_type": "code",
   "execution_count": 28,
   "metadata": {},
   "outputs": [
    {
     "data": {
      "text/plain": [
       "<matplotlib.axes._subplots.AxesSubplot at 0x1b3d6ca49e8>"
      ]
     },
     "execution_count": 28,
     "metadata": {},
     "output_type": "execute_result"
    },
    {
     "data": {
      "image/png": "[encoded data removed]",
      "text/plain": [
       "<Figure size 432x288 with 1 Axes>"
      ]
     },
     "metadata": {
      "needs_background": "light"
     },
     "output_type": "display_data"
    }
   ],
   "source": [
    "formal_data.boxplot(column='len')"
   ]
  },
  {
   "cell_type": "code",
   "execution_count": 29,
   "metadata": {},
   "outputs": [
    {
     "data": {
      "text/plain": [
       "<matplotlib.axes._subplots.AxesSubplot at 0x1b3d6d02320>"
      ]
     },
     "execution_count": 29,
     "metadata": {},
     "output_type": "execute_result"
    },
    {
     "data": {
      "image/png": "[encoded data removed]",
      "text/plain": [
       "<Figure size 432x288 with 1 Axes>"
      ]
     },
     "metadata": {
      "needs_background": "light"
     },
     "output_type": "display_data"
    }
   ],
   "source": [
    "data.boxplot(column='verbs')"
   ]
  },
  {
   "cell_type": "code",
   "execution_count": 30,
   "metadata": {},
   "outputs": [
    {
     "data": {
      "text/plain": [
       "<matplotlib.axes._subplots.AxesSubplot at 0x1b3dcd3fe48>"
      ]
     },
     "execution_count": 30,
     "metadata": {},
     "output_type": "execute_result"
    },
    {
     "data": {
      "image/png": "[encoded data removed]",
      "text/plain": [
       "<Figure size 432x288 with 1 Axes>"
      ]
     },
     "metadata": {
      "needs_background": "light"
     },
     "output_type": "display_data"
    }
   ],
   "source": [
    "formal_data.boxplot(column='verbs')"
   ]
  },
  {
   "cell_type": "code",
   "execution_count": 31,
   "metadata": {},
   "outputs": [
    {
     "data": {
      "text/plain": [
       "<matplotlib.axes._subplots.AxesSubplot at 0x1b3dcdaab70>"
      ]
     },
     "execution_count": 31,
     "metadata": {},
     "output_type": "execute_result"
    },
    {
     "data": {
      "image/png": "[encoded data removed]",
      "text/plain": [
       "<Figure size 432x288 with 1 Axes>"
      ]
     },
     "metadata": {
      "needs_background": "light"
     },
     "output_type": "display_data"
    }
   ],
   "source": [
    "data.boxplot(column='nouns')"
   ]
  },
  {
   "cell_type": "code",
   "execution_count": 32,
   "metadata": {},
   "outputs": [
    {
     "data": {
      "text/plain": [
       "<matplotlib.axes._subplots.AxesSubplot at 0x1b3dce06d68>"
      ]
     },
     "execution_count": 32,
     "metadata": {},
     "output_type": "execute_result"
    },
    {
     "data": {
      "image/png": "[encoded data removed]",
      "text/plain": [
       "<Figure size 432x288 with 1 Axes>"
      ]
     },
     "metadata": {
      "needs_background": "light"
     },
     "output_type": "display_data"
    }
   ],
   "source": [
    "formal_data.boxplot(column='nouns')"
   ]
  },
  {
   "cell_type": "code",
   "execution_count": 33,
   "metadata": {},
   "outputs": [
    {
     "data": {
      "text/plain": [
       "<matplotlib.axes._subplots.AxesSubplot at 0x1b3dce75be0>"
      ]
     },
     "execution_count": 33,
     "metadata": {},
     "output_type": "execute_result"
    },
    {
     "data": {
      "image/png": "[encoded data removed]",
      "text/plain": [
       "<Figure size 432x288 with 1 Axes>"
      ]
     },
     "metadata": {
      "needs_background": "light"
     },
     "output_type": "display_data"
    }
   ],
   "source": [
    "data.boxplot(column='adj')"
   ]
  },
  {
   "cell_type": "code",
   "execution_count": 34,
   "metadata": {},
   "outputs": [
    {
     "data": {
      "text/plain": [
       "<matplotlib.axes._subplots.AxesSubplot at 0x1b3dcedb978>"
      ]
     },
     "execution_count": 34,
     "metadata": {},
     "output_type": "execute_result"
    },
    {
     "data": {
      "image/png": "[encoded data removed]",
      "text/plain": [
       "<Figure size 432x288 with 1 Axes>"
      ]
     },
     "metadata": {
      "needs_background": "light"
     },
     "output_type": "display_data"
    }
   ],
   "source": [
    "formal_data.boxplot(column='adj')"
   ]
  },
  {
   "cell_type": "code",
   "execution_count": 35,
   "metadata": {},
   "outputs": [
    {
     "data": {
      "text/plain": [
       "<matplotlib.axes._subplots.AxesSubplot at 0x1b3dcf3b978>"
      ]
     },
     "execution_count": 35,
     "metadata": {},
     "output_type": "execute_result"
    },
    {
     "data": {
      "image/png": "[encoded data removed]",
      "text/plain": [
       "<Figure size 432x288 with 1 Axes>"
      ]
     },
     "metadata": {
      "needs_background": "light"
     },
     "output_type": "display_data"
    }
   ],
   "source": [
    "data.boxplot(column='prons')"
   ]
  },
  {
   "cell_type": "code",
   "execution_count": 36,
   "metadata": {},
   "outputs": [
    {
     "data": {
      "text/plain": [
       "<matplotlib.axes._subplots.AxesSubplot at 0x1b3dcfaa400>"
      ]
     },
     "execution_count": 36,
     "metadata": {},
     "output_type": "execute_result"
    },
    {
     "data": {
      "image/png": "[encoded data removed]",
      "text/plain": [
       "<Figure size 432x288 with 1 Axes>"
      ]
     },
     "metadata": {
      "needs_background": "light"
     },
     "output_type": "display_data"
    }
   ],
   "source": [
    "formal_data.boxplot(column='prons')"
   ]
  },
  {
   "cell_type": "code",
   "execution_count": 37,
   "metadata": {},
   "outputs": [
    {
     "data": {
      "text/plain": [
       "<matplotlib.axes._subplots.AxesSubplot at 0x1b3dd005208>"
      ]
     },
     "execution_count": 37,
     "metadata": {},
     "output_type": "execute_result"
    },
    {
     "data": {
      "image/png": "[encoded data removed]",
      "text/plain": [
       "<Figure size 432x288 with 1 Axes>"
      ]
     },
     "metadata": {
      "needs_background": "light"
     },
     "output_type": "display_data"
    }
   ],
   "source": [
    "data.boxplot(column='punct')"
   ]
  },
  {
   "cell_type": "code",
   "execution_count": 38,
   "metadata": {},
   "outputs": [
    {
     "data": {
      "text/plain": [
       "<matplotlib.axes._subplots.AxesSubplot at 0x1b3dd0696a0>"
      ]
     },
     "execution_count": 38,
     "metadata": {},
     "output_type": "execute_result"
    },
    {
     "data": {
      "image/png": "[encoded data removed]",
      "text/plain": [
       "<Figure size 432x288 with 1 Axes>"
      ]
     },
     "metadata": {
      "needs_background": "light"
     },
     "output_type": "display_data"
    }
   ],
   "source": [
    "formal_data.boxplot(column='punct')"
   ]
  },
  {
   "cell_type": "code",
   "execution_count": 39,
   "metadata": {},
   "outputs": [
    {
     "data": {
      "text/plain": [
       "<matplotlib.axes._subplots.AxesSubplot at 0x1b3dd0d6400>"
      ]
     },
     "execution_count": 39,
     "metadata": {},
     "output_type": "execute_result"
    },
    {
     "data": {
      "image/png": "[encoded data removed]",
      "text/plain": [
       "<Figure size 432x288 with 1 Axes>"
      ]
     },
     "metadata": {
      "needs_background": "light"
     },
     "output_type": "display_data"
    }
   ],
   "source": [
    "data.boxplot(column='mean_word_len')"
   ]
  },
  {
   "cell_type": "code",
   "execution_count": 40,
   "metadata": {},
   "outputs": [
    {
     "data": {
      "text/plain": [
       "<matplotlib.axes._subplots.AxesSubplot at 0x1b3dd1452b0>"
      ]
     },
     "execution_count": 40,
     "metadata": {},
     "output_type": "execute_result"
    },
    {
     "data": {
      "image/png": "[encoded data removed]",
      "text/plain": [
       "<Figure size 432x288 with 1 Axes>"
      ]
     },
     "metadata": {
      "needs_background": "light"
     },
     "output_type": "display_data"
    }
   ],
   "source": [
    "formal_data.boxplot(column='mean_word_len')"
   ]
  },
  {
   "cell_type": "markdown",
   "metadata": {},
   "source": [
    "## The most frequent n-grams"
   ]
  },
  {
   "cell_type": "code",
   "execution_count": 41,
   "metadata": {},
   "outputs": [],
   "source": [
    "from nltk.util import ngrams\n",
    "\n",
    "def print_list_most_freq_ngram(data, n=2, topn=20):\n",
    "    freq_ngrams = {}\n",
    "\n",
    "    for text in data['defs']:\n",
    "        text = ''.join(x for x in text if x not in punctuation)\n",
    "        words = word_tokenize(text, language=\"russian\")\n",
    "        words = [word for word in words if word not in stops]\n",
    "        text = ' '.join(words)\n",
    "        words = [word.lemma_ for word in nlp(text)]\n",
    "    \n",
    "        curr_ngrams = list(ngrams(words, n))\n",
    "        for ngram in curr_ngrams:\n",
    "            if ngram in freq_ngrams:\n",
    "                freq_ngrams[ngram] += 1\n",
    "            else:\n",
    "                freq_ngrams[ngram] = 1\n",
    "\n",
    "    sorted_tuples = sorted(freq_ngrams.items(), key=lambda item: -item[1])\n",
    "\n",
    "    for i in range(topn):\n",
    "        ngram = sorted_tuples[i][0]\n",
    "        freq = sorted_tuples[i][1]\n",
    "        print(ngram, freq)"
   ]
  },
  {
   "cell_type": "markdown",
   "metadata": {},
   "source": [
    "## The most frequent structures"
   ]
  },
  {
   "cell_type": "code",
   "execution_count": 42,
   "metadata": {},
   "outputs": [],
   "source": [
    "def print_list_most_freq_patterns(data, n=2, topn=20):\n",
    "    freq_ngrams = {}\n",
    "\n",
    "    for text in data['defs']:\n",
    "        text = ''.join(x for x in text if x not in punctuation)\n",
    "        words = word_tokenize(text, language=\"russian\")\n",
    "        words = [word for word in words if word not in stops]\n",
    "        text = ' '.join(words)\n",
    "        pos_tags = [word.pos_ for word in nlp(text)]\n",
    "    \n",
    "        curr_ngrams = list(ngrams(pos_tags, n))\n",
    "        for ngram in curr_ngrams:\n",
    "            if ngram in freq_ngrams:\n",
    "                freq_ngrams[ngram] += 1\n",
    "            else:\n",
    "                freq_ngrams[ngram] = 1\n",
    "\n",
    "    sorted_tuples = sorted(freq_ngrams.items(), key=lambda item: -item[1])\n",
    "\n",
    "    for i in range(topn):\n",
    "        ngram = sorted_tuples[i][0]\n",
    "        freq = sorted_tuples[i][1]\n",
    "        print(ngram, freq)"
   ]
  },
  {
   "cell_type": "code",
   "execution_count": 43,
   "metadata": {},
   "outputs": [
    {
     "name": "stdout",
     "output_type": "stream",
     "text": [
      "Human_data\n",
      "\n",
      "n = 2\n",
      "\n",
      "\n",
      "Most frequent ngrams:\n",
      "('человек', 'который') 13\n",
      "('антоним', 'слово') 12\n",
      "('музыкальный', 'инструмент') 11\n",
      "('животное', 'которое') 10\n",
      "('часть', 'тело') 10\n",
      "('синоним', 'слово') 9\n",
      "('домашний', 'животное') 9\n",
      "('средство', 'передвижение') 5\n",
      "('время', 'год') 5\n",
      "('алкогольный', 'напиток') 5\n",
      "\n",
      "\n",
      "Most frequent structures by POS:\n",
      "('NOUN', 'NOUN') 1367\n",
      "('ADJ', 'NOUN') 906\n",
      "('VERB', 'NOUN') 603\n",
      "('NOUN', 'VERB') 322\n",
      "('NOUN', 'ADJ') 265\n",
      "('PRON', 'VERB') 163\n",
      "('ADJ', 'ADJ') 162\n",
      "('NOUN', 'PRON') 141\n",
      "('VERB', 'ADJ') 88\n",
      "('PRON', 'NOUN') 60\n",
      "\n",
      "\n",
      "n = 3\n",
      "\n",
      "\n",
      "Most frequent ngrams:\n",
      "('антоним', 'слово', 'девочка') 4\n",
      "('это', 'птица', 'которая') 3\n",
      "('часть', 'человеческий', 'тело') 3\n",
      "('домашний', 'животное', 'которое') 3\n",
      "('этот', 'действие', 'войне') 2\n",
      "('часть', 'тело', 'человек') 2\n",
      "('вода', 'которая', 'литься') 2\n",
      "('очень', 'умный', 'человек') 2\n",
      "('животное', 'которое', 'мяукать') 2\n",
      "('ребёнок', 'мужской', 'род') 2\n",
      "\n",
      "\n",
      "Most frequent structures by POS:\n",
      "('NOUN', 'NOUN', 'NOUN') 318\n",
      "('ADJ', 'NOUN', 'NOUN') 189\n",
      "('NOUN', 'ADJ', 'NOUN') 187\n",
      "('NOUN', 'VERB', 'NOUN') 178\n",
      "('VERB', 'NOUN', 'NOUN') 118\n",
      "('NOUN', 'PRON', 'VERB') 114\n",
      "('ADJ', 'ADJ', 'NOUN') 109\n",
      "('PRON', 'VERB', 'NOUN') 101\n",
      "('ADJ', 'NOUN', 'ADJ') 62\n",
      "('NOUN', 'NOUN', 'VERB') 61\n",
      "\n",
      "\n",
      "n = 4\n",
      "\n",
      "\n",
      "Most frequent ngrams:\n",
      "('приём', 'пища', 'середина', 'день') 2\n",
      "('организация', 'борьбе', 'население', 'преступность') 2\n",
      "('разновидность', 'мужской', 'женский', 'верхний') 2\n",
      "('мужской', 'женский', 'верхний', 'платье') 2\n",
      "('собираться', 'человек', 'решать', 'проблема') 2\n",
      "('это', 'карточка', 'которая', 'позволять') 1\n",
      "('карточка', 'которая', 'позволять', 'тебе') 1\n",
      "('которая', 'позволять', 'тебе', 'ходить') 1\n",
      "('позволять', 'тебе', 'ходить', 'бассейн') 1\n",
      "('тебе', 'ходить', 'бассейн', 'платить') 1\n",
      "\n",
      "\n",
      "Most frequent structures by POS:\n",
      "('NOUN', 'PRON', 'VERB', 'NOUN') 70\n",
      "('NOUN', 'NOUN', 'NOUN', 'NOUN') 64\n",
      "('ADJ', 'NOUN', 'ADJ', 'NOUN') 43\n",
      "('NOUN', 'NOUN', 'ADJ', 'NOUN') 33\n",
      "('ADJ', 'NOUN', 'NOUN', 'NOUN') 33\n",
      "('NOUN', 'VERB', 'NOUN', 'NOUN') 32\n",
      "('NOUN', 'NOUN', 'PRON', 'VERB') 27\n",
      "('ADJ', 'NOUN', 'VERB', 'NOUN') 27\n",
      "('NOUN', 'ADJ', 'NOUN', 'NOUN') 27\n",
      "('NOUN', 'NOUN', 'VERB', 'NOUN') 26\n",
      "\n",
      "\n",
      "n = 5\n",
      "\n",
      "\n",
      "Most frequent ngrams:\n",
      "('разновидность', 'мужской', 'женский', 'верхний', 'платье') 2\n",
      "('это', 'карточка', 'которая', 'позволять', 'тебе') 1\n",
      "('карточка', 'которая', 'позволять', 'тебе', 'ходить') 1\n",
      "('которая', 'позволять', 'тебе', 'ходить', 'бассейн') 1\n",
      "('позволять', 'тебе', 'ходить', 'бассейн', 'платить') 1\n",
      "('тебе', 'ходить', 'бассейн', 'платить', 'каждый') 1\n",
      "('ходить', 'бассейн', 'платить', 'каждый', 'вход') 1\n",
      "('корабль', 'который', 'переносить', 'самолёт', 'вертолёт') 1\n",
      "('место', 'попадать', 'человек', 'смерть', 'нагрешить') 1\n",
      "('очень', 'пластичный', 'человек', 'выполнять', 'различный') 1\n",
      "\n",
      "\n",
      "Most frequent structures by POS:\n",
      "('NOUN', 'NOUN', 'PRON', 'VERB', 'NOUN') 17\n",
      "('NOUN', 'ADJ', 'NOUN', 'ADJ', 'NOUN') 14\n",
      "('NOUN', 'PRON', 'VERB', 'NOUN', 'NOUN') 13\n",
      "('NOUN', 'NOUN', 'NOUN', 'NOUN', 'NOUN') 13\n",
      "('ADJ', 'NOUN', 'PRON', 'VERB', 'NOUN') 10\n",
      "('NOUN', 'NOUN', 'NOUN', 'ADJ', 'NOUN') 9\n",
      "('NOUN', 'PRON', 'VERB', 'ADJ', 'NOUN') 8\n",
      "('NOUN', 'ADJ', 'NOUN', 'VERB', 'NOUN') 7\n",
      "('NOUN', 'ADJ', 'NOUN', 'NOUN', 'NOUN') 7\n",
      "('NOUN', 'NOUN', 'VERB', 'ADJ', 'NOUN') 7\n",
      "\n",
      "\n"
     ]
    }
   ],
   "source": [
    "print(\"Human_data\\n\")\n",
    "for i in range(2, 6):\n",
    "    print(\"n =\", i)\n",
    "    print(\"\\n\")\n",
    "    print(\"Most frequent ngrams:\")\n",
    "    print_list_most_freq_ngram(data, n=i, topn=10)\n",
    "    print(\"\\n\")\n",
    "    print(\"Most frequent structures by POS:\")\n",
    "    print_list_most_freq_patterns(data, n=i, topn=10)\n",
    "    print(\"\\n\")"
   ]
  },
  {
   "cell_type": "code",
   "execution_count": 44,
   "metadata": {},
   "outputs": [
    {
     "name": "stdout",
     "output_type": "stream",
     "text": [
      "Formal_data\n",
      "\n",
      "n = 2\n",
      "\n",
      "\n",
      "Most frequent ngrams:\n",
      "('т', 'п') 1093\n",
      "('такой', 'действие') 358\n",
      "('результат', 'такой') 346\n",
      "('коголибо', 'чеголибо') 127\n",
      "('житель', 'уроженец') 98\n",
      "('растение', 'семейство') 94\n",
      "('музыкальный', 'инструмент') 82\n",
      "('учебный', 'заведение') 77\n",
      "('транспортный', 'средство') 76\n",
      "('специалист', 'область') 72\n",
      "\n",
      "\n",
      "Most frequent structures by POS:\n",
      "('NOUN', 'NOUN') 43178\n",
      "('ADJ', 'NOUN') 26397\n",
      "('NOUN', 'ADJ') 14614\n",
      "('NOUN', 'VERB') 9993\n",
      "('VERB', 'NOUN') 9376\n",
      "('ADJ', 'ADJ') 6661\n",
      "('VERB', 'ADJ') 3286\n",
      "('NOUN', 'ADV') 2272\n",
      "('DET', 'NOUN') 2053\n",
      "('VERB', 'VERB') 1764\n",
      "\n",
      "\n"
     ]
    }
   ],
   "source": [
    "print(\"Formal_data\\n\")\n",
    "print(\"n =\", 2)\n",
    "print(\"\\n\")\n",
    "print(\"Most frequent ngrams:\")\n",
    "print_list_most_freq_ngram(formal_data, n=2, topn=10)\n",
    "print(\"\\n\")\n",
    "print(\"Most frequent structures by POS:\")\n",
    "print_list_most_freq_patterns(formal_data, n=2, topn=10)\n",
    "print(\"\\n\")"
   ]
  },
  {
   "cell_type": "code",
   "execution_count": null,
   "metadata": {},
   "outputs": [],
   "source": []
  }
 ],
 "metadata": {
  "kernelspec": {
   "display_name": "Python 3",
   "language": "python",
   "name": "python3"
  },
  "language_info": {
   "codemirror_mode": {
    "name": "ipython",
    "version": 3
   },
   "file_extension": ".py",
   "mimetype": "text/x-python",
   "name": "python",
   "nbconvert_exporter": "python",
   "pygments_lexer": "ipython3",
   "version": "3.7.3"
  }
 },
 "nbformat": 4,
 "nbformat_minor": 2
}
