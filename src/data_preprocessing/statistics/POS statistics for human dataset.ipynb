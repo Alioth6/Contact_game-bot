{
 "cells": [
  {
   "cell_type": "code",
   "execution_count": 1,
   "metadata": {},
   "outputs": [],
   "source": [
    "import numpy as np\n",
    "import pandas as pd\n",
    "import matplotlib.pyplot as plt\n",
    "import seaborn as sns\n",
    "%matplotlib inline\n",
    "\n",
    "from string import punctuation\n",
    "import json"
   ]
  },
  {
   "cell_type": "code",
   "execution_count": 2,
   "metadata": {},
   "outputs": [
    {
     "name": "stdout",
     "output_type": "stream",
     "text": [
      "(2895, 2)\n"
     ]
    },
    {
     "data": {
      "text/html": [
       "<div>\n",
       "<style scoped>\n",
       "    .dataframe tbody tr th:only-of-type {\n",
       "        vertical-align: middle;\n",
       "    }\n",
       "\n",
       "    .dataframe tbody tr th {\n",
       "        vertical-align: top;\n",
       "    }\n",
       "\n",
       "    .dataframe thead th {\n",
       "        text-align: right;\n",
       "    }\n",
       "</style>\n",
       "<table border=\"1\" class=\"dataframe\">\n",
       "  <thead>\n",
       "    <tr style=\"text-align: right;\">\n",
       "      <th></th>\n",
       "      <th>word</th>\n",
       "      <th>defs</th>\n",
       "    </tr>\n",
       "  </thead>\n",
       "  <tbody>\n",
       "    <tr>\n",
       "      <th>0</th>\n",
       "      <td>абажур</td>\n",
       "      <td>верхняя часть лампы</td>\n",
       "    </tr>\n",
       "    <tr>\n",
       "      <th>1</th>\n",
       "      <td>абажур</td>\n",
       "      <td>часть лампы</td>\n",
       "    </tr>\n",
       "    <tr>\n",
       "      <th>2</th>\n",
       "      <td>абонемент</td>\n",
       "      <td>это карточка, которая позволяет тебе ходить в ...</td>\n",
       "    </tr>\n",
       "    <tr>\n",
       "      <th>3</th>\n",
       "      <td>абрикос</td>\n",
       "      <td>маленький оранжевый фрукт</td>\n",
       "    </tr>\n",
       "    <tr>\n",
       "      <th>4</th>\n",
       "      <td>абрикос</td>\n",
       "      <td>фрукт</td>\n",
       "    </tr>\n",
       "  </tbody>\n",
       "</table>\n",
       "</div>"
      ],
      "text/plain": [
       "        word                                               defs\n",
       "0     абажур                                верхняя часть лампы\n",
       "1     абажур                                        часть лампы\n",
       "2  абонемент  это карточка, которая позволяет тебе ходить в ...\n",
       "3    абрикос                          маленький оранжевый фрукт\n",
       "4    абрикос                                              фрукт"
      ]
     },
     "execution_count": 2,
     "metadata": {},
     "output_type": "execute_result"
    }
   ],
   "source": [
    "file = '004_human_set_3000.csv'\n",
    "\n",
    "data = pd.read_csv(file, comment='#')\n",
    "\n",
    "print(data.shape)\n",
    "data.head(5)"
   ]
  },
  {
   "cell_type": "code",
   "execution_count": 3,
   "metadata": {},
   "outputs": [],
   "source": [
    "import spacy\n",
    "\n",
    "nlp = spacy.load('ru2')\n",
    "nlp.add_pipe(nlp.create_pipe('sentencizer'), first=True)"
   ]
  },
  {
   "cell_type": "code",
   "execution_count": 4,
   "metadata": {},
   "outputs": [],
   "source": [
    "entries = ['POS', 'freq', 'example', 'isBigram']\n",
    "\n",
    "frequences = {}\n",
    "examples = {}\n",
    "isBigram = {}\n",
    "\n",
    "for sentence in data['defs']:\n",
    "    text = ''.join(x for x in sentence if x not in punctuation)\n",
    "    doc = nlp(text)\n",
    "    for i in range(len(doc)):\n",
    "        word = doc[i]\n",
    "        pos_tag = word.pos_\n",
    "        if pos_tag not in frequences:\n",
    "            examples[pos_tag] = word.lemma_\n",
    "            isBigram[pos_tag] = False\n",
    "        frequences[pos_tag] = frequences[pos_tag] + 1 if pos_tag in frequences else 1\n",
    "        j = i + 1\n",
    "        if j < len(doc):\n",
    "            bigram_pos_tag = pos_tag + \"+\" + doc[j].pos_\n",
    "            if bigram_pos_tag not in frequences:\n",
    "                examples[bigram_pos_tag] = word.lemma_ + \" \" + doc[j].lemma_\n",
    "                isBigram[bigram_pos_tag] = True\n",
    "            frequences[bigram_pos_tag] = frequences[bigram_pos_tag] + 1 if bigram_pos_tag in frequences else 1\n",
    "\n",
    "array = [[k, v, examples[k], isBigram[k]] for k,v in frequences.items()]\n",
    "        \n",
    "df = pd.DataFrame(data = array, columns = entries)\n",
    "df_sorted = df.sort_values('freq', ascending=False)"
   ]
  },
  {
   "cell_type": "code",
   "execution_count": 5,
   "metadata": {},
   "outputs": [
    {
     "data": {
      "text/html": [
       "<div>\n",
       "<style scoped>\n",
       "    .dataframe tbody tr th:only-of-type {\n",
       "        vertical-align: middle;\n",
       "    }\n",
       "\n",
       "    .dataframe tbody tr th {\n",
       "        vertical-align: top;\n",
       "    }\n",
       "\n",
       "    .dataframe thead th {\n",
       "        text-align: right;\n",
       "    }\n",
       "</style>\n",
       "<table border=\"1\" class=\"dataframe\">\n",
       "  <thead>\n",
       "    <tr style=\"text-align: right;\">\n",
       "      <th></th>\n",
       "      <th>POS</th>\n",
       "      <th>freq</th>\n",
       "      <th>example</th>\n",
       "      <th>isBigram</th>\n",
       "    </tr>\n",
       "  </thead>\n",
       "  <tbody>\n",
       "    <tr>\n",
       "      <th>2</th>\n",
       "      <td>NOUN</td>\n",
       "      <td>4565</td>\n",
       "      <td>часть</td>\n",
       "      <td>False</td>\n",
       "    </tr>\n",
       "    <tr>\n",
       "      <th>0</th>\n",
       "      <td>ADJ</td>\n",
       "      <td>1350</td>\n",
       "      <td>верхний</td>\n",
       "      <td>False</td>\n",
       "    </tr>\n",
       "    <tr>\n",
       "      <th>11</th>\n",
       "      <td>ADP</td>\n",
       "      <td>1202</td>\n",
       "      <td>в</td>\n",
       "      <td>False</td>\n",
       "    </tr>\n",
       "    <tr>\n",
       "      <th>8</th>\n",
       "      <td>VERB</td>\n",
       "      <td>1062</td>\n",
       "      <td>позволять</td>\n",
       "      <td>False</td>\n",
       "    </tr>\n",
       "    <tr>\n",
       "      <th>1</th>\n",
       "      <td>ADJ+NOUN</td>\n",
       "      <td>902</td>\n",
       "      <td>верхний часть</td>\n",
       "      <td>True</td>\n",
       "    </tr>\n",
       "  </tbody>\n",
       "</table>\n",
       "</div>"
      ],
      "text/plain": [
       "         POS  freq        example  isBigram\n",
       "2       NOUN  4565          часть     False\n",
       "0        ADJ  1350        верхний     False\n",
       "11       ADP  1202              в     False\n",
       "8       VERB  1062      позволять     False\n",
       "1   ADJ+NOUN   902  верхний часть      True"
      ]
     },
     "execution_count": 5,
     "metadata": {},
     "output_type": "execute_result"
    }
   ],
   "source": [
    "df_sorted.head()"
   ]
  },
  {
   "cell_type": "code",
   "execution_count": 6,
   "metadata": {},
   "outputs": [
    {
     "name": "stdout",
     "output_type": "stream",
     "text": [
      "(146, 4)\n"
     ]
    }
   ],
   "source": [
    "df_sorted = df_sorted.loc[df_sorted['POS'] != 'SPACE']\n",
    "print(df_sorted.shape)"
   ]
  },
  {
   "cell_type": "code",
   "execution_count": 7,
   "metadata": {},
   "outputs": [
    {
     "data": {
      "text/html": [
       "<div>\n",
       "<style scoped>\n",
       "    .dataframe tbody tr th:only-of-type {\n",
       "        vertical-align: middle;\n",
       "    }\n",
       "\n",
       "    .dataframe tbody tr th {\n",
       "        vertical-align: top;\n",
       "    }\n",
       "\n",
       "    .dataframe thead th {\n",
       "        text-align: right;\n",
       "    }\n",
       "</style>\n",
       "<table border=\"1\" class=\"dataframe\">\n",
       "  <thead>\n",
       "    <tr style=\"text-align: right;\">\n",
       "      <th></th>\n",
       "      <th>POS</th>\n",
       "      <th>freq</th>\n",
       "      <th>example</th>\n",
       "      <th>isBigram</th>\n",
       "    </tr>\n",
       "  </thead>\n",
       "  <tbody>\n",
       "    <tr>\n",
       "      <th>2</th>\n",
       "      <td>NOUN</td>\n",
       "      <td>4565</td>\n",
       "      <td>часть</td>\n",
       "      <td>False</td>\n",
       "    </tr>\n",
       "    <tr>\n",
       "      <th>0</th>\n",
       "      <td>ADJ</td>\n",
       "      <td>1350</td>\n",
       "      <td>верхний</td>\n",
       "      <td>False</td>\n",
       "    </tr>\n",
       "    <tr>\n",
       "      <th>11</th>\n",
       "      <td>ADP</td>\n",
       "      <td>1202</td>\n",
       "      <td>в</td>\n",
       "      <td>False</td>\n",
       "    </tr>\n",
       "    <tr>\n",
       "      <th>8</th>\n",
       "      <td>VERB</td>\n",
       "      <td>1062</td>\n",
       "      <td>позволять</td>\n",
       "      <td>False</td>\n",
       "    </tr>\n",
       "    <tr>\n",
       "      <th>1</th>\n",
       "      <td>ADJ+NOUN</td>\n",
       "      <td>902</td>\n",
       "      <td>верхний часть</td>\n",
       "      <td>True</td>\n",
       "    </tr>\n",
       "    <tr>\n",
       "      <th>12</th>\n",
       "      <td>ADP+NOUN</td>\n",
       "      <td>848</td>\n",
       "      <td>в бассейн</td>\n",
       "      <td>True</td>\n",
       "    </tr>\n",
       "    <tr>\n",
       "      <th>3</th>\n",
       "      <td>NOUN+NOUN</td>\n",
       "      <td>746</td>\n",
       "      <td>часть лампа</td>\n",
       "      <td>True</td>\n",
       "    </tr>\n",
       "    <tr>\n",
       "      <th>21</th>\n",
       "      <td>NOUN+ADP</td>\n",
       "      <td>660</td>\n",
       "      <td>раз за</td>\n",
       "      <td>True</td>\n",
       "    </tr>\n",
       "    <tr>\n",
       "      <th>4</th>\n",
       "      <td>PRON</td>\n",
       "      <td>568</td>\n",
       "      <td>это</td>\n",
       "      <td>False</td>\n",
       "    </tr>\n",
       "    <tr>\n",
       "      <th>34</th>\n",
       "      <td>VERB+NOUN</td>\n",
       "      <td>360</td>\n",
       "      <td>переносить самолёт</td>\n",
       "      <td>True</td>\n",
       "    </tr>\n",
       "  </tbody>\n",
       "</table>\n",
       "</div>"
      ],
      "text/plain": [
       "          POS  freq             example  isBigram\n",
       "2        NOUN  4565               часть     False\n",
       "0         ADJ  1350             верхний     False\n",
       "11        ADP  1202                   в     False\n",
       "8        VERB  1062           позволять     False\n",
       "1    ADJ+NOUN   902       верхний часть      True\n",
       "12   ADP+NOUN   848           в бассейн      True\n",
       "3   NOUN+NOUN   746         часть лампа      True\n",
       "21   NOUN+ADP   660              раз за      True\n",
       "4        PRON   568                 это     False\n",
       "34  VERB+NOUN   360  переносить самолёт      True"
      ]
     },
     "execution_count": 7,
     "metadata": {},
     "output_type": "execute_result"
    }
   ],
   "source": [
    "df_sorted.head(10)"
   ]
  },
  {
   "cell_type": "code",
   "execution_count": 8,
   "metadata": {},
   "outputs": [],
   "source": [
    "data_pos = df_sorted.loc[df_sorted['isBigram'] == False]\n",
    "data_bigram_pos = df_sorted.loc[df_sorted['isBigram'] == True]"
   ]
  },
  {
   "cell_type": "code",
   "execution_count": 9,
   "metadata": {},
   "outputs": [
    {
     "data": {
      "text/html": [
       "<div>\n",
       "<style scoped>\n",
       "    .dataframe tbody tr th:only-of-type {\n",
       "        vertical-align: middle;\n",
       "    }\n",
       "\n",
       "    .dataframe tbody tr th {\n",
       "        vertical-align: top;\n",
       "    }\n",
       "\n",
       "    .dataframe thead th {\n",
       "        text-align: right;\n",
       "    }\n",
       "</style>\n",
       "<table border=\"1\" class=\"dataframe\">\n",
       "  <thead>\n",
       "    <tr style=\"text-align: right;\">\n",
       "      <th></th>\n",
       "      <th>POS</th>\n",
       "      <th>freq</th>\n",
       "      <th>example</th>\n",
       "      <th>isBigram</th>\n",
       "    </tr>\n",
       "  </thead>\n",
       "  <tbody>\n",
       "    <tr>\n",
       "      <th>2</th>\n",
       "      <td>NOUN</td>\n",
       "      <td>4565</td>\n",
       "      <td>часть</td>\n",
       "      <td>False</td>\n",
       "    </tr>\n",
       "    <tr>\n",
       "      <th>0</th>\n",
       "      <td>ADJ</td>\n",
       "      <td>1350</td>\n",
       "      <td>верхний</td>\n",
       "      <td>False</td>\n",
       "    </tr>\n",
       "    <tr>\n",
       "      <th>11</th>\n",
       "      <td>ADP</td>\n",
       "      <td>1202</td>\n",
       "      <td>в</td>\n",
       "      <td>False</td>\n",
       "    </tr>\n",
       "    <tr>\n",
       "      <th>8</th>\n",
       "      <td>VERB</td>\n",
       "      <td>1062</td>\n",
       "      <td>позволять</td>\n",
       "      <td>False</td>\n",
       "    </tr>\n",
       "    <tr>\n",
       "      <th>4</th>\n",
       "      <td>PRON</td>\n",
       "      <td>568</td>\n",
       "      <td>это</td>\n",
       "      <td>False</td>\n",
       "    </tr>\n",
       "  </tbody>\n",
       "</table>\n",
       "</div>"
      ],
      "text/plain": [
       "     POS  freq    example  isBigram\n",
       "2   NOUN  4565      часть     False\n",
       "0    ADJ  1350    верхний     False\n",
       "11   ADP  1202          в     False\n",
       "8   VERB  1062  позволять     False\n",
       "4   PRON   568        это     False"
      ]
     },
     "execution_count": 9,
     "metadata": {},
     "output_type": "execute_result"
    }
   ],
   "source": [
    "data_pos.head()"
   ]
  },
  {
   "cell_type": "code",
   "execution_count": 10,
   "metadata": {},
   "outputs": [
    {
     "data": {
      "text/html": [
       "<div>\n",
       "<style scoped>\n",
       "    .dataframe tbody tr th:only-of-type {\n",
       "        vertical-align: middle;\n",
       "    }\n",
       "\n",
       "    .dataframe tbody tr th {\n",
       "        vertical-align: top;\n",
       "    }\n",
       "\n",
       "    .dataframe thead th {\n",
       "        text-align: right;\n",
       "    }\n",
       "</style>\n",
       "<table border=\"1\" class=\"dataframe\">\n",
       "  <thead>\n",
       "    <tr style=\"text-align: right;\">\n",
       "      <th></th>\n",
       "      <th>POS</th>\n",
       "      <th>freq</th>\n",
       "      <th>example</th>\n",
       "      <th>isBigram</th>\n",
       "    </tr>\n",
       "  </thead>\n",
       "  <tbody>\n",
       "    <tr>\n",
       "      <th>1</th>\n",
       "      <td>ADJ+NOUN</td>\n",
       "      <td>902</td>\n",
       "      <td>верхний часть</td>\n",
       "      <td>True</td>\n",
       "    </tr>\n",
       "    <tr>\n",
       "      <th>12</th>\n",
       "      <td>ADP+NOUN</td>\n",
       "      <td>848</td>\n",
       "      <td>в бассейн</td>\n",
       "      <td>True</td>\n",
       "    </tr>\n",
       "    <tr>\n",
       "      <th>3</th>\n",
       "      <td>NOUN+NOUN</td>\n",
       "      <td>746</td>\n",
       "      <td>часть лампа</td>\n",
       "      <td>True</td>\n",
       "    </tr>\n",
       "    <tr>\n",
       "      <th>21</th>\n",
       "      <td>NOUN+ADP</td>\n",
       "      <td>660</td>\n",
       "      <td>раз за</td>\n",
       "      <td>True</td>\n",
       "    </tr>\n",
       "    <tr>\n",
       "      <th>34</th>\n",
       "      <td>VERB+NOUN</td>\n",
       "      <td>360</td>\n",
       "      <td>переносить самолёт</td>\n",
       "      <td>True</td>\n",
       "    </tr>\n",
       "    <tr>\n",
       "      <th>7</th>\n",
       "      <td>PRON+VERB</td>\n",
       "      <td>313</td>\n",
       "      <td>которая позволять</td>\n",
       "      <td>True</td>\n",
       "    </tr>\n",
       "    <tr>\n",
       "      <th>10</th>\n",
       "      <td>VERB+ADP</td>\n",
       "      <td>281</td>\n",
       "      <td>ходить в</td>\n",
       "      <td>True</td>\n",
       "    </tr>\n",
       "    <tr>\n",
       "      <th>49</th>\n",
       "      <td>NOUN+VERB</td>\n",
       "      <td>222</td>\n",
       "      <td>книга учить</td>\n",
       "      <td>True</td>\n",
       "    </tr>\n",
       "    <tr>\n",
       "      <th>22</th>\n",
       "      <td>ADJ+ADJ</td>\n",
       "      <td>155</td>\n",
       "      <td>маленький оранжевый</td>\n",
       "      <td>True</td>\n",
       "    </tr>\n",
       "    <tr>\n",
       "      <th>23</th>\n",
       "      <td>NOUN+ADJ</td>\n",
       "      <td>155</td>\n",
       "      <td>фрукт похожий</td>\n",
       "      <td>True</td>\n",
       "    </tr>\n",
       "    <tr>\n",
       "      <th>25</th>\n",
       "      <td>ADP+ADJ</td>\n",
       "      <td>142</td>\n",
       "      <td>на персик</td>\n",
       "      <td>True</td>\n",
       "    </tr>\n",
       "    <tr>\n",
       "      <th>38</th>\n",
       "      <td>ADP+PRON</td>\n",
       "      <td>134</td>\n",
       "      <td>на он</td>\n",
       "      <td>True</td>\n",
       "    </tr>\n",
       "    <tr>\n",
       "      <th>13</th>\n",
       "      <td>NOUN+CCONJ</td>\n",
       "      <td>128</td>\n",
       "      <td>бассейн и</td>\n",
       "      <td>True</td>\n",
       "    </tr>\n",
       "    <tr>\n",
       "      <th>37</th>\n",
       "      <td>ADV+VERB</td>\n",
       "      <td>105</td>\n",
       "      <td>там жить</td>\n",
       "      <td>True</td>\n",
       "    </tr>\n",
       "    <tr>\n",
       "      <th>6</th>\n",
       "      <td>NOUN+PRON</td>\n",
       "      <td>100</td>\n",
       "      <td>карточка которая</td>\n",
       "      <td>True</td>\n",
       "    </tr>\n",
       "    <tr>\n",
       "      <th>35</th>\n",
       "      <td>CCONJ+NOUN</td>\n",
       "      <td>81</td>\n",
       "      <td>и вертолёт</td>\n",
       "      <td>True</td>\n",
       "    </tr>\n",
       "    <tr>\n",
       "      <th>42</th>\n",
       "      <td>NOUN+ADV</td>\n",
       "      <td>76</td>\n",
       "      <td>место куда</td>\n",
       "      <td>True</td>\n",
       "    </tr>\n",
       "    <tr>\n",
       "      <th>51</th>\n",
       "      <td>VERB+ADJ</td>\n",
       "      <td>72</td>\n",
       "      <td>быть личный</td>\n",
       "      <td>True</td>\n",
       "    </tr>\n",
       "    <tr>\n",
       "      <th>5</th>\n",
       "      <td>PRON+NOUN</td>\n",
       "      <td>64</td>\n",
       "      <td>это карточка</td>\n",
       "      <td>True</td>\n",
       "    </tr>\n",
       "    <tr>\n",
       "      <th>20</th>\n",
       "      <td>DET+NOUN</td>\n",
       "      <td>59</td>\n",
       "      <td>каждый раз</td>\n",
       "      <td>True</td>\n",
       "    </tr>\n",
       "  </tbody>\n",
       "</table>\n",
       "</div>"
      ],
      "text/plain": [
       "           POS  freq              example  isBigram\n",
       "1     ADJ+NOUN   902        верхний часть      True\n",
       "12    ADP+NOUN   848            в бассейн      True\n",
       "3    NOUN+NOUN   746          часть лампа      True\n",
       "21    NOUN+ADP   660               раз за      True\n",
       "34   VERB+NOUN   360   переносить самолёт      True\n",
       "7    PRON+VERB   313    которая позволять      True\n",
       "10    VERB+ADP   281             ходить в      True\n",
       "49   NOUN+VERB   222          книга учить      True\n",
       "22     ADJ+ADJ   155  маленький оранжевый      True\n",
       "23    NOUN+ADJ   155        фрукт похожий      True\n",
       "25     ADP+ADJ   142            на персик      True\n",
       "38    ADP+PRON   134                на он      True\n",
       "13  NOUN+CCONJ   128            бассейн и      True\n",
       "37    ADV+VERB   105             там жить      True\n",
       "6    NOUN+PRON   100     карточка которая      True\n",
       "35  CCONJ+NOUN    81           и вертолёт      True\n",
       "42    NOUN+ADV    76           место куда      True\n",
       "51    VERB+ADJ    72          быть личный      True\n",
       "5    PRON+NOUN    64         это карточка      True\n",
       "20    DET+NOUN    59           каждый раз      True"
      ]
     },
     "execution_count": 10,
     "metadata": {},
     "output_type": "execute_result"
    }
   ],
   "source": [
    "data_bigram_pos.head(20)"
   ]
  },
  {
   "cell_type": "markdown",
   "metadata": {},
   "source": [
    "Расшифровка названий частей речи:"
   ]
  },
  {
   "cell_type": "code",
   "execution_count": 11,
   "metadata": {},
   "outputs": [
    {
     "name": "stdout",
     "output_type": "stream",
     "text": [
      "NOUN noun\n",
      "ADJ adjective\n",
      "ADP adposition\n",
      "VERB verb\n",
      "CCONJ coordinating conjunction\n",
      "PRON pronoun\n",
      "ADV adverb\n",
      "DET determiner\n",
      "NUM numeral\n",
      "PROPN proper noun\n",
      "SCONJ subordinating conjunction\n",
      "X other\n",
      "AUX auxiliary\n"
     ]
    }
   ],
   "source": [
    "pos_tags = [\"NOUN\", \"ADJ\", \"ADP\", \"VERB\", \"CCONJ\", \"PRON\", \"ADV\", \"DET\", \"NUM\", \"PROPN\", \"SCONJ\", \"X\", \"AUX\"]\n",
    "\n",
    "for tag in pos_tags:\n",
    "    print(tag, spacy.explain(tag))"
   ]
  },
  {
   "cell_type": "markdown",
   "metadata": {},
   "source": [
    "# Построение гистограмм частот различных частей речи"
   ]
  },
  {
   "cell_type": "markdown",
   "metadata": {},
   "source": [
    "Сначала построим гистограмму для отдельных слов:"
   ]
  },
  {
   "cell_type": "code",
   "execution_count": 12,
   "metadata": {},
   "outputs": [
    {
     "data": {
      "image/png": "[encoded data removed]",
      "text/plain": [
       "<Figure size 720x432 with 1 Axes>"
      ]
     },
     "metadata": {
      "needs_background": "light"
     },
     "output_type": "display_data"
    }
   ],
   "source": [
    "x = data_pos['POS']\n",
    "y = data_pos['freq']\n",
    "\n",
    "fig, ax = plt.subplots()\n",
    "\n",
    "plt.title('Frequences of POS for human dataset')\n",
    "\n",
    "ax.bar(x, y)\n",
    "\n",
    "fig.set_figwidth(10)\n",
    "fig.set_figheight(6)\n",
    "\n",
    "plt.show()"
   ]
  },
  {
   "cell_type": "markdown",
   "metadata": {},
   "source": [
    "Теперь для биграмм:"
   ]
  },
  {
   "cell_type": "code",
   "execution_count": 13,
   "metadata": {},
   "outputs": [
    {
     "data": {
      "text/plain": [
       "(130, 4)"
      ]
     },
     "execution_count": 13,
     "metadata": {},
     "output_type": "execute_result"
    }
   ],
   "source": [
    "data_bigram_pos.shape"
   ]
  },
  {
   "cell_type": "code",
   "execution_count": 14,
   "metadata": {},
   "outputs": [
    {
     "data": {
      "text/plain": [
       "54.44999999999989"
      ]
     },
     "execution_count": 14,
     "metadata": {},
     "output_type": "execute_result"
    }
   ],
   "source": [
    "np.percentile(data_bigram_pos['freq'], 85)"
   ]
  },
  {
   "cell_type": "code",
   "execution_count": 15,
   "metadata": {},
   "outputs": [],
   "source": [
    "data_bigram_pos = data_bigram_pos.loc[data_bigram_pos['freq'] >= 55]"
   ]
  },
  {
   "cell_type": "code",
   "execution_count": 16,
   "metadata": {},
   "outputs": [
    {
     "data": {
      "image/png": "[encoded data removed]",
      "text/plain": [
       "<Figure size 1296x432 with 1 Axes>"
      ]
     },
     "metadata": {
      "needs_background": "light"
     },
     "output_type": "display_data"
    }
   ],
   "source": [
    "x = data_bigram_pos['POS']\n",
    "y = data_bigram_pos['freq']\n",
    "\n",
    "fig, ax = plt.subplots()\n",
    "\n",
    "plt.title('Frequences of Bigram POS for human dataset')\n",
    "\n",
    "ax.bar(x, y)\n",
    "\n",
    "ax.set_xticklabels(x, rotation = 45)  \n",
    "\n",
    "fig.set_figwidth(18)\n",
    "fig.set_figheight(6)\n",
    "\n",
    "plt.show()"
   ]
  }
 ],
 "metadata": {
  "kernelspec": {
   "display_name": "Python 3",
   "language": "python",
   "name": "python3"
  },
  "language_info": {
   "codemirror_mode": {
    "name": "ipython",
    "version": 3
   },
   "file_extension": ".py",
   "mimetype": "text/x-python",
   "name": "python",
   "nbconvert_exporter": "python",
   "pygments_lexer": "ipython3",
   "version": "3.7.3"
  }
 },
 "nbformat": 4,
 "nbformat_minor": 2
}
