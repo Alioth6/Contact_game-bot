{
 "cells": [
  {
   "cell_type": "markdown",
   "metadata": {},
   "source": [
    "Проанализируем вид датасета, полученного из wiki dictionary."
   ]
  },
  {
   "cell_type": "code",
   "execution_count": 3,
   "metadata": {},
   "outputs": [],
   "source": [
    "import numpy as np\n",
    "import pandas as pd\n",
    "import matplotlib.pyplot as plt\n",
    "# import seaborn as sns\n",
    "%matplotlib inline"
   ]
  },
  {
   "cell_type": "code",
   "execution_count": 4,
   "metadata": {},
   "outputs": [
    {
     "ename": "FileNotFoundError",
     "evalue": "[Errno 2] File dataset_example.csv does not exist: 'dataset_example.csv'",
     "output_type": "error",
     "traceback": [
      "\u001b[0;31m---------------------------------------------------------------------------\u001b[0m",
      "\u001b[0;31mFileNotFoundError\u001b[0m                         Traceback (most recent call last)",
      "\u001b[0;32m<ipython-input-4-f400e5063576>\u001b[0m in \u001b[0;36m<module>\u001b[0;34m\u001b[0m\n\u001b[1;32m      1\u001b[0m \u001b[0mfile_name\u001b[0m \u001b[0;34m=\u001b[0m \u001b[0;34m'dataset_example.csv'\u001b[0m\u001b[0;34m\u001b[0m\u001b[0m\n\u001b[1;32m      2\u001b[0m \u001b[0;34m\u001b[0m\u001b[0m\n\u001b[0;32m----> 3\u001b[0;31m \u001b[0mdata\u001b[0m \u001b[0;34m=\u001b[0m \u001b[0mpd\u001b[0m\u001b[0;34m.\u001b[0m\u001b[0mread_csv\u001b[0m\u001b[0;34m(\u001b[0m\u001b[0mfile_name\u001b[0m\u001b[0;34m,\u001b[0m \u001b[0mdelimiter\u001b[0m\u001b[0;34m=\u001b[0m\u001b[0;34m'\\\\'\u001b[0m\u001b[0;34m)\u001b[0m\u001b[0;34m\u001b[0m\u001b[0m\n\u001b[0m",
      "\u001b[0;32m~/.virtualenvs/csc/lib/python3.6/site-packages/pandas/io/parsers.py\u001b[0m in \u001b[0;36mparser_f\u001b[0;34m(filepath_or_buffer, sep, delimiter, header, names, index_col, usecols, squeeze, prefix, mangle_dupe_cols, dtype, engine, converters, true_values, false_values, skipinitialspace, skiprows, skipfooter, nrows, na_values, keep_default_na, na_filter, verbose, skip_blank_lines, parse_dates, infer_datetime_format, keep_date_col, date_parser, dayfirst, cache_dates, iterator, chunksize, compression, thousands, decimal, lineterminator, quotechar, quoting, doublequote, escapechar, comment, encoding, dialect, error_bad_lines, warn_bad_lines, delim_whitespace, low_memory, memory_map, float_precision)\u001b[0m\n\u001b[1;32m    674\u001b[0m         )\n\u001b[1;32m    675\u001b[0m \u001b[0;34m\u001b[0m\u001b[0m\n\u001b[0;32m--> 676\u001b[0;31m         \u001b[0;32mreturn\u001b[0m \u001b[0m_read\u001b[0m\u001b[0;34m(\u001b[0m\u001b[0mfilepath_or_buffer\u001b[0m\u001b[0;34m,\u001b[0m \u001b[0mkwds\u001b[0m\u001b[0;34m)\u001b[0m\u001b[0;34m\u001b[0m\u001b[0m\n\u001b[0m\u001b[1;32m    677\u001b[0m \u001b[0;34m\u001b[0m\u001b[0m\n\u001b[1;32m    678\u001b[0m     \u001b[0mparser_f\u001b[0m\u001b[0;34m.\u001b[0m\u001b[0m__name__\u001b[0m \u001b[0;34m=\u001b[0m \u001b[0mname\u001b[0m\u001b[0;34m\u001b[0m\u001b[0m\n",
      "\u001b[0;32m~/.virtualenvs/csc/lib/python3.6/site-packages/pandas/io/parsers.py\u001b[0m in \u001b[0;36m_read\u001b[0;34m(filepath_or_buffer, kwds)\u001b[0m\n\u001b[1;32m    446\u001b[0m \u001b[0;34m\u001b[0m\u001b[0m\n\u001b[1;32m    447\u001b[0m     \u001b[0;31m# Create the parser.\u001b[0m\u001b[0;34m\u001b[0m\u001b[0;34m\u001b[0m\u001b[0m\n\u001b[0;32m--> 448\u001b[0;31m     \u001b[0mparser\u001b[0m \u001b[0;34m=\u001b[0m \u001b[0mTextFileReader\u001b[0m\u001b[0;34m(\u001b[0m\u001b[0mfp_or_buf\u001b[0m\u001b[0;34m,\u001b[0m \u001b[0;34m**\u001b[0m\u001b[0mkwds\u001b[0m\u001b[0;34m)\u001b[0m\u001b[0;34m\u001b[0m\u001b[0m\n\u001b[0m\u001b[1;32m    449\u001b[0m \u001b[0;34m\u001b[0m\u001b[0m\n\u001b[1;32m    450\u001b[0m     \u001b[0;32mif\u001b[0m \u001b[0mchunksize\u001b[0m \u001b[0;32mor\u001b[0m \u001b[0miterator\u001b[0m\u001b[0;34m:\u001b[0m\u001b[0;34m\u001b[0m\u001b[0m\n",
      "\u001b[0;32m~/.virtualenvs/csc/lib/python3.6/site-packages/pandas/io/parsers.py\u001b[0m in \u001b[0;36m__init__\u001b[0;34m(self, f, engine, **kwds)\u001b[0m\n\u001b[1;32m    878\u001b[0m             \u001b[0mself\u001b[0m\u001b[0;34m.\u001b[0m\u001b[0moptions\u001b[0m\u001b[0;34m[\u001b[0m\u001b[0;34m\"has_index_names\"\u001b[0m\u001b[0;34m]\u001b[0m \u001b[0;34m=\u001b[0m \u001b[0mkwds\u001b[0m\u001b[0;34m[\u001b[0m\u001b[0;34m\"has_index_names\"\u001b[0m\u001b[0;34m]\u001b[0m\u001b[0;34m\u001b[0m\u001b[0m\n\u001b[1;32m    879\u001b[0m \u001b[0;34m\u001b[0m\u001b[0m\n\u001b[0;32m--> 880\u001b[0;31m         \u001b[0mself\u001b[0m\u001b[0;34m.\u001b[0m\u001b[0m_make_engine\u001b[0m\u001b[0;34m(\u001b[0m\u001b[0mself\u001b[0m\u001b[0;34m.\u001b[0m\u001b[0mengine\u001b[0m\u001b[0;34m)\u001b[0m\u001b[0;34m\u001b[0m\u001b[0m\n\u001b[0m\u001b[1;32m    881\u001b[0m \u001b[0;34m\u001b[0m\u001b[0m\n\u001b[1;32m    882\u001b[0m     \u001b[0;32mdef\u001b[0m \u001b[0mclose\u001b[0m\u001b[0;34m(\u001b[0m\u001b[0mself\u001b[0m\u001b[0;34m)\u001b[0m\u001b[0;34m:\u001b[0m\u001b[0;34m\u001b[0m\u001b[0m\n",
      "\u001b[0;32m~/.virtualenvs/csc/lib/python3.6/site-packages/pandas/io/parsers.py\u001b[0m in \u001b[0;36m_make_engine\u001b[0;34m(self, engine)\u001b[0m\n\u001b[1;32m   1112\u001b[0m     \u001b[0;32mdef\u001b[0m \u001b[0m_make_engine\u001b[0m\u001b[0;34m(\u001b[0m\u001b[0mself\u001b[0m\u001b[0;34m,\u001b[0m \u001b[0mengine\u001b[0m\u001b[0;34m=\u001b[0m\u001b[0;34m\"c\"\u001b[0m\u001b[0;34m)\u001b[0m\u001b[0;34m:\u001b[0m\u001b[0;34m\u001b[0m\u001b[0m\n\u001b[1;32m   1113\u001b[0m         \u001b[0;32mif\u001b[0m \u001b[0mengine\u001b[0m \u001b[0;34m==\u001b[0m \u001b[0;34m\"c\"\u001b[0m\u001b[0;34m:\u001b[0m\u001b[0;34m\u001b[0m\u001b[0m\n\u001b[0;32m-> 1114\u001b[0;31m             \u001b[0mself\u001b[0m\u001b[0;34m.\u001b[0m\u001b[0m_engine\u001b[0m \u001b[0;34m=\u001b[0m \u001b[0mCParserWrapper\u001b[0m\u001b[0;34m(\u001b[0m\u001b[0mself\u001b[0m\u001b[0;34m.\u001b[0m\u001b[0mf\u001b[0m\u001b[0;34m,\u001b[0m \u001b[0;34m**\u001b[0m\u001b[0mself\u001b[0m\u001b[0;34m.\u001b[0m\u001b[0moptions\u001b[0m\u001b[0;34m)\u001b[0m\u001b[0;34m\u001b[0m\u001b[0m\n\u001b[0m\u001b[1;32m   1115\u001b[0m         \u001b[0;32melse\u001b[0m\u001b[0;34m:\u001b[0m\u001b[0;34m\u001b[0m\u001b[0m\n\u001b[1;32m   1116\u001b[0m             \u001b[0;32mif\u001b[0m \u001b[0mengine\u001b[0m \u001b[0;34m==\u001b[0m \u001b[0;34m\"python\"\u001b[0m\u001b[0;34m:\u001b[0m\u001b[0;34m\u001b[0m\u001b[0m\n",
      "\u001b[0;32m~/.virtualenvs/csc/lib/python3.6/site-packages/pandas/io/parsers.py\u001b[0m in \u001b[0;36m__init__\u001b[0;34m(self, src, **kwds)\u001b[0m\n\u001b[1;32m   1889\u001b[0m         \u001b[0mkwds\u001b[0m\u001b[0;34m[\u001b[0m\u001b[0;34m\"usecols\"\u001b[0m\u001b[0;34m]\u001b[0m \u001b[0;34m=\u001b[0m \u001b[0mself\u001b[0m\u001b[0;34m.\u001b[0m\u001b[0musecols\u001b[0m\u001b[0;34m\u001b[0m\u001b[0m\n\u001b[1;32m   1890\u001b[0m \u001b[0;34m\u001b[0m\u001b[0m\n\u001b[0;32m-> 1891\u001b[0;31m         \u001b[0mself\u001b[0m\u001b[0;34m.\u001b[0m\u001b[0m_reader\u001b[0m \u001b[0;34m=\u001b[0m \u001b[0mparsers\u001b[0m\u001b[0;34m.\u001b[0m\u001b[0mTextReader\u001b[0m\u001b[0;34m(\u001b[0m\u001b[0msrc\u001b[0m\u001b[0;34m,\u001b[0m \u001b[0;34m**\u001b[0m\u001b[0mkwds\u001b[0m\u001b[0;34m)\u001b[0m\u001b[0;34m\u001b[0m\u001b[0m\n\u001b[0m\u001b[1;32m   1892\u001b[0m         \u001b[0mself\u001b[0m\u001b[0;34m.\u001b[0m\u001b[0munnamed_cols\u001b[0m \u001b[0;34m=\u001b[0m \u001b[0mself\u001b[0m\u001b[0;34m.\u001b[0m\u001b[0m_reader\u001b[0m\u001b[0;34m.\u001b[0m\u001b[0munnamed_cols\u001b[0m\u001b[0;34m\u001b[0m\u001b[0m\n\u001b[1;32m   1893\u001b[0m \u001b[0;34m\u001b[0m\u001b[0m\n",
      "\u001b[0;32mpandas/_libs/parsers.pyx\u001b[0m in \u001b[0;36mpandas._libs.parsers.TextReader.__cinit__\u001b[0;34m()\u001b[0m\n",
      "\u001b[0;32mpandas/_libs/parsers.pyx\u001b[0m in \u001b[0;36mpandas._libs.parsers.TextReader._setup_parser_source\u001b[0;34m()\u001b[0m\n",
      "\u001b[0;31mFileNotFoundError\u001b[0m: [Errno 2] File dataset_example.csv does not exist: 'dataset_example.csv'"
     ]
    }
   ],
   "source": [
    "file_name = 'dataset_example.csv'\n",
    "\n",
    "data = pd.read_csv(file_name, delimiter='\\\\')"
   ]
  },
  {
   "cell_type": "code",
   "execution_count": 3,
   "metadata": {},
   "outputs": [
    {
     "name": "stdout",
     "output_type": "stream",
     "text": [
      "(785566, 5)\n"
     ]
    },
    {
     "data": {
      "text/html": [
       "<div>\n",
       "<style scoped>\n",
       "    .dataframe tbody tr th:only-of-type {\n",
       "        vertical-align: middle;\n",
       "    }\n",
       "\n",
       "    .dataframe tbody tr th {\n",
       "        vertical-align: top;\n",
       "    }\n",
       "\n",
       "    .dataframe thead th {\n",
       "        text-align: right;\n",
       "    }\n",
       "</style>\n",
       "<table border=\"1\" class=\"dataframe\">\n",
       "  <thead>\n",
       "    <tr style=\"text-align: right;\">\n",
       "      <th></th>\n",
       "      <th>Заглавная страница</th>\n",
       "      <th>Unnamed: 1</th>\n",
       "      <th>[]</th>\n",
       "      <th>{'synonyms': [], 'hyponyms': [], 'hypernyms': [], 'antonyms': []}</th>\n",
       "      <th>[].1</th>\n",
       "    </tr>\n",
       "  </thead>\n",
       "  <tbody>\n",
       "    <tr>\n",
       "      <th>0</th>\n",
       "      <td>Фемиксира</td>\n",
       "      <td>noun</td>\n",
       "      <td>[('согласно легендам греческой мифологии — гор...</td>\n",
       "      <td>{'synonyms': ['', ''], 'hyponyms': ['', ''], '...</td>\n",
       "      <td>['']</td>\n",
       "    </tr>\n",
       "    <tr>\n",
       "      <th>1</th>\n",
       "      <td>эбонитовый</td>\n",
       "      <td>other</td>\n",
       "      <td>[('произведённый из эбонита', ['Для этого опыт...</td>\n",
       "      <td>{'synonyms': ['-', 'чёрный'], 'hyponyms': ['',...</td>\n",
       "      <td>['']</td>\n",
       "    </tr>\n",
       "    <tr>\n",
       "      <th>2</th>\n",
       "      <td>а</td>\n",
       "      <td>noun</td>\n",
       "      <td>[('название первой буквы русского алфавита или...</td>\n",
       "      <td>{'synonyms': ['и : аз'], 'hyponyms': ['—', '']...</td>\n",
       "      <td>['от а до я (от а до зет)', 'сказал а, говори ...</td>\n",
       "    </tr>\n",
       "    <tr>\n",
       "      <th>3</th>\n",
       "      <td>Ба</td>\n",
       "      <td>noun</td>\n",
       "      <td>[('демон засухи в древнекитайской мифологии', ...</td>\n",
       "      <td>{'synonyms': ['', ''], 'hyponyms': ['', ''], '...</td>\n",
       "      <td>['']</td>\n",
       "    </tr>\n",
       "    <tr>\n",
       "      <th>4</th>\n",
       "      <td>в</td>\n",
       "      <td>other</td>\n",
       "      <td>[('внутрь чего-либо (предмета или места)', ['П...</td>\n",
       "      <td>{'synonyms': ['внутрь', 'част. на', 'через', '...</td>\n",
       "      <td>['типовые сочетания с предлогом в']</td>\n",
       "    </tr>\n",
       "  </tbody>\n",
       "</table>\n",
       "</div>"
      ],
      "text/plain": [
       "  Заглавная страница Unnamed: 1  \\\n",
       "0          Фемиксира       noun   \n",
       "1         эбонитовый      other   \n",
       "2                  а       noun   \n",
       "3                 Ба       noun   \n",
       "4                  в      other   \n",
       "\n",
       "                                                  []  \\\n",
       "0  [('согласно легендам греческой мифологии — гор...   \n",
       "1  [('произведённый из эбонита', ['Для этого опыт...   \n",
       "2  [('название первой буквы русского алфавита или...   \n",
       "3  [('демон засухи в древнекитайской мифологии', ...   \n",
       "4  [('внутрь чего-либо (предмета или места)', ['П...   \n",
       "\n",
       "  {'synonyms': [], 'hyponyms': [], 'hypernyms': [], 'antonyms': []}  \\\n",
       "0  {'synonyms': ['', ''], 'hyponyms': ['', ''], '...                  \n",
       "1  {'synonyms': ['-', 'чёрный'], 'hyponyms': ['',...                  \n",
       "2  {'synonyms': ['и : аз'], 'hyponyms': ['—', '']...                  \n",
       "3  {'synonyms': ['', ''], 'hyponyms': ['', ''], '...                  \n",
       "4  {'synonyms': ['внутрь', 'част. на', 'через', '...                  \n",
       "\n",
       "                                                [].1  \n",
       "0                                               ['']  \n",
       "1                                               ['']  \n",
       "2  ['от а до я (от а до зет)', 'сказал а, говори ...  \n",
       "3                                               ['']  \n",
       "4                ['типовые сочетания с предлогом в']  "
      ]
     },
     "execution_count": 3,
     "metadata": {},
     "output_type": "execute_result"
    }
   ],
   "source": [
    "# Start configuration\n",
    "print(data.shape)\n",
    "# data.describe()\n",
    "data.head()"
   ]
  },
  {
   "cell_type": "code",
   "execution_count": 4,
   "metadata": {},
   "outputs": [],
   "source": [
    "df = data.copy()\n",
    "\n",
    "# renaming columns\n",
    "df.rename(columns={\n",
    "    df.columns[0]: 'word',\n",
    "    df.columns[1]: 'POS',\n",
    "    df.columns[2]: 'defs_str',\n",
    "    df.columns[3]: 'rels_str',\n",
    "    df.columns[4]: 'phras_str'\n",
    "}, inplace = True)"
   ]
  },
  {
   "cell_type": "markdown",
   "metadata": {},
   "source": [
    "Модифицируем вид данных.  \n",
    "Заменим идектификатор существительного на bool.  \n",
    "Определения, фразеологизмы, иные текстовые данные прочитаем в соответствии с их структурой (как списки, словари)."
   ]
  },
  {
   "cell_type": "code",
   "execution_count": 5,
   "metadata": {},
   "outputs": [],
   "source": [
    "is_noun = df['POS'].map(lambda x: x == 'noun')\n",
    "defs = df['defs_str'].map(lambda x: eval(x))\n",
    "rels = df['rels_str'].map(lambda x: eval(x))\n",
    "phras = df['phras_str'].map(lambda x: eval(x))\n",
    "\n",
    "df = df.drop(['POS', 'defs_str', 'rels_str', 'phras_str'], axis=1)"
   ]
  },
  {
   "cell_type": "code",
   "execution_count": 6,
   "metadata": {},
   "outputs": [
    {
     "data": {
      "text/html": [
       "<div>\n",
       "<style scoped>\n",
       "    .dataframe tbody tr th:only-of-type {\n",
       "        vertical-align: middle;\n",
       "    }\n",
       "\n",
       "    .dataframe tbody tr th {\n",
       "        vertical-align: top;\n",
       "    }\n",
       "\n",
       "    .dataframe thead th {\n",
       "        text-align: right;\n",
       "    }\n",
       "</style>\n",
       "<table border=\"1\" class=\"dataframe\">\n",
       "  <thead>\n",
       "    <tr style=\"text-align: right;\">\n",
       "      <th></th>\n",
       "      <th>word</th>\n",
       "      <th>is_noun</th>\n",
       "      <th>defs</th>\n",
       "      <th>rels</th>\n",
       "      <th>phras</th>\n",
       "    </tr>\n",
       "  </thead>\n",
       "  <tbody>\n",
       "    <tr>\n",
       "      <th>0</th>\n",
       "      <td>Фемиксира</td>\n",
       "      <td>True</td>\n",
       "      <td>[(согласно легендам греческой мифологии — горо...</td>\n",
       "      <td>{'synonyms': ['', ''], 'hyponyms': ['', ''], '...</td>\n",
       "      <td>[]</td>\n",
       "    </tr>\n",
       "    <tr>\n",
       "      <th>1</th>\n",
       "      <td>эбонитовый</td>\n",
       "      <td>False</td>\n",
       "      <td>[(произведённый из эбонита, [Для этого опыта н...</td>\n",
       "      <td>{'synonyms': ['-', 'чёрный'], 'hyponyms': ['',...</td>\n",
       "      <td>[]</td>\n",
       "    </tr>\n",
       "    <tr>\n",
       "      <th>2</th>\n",
       "      <td>а</td>\n",
       "      <td>True</td>\n",
       "      <td>[(название первой буквы русского алфавита или ...</td>\n",
       "      <td>{'synonyms': ['и : аз'], 'hyponyms': ['—', '']...</td>\n",
       "      <td>[от а до я (от а до зет), сказал а, говори и бэ]</td>\n",
       "    </tr>\n",
       "    <tr>\n",
       "      <th>3</th>\n",
       "      <td>Ба</td>\n",
       "      <td>True</td>\n",
       "      <td>[(демон засухи в древнекитайской мифологии, [О...</td>\n",
       "      <td>{'synonyms': ['', ''], 'hyponyms': ['', ''], '...</td>\n",
       "      <td>[]</td>\n",
       "    </tr>\n",
       "    <tr>\n",
       "      <th>4</th>\n",
       "      <td>в</td>\n",
       "      <td>False</td>\n",
       "      <td>[(внутрь чего-либо (предмета или места), [Пойт...</td>\n",
       "      <td>{'synonyms': ['внутрь', 'част. на', 'через', '...</td>\n",
       "      <td>[типовые сочетания с предлогом в]</td>\n",
       "    </tr>\n",
       "  </tbody>\n",
       "</table>\n",
       "</div>"
      ],
      "text/plain": [
       "         word  is_noun                                               defs  \\\n",
       "0   Фемиксира     True  [(согласно легендам греческой мифологии — горо...   \n",
       "1  эбонитовый    False  [(произведённый из эбонита, [Для этого опыта н...   \n",
       "2           а     True  [(название первой буквы русского алфавита или ...   \n",
       "3          Ба     True  [(демон засухи в древнекитайской мифологии, [О...   \n",
       "4           в    False  [(внутрь чего-либо (предмета или места), [Пойт...   \n",
       "\n",
       "                                                rels  \\\n",
       "0  {'synonyms': ['', ''], 'hyponyms': ['', ''], '...   \n",
       "1  {'synonyms': ['-', 'чёрный'], 'hyponyms': ['',...   \n",
       "2  {'synonyms': ['и : аз'], 'hyponyms': ['—', '']...   \n",
       "3  {'synonyms': ['', ''], 'hyponyms': ['', ''], '...   \n",
       "4  {'synonyms': ['внутрь', 'част. на', 'через', '...   \n",
       "\n",
       "                                              phras  \n",
       "0                                                []  \n",
       "1                                                []  \n",
       "2  [от а до я (от а до зет), сказал а, говори и бэ]  \n",
       "3                                                []  \n",
       "4                 [типовые сочетания с предлогом в]  "
      ]
     },
     "execution_count": 6,
     "metadata": {},
     "output_type": "execute_result"
    }
   ],
   "source": [
    "df_lists = pd.DataFrame({'is_noun': is_noun, 'defs': defs, 'rels': rels, 'phras': phras})\n",
    "df = pd.concat([df, df_lists], axis = 1)\n",
    "df.head()"
   ]
  },
  {
   "cell_type": "markdown",
   "metadata": {},
   "source": [
    "Можно удалить слова, начинающиеся с заглавной буквы, как нецелевые. Однако, текстовые данные при них могут быть полезны при построении языковой модели."
   ]
  },
  {
   "cell_type": "code",
   "execution_count": 7,
   "metadata": {},
   "outputs": [],
   "source": [
    "# delete names\n",
    "# df = df[df['word'].map(lambda x: not str(x).istitle())]"
   ]
  },
  {
   "cell_type": "markdown",
   "metadata": {},
   "source": [
    "Удалим все слова, содержащие символы кроме кириллицы и дефиса (например, в данных часто встречаются украинские слова с буквой i)."
   ]
  },
  {
   "cell_type": "code",
   "execution_count": 8,
   "metadata": {},
   "outputs": [],
   "source": [
    "import re\n",
    "\n",
    "word_pattern = re.compile('^[А-Яа-я-]+$')\n",
    "df = df[df['word'].map(lambda x: bool(re.match(word_pattern, str(x))))]"
   ]
  },
  {
   "cell_type": "code",
   "execution_count": 9,
   "metadata": {},
   "outputs": [
    {
     "name": "stdout",
     "output_type": "stream",
     "text": [
      "(681348, 5)\n"
     ]
    },
    {
     "data": {
      "text/html": [
       "<div>\n",
       "<style scoped>\n",
       "    .dataframe tbody tr th:only-of-type {\n",
       "        vertical-align: middle;\n",
       "    }\n",
       "\n",
       "    .dataframe tbody tr th {\n",
       "        vertical-align: top;\n",
       "    }\n",
       "\n",
       "    .dataframe thead th {\n",
       "        text-align: right;\n",
       "    }\n",
       "</style>\n",
       "<table border=\"1\" class=\"dataframe\">\n",
       "  <thead>\n",
       "    <tr style=\"text-align: right;\">\n",
       "      <th></th>\n",
       "      <th>word</th>\n",
       "      <th>is_noun</th>\n",
       "      <th>defs</th>\n",
       "      <th>rels</th>\n",
       "      <th>phras</th>\n",
       "    </tr>\n",
       "  </thead>\n",
       "  <tbody>\n",
       "    <tr>\n",
       "      <th>0</th>\n",
       "      <td>Фемиксира</td>\n",
       "      <td>True</td>\n",
       "      <td>[(согласно легендам греческой мифологии — горо...</td>\n",
       "      <td>{'synonyms': ['', ''], 'hyponyms': ['', ''], '...</td>\n",
       "      <td>[]</td>\n",
       "    </tr>\n",
       "    <tr>\n",
       "      <th>1</th>\n",
       "      <td>эбонитовый</td>\n",
       "      <td>False</td>\n",
       "      <td>[(произведённый из эбонита, [Для этого опыта н...</td>\n",
       "      <td>{'synonyms': ['-', 'чёрный'], 'hyponyms': ['',...</td>\n",
       "      <td>[]</td>\n",
       "    </tr>\n",
       "    <tr>\n",
       "      <th>2</th>\n",
       "      <td>а</td>\n",
       "      <td>True</td>\n",
       "      <td>[(название первой буквы русского алфавита или ...</td>\n",
       "      <td>{'synonyms': ['и : аз'], 'hyponyms': ['—', '']...</td>\n",
       "      <td>[от а до я (от а до зет), сказал а, говори и бэ]</td>\n",
       "    </tr>\n",
       "    <tr>\n",
       "      <th>3</th>\n",
       "      <td>Ба</td>\n",
       "      <td>True</td>\n",
       "      <td>[(демон засухи в древнекитайской мифологии, [О...</td>\n",
       "      <td>{'synonyms': ['', ''], 'hyponyms': ['', ''], '...</td>\n",
       "      <td>[]</td>\n",
       "    </tr>\n",
       "    <tr>\n",
       "      <th>4</th>\n",
       "      <td>в</td>\n",
       "      <td>False</td>\n",
       "      <td>[(внутрь чего-либо (предмета или места), [Пойт...</td>\n",
       "      <td>{'synonyms': ['внутрь', 'част. на', 'через', '...</td>\n",
       "      <td>[типовые сочетания с предлогом в]</td>\n",
       "    </tr>\n",
       "    <tr>\n",
       "      <th>...</th>\n",
       "      <td>...</td>\n",
       "      <td>...</td>\n",
       "      <td>...</td>\n",
       "      <td>...</td>\n",
       "      <td>...</td>\n",
       "    </tr>\n",
       "    <tr>\n",
       "      <th>785558</th>\n",
       "      <td>посттарантиновский</td>\n",
       "      <td>False</td>\n",
       "      <td>[(имеющий место после выхода первых фильмов Кв...</td>\n",
       "      <td>{'synonyms': ['', ''], 'hyponyms': ['', ''], '...</td>\n",
       "      <td>[]</td>\n",
       "    </tr>\n",
       "    <tr>\n",
       "      <th>785559</th>\n",
       "      <td>Фартанга</td>\n",
       "      <td>True</td>\n",
       "      <td>[(река на Северном Кавказе, правый приток Ассы...</td>\n",
       "      <td>{'synonyms': ['', ''], 'hyponyms': ['', ''], '...</td>\n",
       "      <td>[]</td>\n",
       "    </tr>\n",
       "    <tr>\n",
       "      <th>785561</th>\n",
       "      <td>гаплагрупа</td>\n",
       "      <td>True</td>\n",
       "      <td>[([[гаплогруппа, []), (Русский|гаплогруппа]], ...</td>\n",
       "      <td>{'synonyms': ['', ''], 'hyponyms': ['', ''], '...</td>\n",
       "      <td>[]</td>\n",
       "    </tr>\n",
       "    <tr>\n",
       "      <th>785563</th>\n",
       "      <td>хаплогрупа</td>\n",
       "      <td>True</td>\n",
       "      <td>[([[гаплогруппа, []), (Русский|гаплогруппа]], ...</td>\n",
       "      <td>{'synonyms': ['', ''], 'hyponyms': ['', ''], '...</td>\n",
       "      <td>[]</td>\n",
       "    </tr>\n",
       "    <tr>\n",
       "      <th>785564</th>\n",
       "      <td>гаплогрупа</td>\n",
       "      <td>True</td>\n",
       "      <td>[([[гаплогруппа, []), (Русский|гаплогруппа]], ...</td>\n",
       "      <td>{'synonyms': ['', ''], 'hyponyms': ['', ''], '...</td>\n",
       "      <td>[]</td>\n",
       "    </tr>\n",
       "  </tbody>\n",
       "</table>\n",
       "<p>681348 rows × 5 columns</p>\n",
       "</div>"
      ],
      "text/plain": [
       "                      word  is_noun  \\\n",
       "0                Фемиксира     True   \n",
       "1               эбонитовый    False   \n",
       "2                        а     True   \n",
       "3                       Ба     True   \n",
       "4                        в    False   \n",
       "...                    ...      ...   \n",
       "785558  посттарантиновский    False   \n",
       "785559            Фартанга     True   \n",
       "785561          гаплагрупа     True   \n",
       "785563          хаплогрупа     True   \n",
       "785564          гаплогрупа     True   \n",
       "\n",
       "                                                     defs  \\\n",
       "0       [(согласно легендам греческой мифологии — горо...   \n",
       "1       [(произведённый из эбонита, [Для этого опыта н...   \n",
       "2       [(название первой буквы русского алфавита или ...   \n",
       "3       [(демон засухи в древнекитайской мифологии, [О...   \n",
       "4       [(внутрь чего-либо (предмета или места), [Пойт...   \n",
       "...                                                   ...   \n",
       "785558  [(имеющий место после выхода первых фильмов Кв...   \n",
       "785559  [(река на Северном Кавказе, правый приток Ассы...   \n",
       "785561  [([[гаплогруппа, []), (Русский|гаплогруппа]], ...   \n",
       "785563  [([[гаплогруппа, []), (Русский|гаплогруппа]], ...   \n",
       "785564  [([[гаплогруппа, []), (Русский|гаплогруппа]], ...   \n",
       "\n",
       "                                                     rels  \\\n",
       "0       {'synonyms': ['', ''], 'hyponyms': ['', ''], '...   \n",
       "1       {'synonyms': ['-', 'чёрный'], 'hyponyms': ['',...   \n",
       "2       {'synonyms': ['и : аз'], 'hyponyms': ['—', '']...   \n",
       "3       {'synonyms': ['', ''], 'hyponyms': ['', ''], '...   \n",
       "4       {'synonyms': ['внутрь', 'част. на', 'через', '...   \n",
       "...                                                   ...   \n",
       "785558  {'synonyms': ['', ''], 'hyponyms': ['', ''], '...   \n",
       "785559  {'synonyms': ['', ''], 'hyponyms': ['', ''], '...   \n",
       "785561  {'synonyms': ['', ''], 'hyponyms': ['', ''], '...   \n",
       "785563  {'synonyms': ['', ''], 'hyponyms': ['', ''], '...   \n",
       "785564  {'synonyms': ['', ''], 'hyponyms': ['', ''], '...   \n",
       "\n",
       "                                                   phras  \n",
       "0                                                     []  \n",
       "1                                                     []  \n",
       "2       [от а до я (от а до зет), сказал а, говори и бэ]  \n",
       "3                                                     []  \n",
       "4                      [типовые сочетания с предлогом в]  \n",
       "...                                                  ...  \n",
       "785558                                                []  \n",
       "785559                                                []  \n",
       "785561                                                []  \n",
       "785563                                                []  \n",
       "785564                                                []  \n",
       "\n",
       "[681348 rows x 5 columns]"
      ]
     },
     "execution_count": 9,
     "metadata": {},
     "output_type": "execute_result"
    }
   ],
   "source": [
    "# df = df[df['defs'].map(lambda x: str(x) != '[]')]\n",
    "# df = df[df['defs'].map(lambda x: str(x) != \"[('', ['']), ('', [])]\")]\n",
    "print(df.shape)\n",
    "df"
   ]
  },
  {
   "cell_type": "markdown",
   "metadata": {},
   "source": [
    "Добавим столбец с числом определений слова.  \n",
    "Из общего ряда выбиваются два значения - 105 и 80."
   ]
  },
  {
   "cell_type": "code",
   "execution_count": 10,
   "metadata": {},
   "outputs": [
    {
     "data": {
      "text/plain": [
       "2      427977\n",
       "0      179176\n",
       "3       34157\n",
       "1       19097\n",
       "4       11866\n",
       "5        6046\n",
       "6        1279\n",
       "7         696\n",
       "8         397\n",
       "9         231\n",
       "10        130\n",
       "11         95\n",
       "12         70\n",
       "13         31\n",
       "14         22\n",
       "15         21\n",
       "17         16\n",
       "16         14\n",
       "18          6\n",
       "19          5\n",
       "21          3\n",
       "22          3\n",
       "20          2\n",
       "80          1\n",
       "25          1\n",
       "26          1\n",
       "28          1\n",
       "30          1\n",
       "32          1\n",
       "37          1\n",
       "105         1\n",
       "Name: n_defs, dtype: int64"
      ]
     },
     "execution_count": 10,
     "metadata": {},
     "output_type": "execute_result"
    }
   ],
   "source": [
    "n_defs = df['defs'].map(lambda x: len(x))\n",
    "df.insert(len(df.columns), 'n_defs', n_defs)\n",
    "df['n_defs'].value_counts()"
   ]
  },
  {
   "cell_type": "code",
   "execution_count": 11,
   "metadata": {},
   "outputs": [
    {
     "data": {
      "text/html": [
       "<div>\n",
       "<style scoped>\n",
       "    .dataframe tbody tr th:only-of-type {\n",
       "        vertical-align: middle;\n",
       "    }\n",
       "\n",
       "    .dataframe tbody tr th {\n",
       "        vertical-align: top;\n",
       "    }\n",
       "\n",
       "    .dataframe thead th {\n",
       "        text-align: right;\n",
       "    }\n",
       "</style>\n",
       "<table border=\"1\" class=\"dataframe\">\n",
       "  <thead>\n",
       "    <tr style=\"text-align: right;\">\n",
       "      <th></th>\n",
       "      <th>word</th>\n",
       "      <th>is_noun</th>\n",
       "      <th>defs</th>\n",
       "      <th>rels</th>\n",
       "      <th>phras</th>\n",
       "      <th>n_defs</th>\n",
       "    </tr>\n",
       "  </thead>\n",
       "  <tbody>\n",
       "    <tr>\n",
       "      <th>233675</th>\n",
       "      <td>СК</td>\n",
       "      <td>True</td>\n",
       "      <td>[(, []), (, (в названии серии электровозов), [...</td>\n",
       "      <td>{'synonyms': ['', '', ''], 'hyponyms': [], 'hy...</td>\n",
       "      <td>[]</td>\n",
       "      <td>105</td>\n",
       "    </tr>\n",
       "  </tbody>\n",
       "</table>\n",
       "</div>"
      ],
      "text/plain": [
       "       word  is_noun                                               defs  \\\n",
       "233675   СК     True  [(, []), (, (в названии серии электровозов), [...   \n",
       "\n",
       "                                                     rels phras  n_defs  \n",
       "233675  {'synonyms': ['', '', ''], 'hyponyms': [], 'hy...    []     105  "
      ]
     },
     "execution_count": 11,
     "metadata": {},
     "output_type": "execute_result"
    }
   ],
   "source": [
    "defs_105 = df.loc[df['n_defs'] == 105]\n",
    "defs_105"
   ]
  },
  {
   "cell_type": "code",
   "execution_count": 12,
   "metadata": {},
   "outputs": [
    {
     "data": {
      "text/html": [
       "<div>\n",
       "<style scoped>\n",
       "    .dataframe tbody tr th:only-of-type {\n",
       "        vertical-align: middle;\n",
       "    }\n",
       "\n",
       "    .dataframe tbody tr th {\n",
       "        vertical-align: top;\n",
       "    }\n",
       "\n",
       "    .dataframe thead th {\n",
       "        text-align: right;\n",
       "    }\n",
       "</style>\n",
       "<table border=\"1\" class=\"dataframe\">\n",
       "  <thead>\n",
       "    <tr style=\"text-align: right;\">\n",
       "      <th></th>\n",
       "      <th>word</th>\n",
       "      <th>is_noun</th>\n",
       "      <th>defs</th>\n",
       "      <th>rels</th>\n",
       "      <th>phras</th>\n",
       "      <th>n_defs</th>\n",
       "    </tr>\n",
       "  </thead>\n",
       "  <tbody>\n",
       "    <tr>\n",
       "      <th>272070</th>\n",
       "      <td>ВК</td>\n",
       "      <td>True</td>\n",
       "      <td>[(, []), (, []), (, []), (, []), (, []), (, []...</td>\n",
       "      <td>{'synonyms': ['', '', ''], 'hyponyms': [], 'hy...</td>\n",
       "      <td>[]</td>\n",
       "      <td>80</td>\n",
       "    </tr>\n",
       "  </tbody>\n",
       "</table>\n",
       "</div>"
      ],
      "text/plain": [
       "       word  is_noun                                               defs  \\\n",
       "272070   ВК     True  [(, []), (, []), (, []), (, []), (, []), (, []...   \n",
       "\n",
       "                                                     rels phras  n_defs  \n",
       "272070  {'synonyms': ['', '', ''], 'hyponyms': [], 'hy...    []      80  "
      ]
     },
     "execution_count": 12,
     "metadata": {},
     "output_type": "execute_result"
    }
   ],
   "source": [
    "defs_80 = df.loc[df['n_defs'] == 80]\n",
    "defs_80"
   ]
  },
  {
   "cell_type": "markdown",
   "metadata": {},
   "source": [
    "Удалим девиантные строки и построим гистограмму числа определений слов."
   ]
  },
  {
   "cell_type": "code",
   "execution_count": 16,
   "metadata": {},
   "outputs": [
    {
     "data": {
      "image/png": "[encoded data removed]",
      "text/plain": [
       "<Figure size 432x288 with 1 Axes>"
      ]
     },
     "metadata": {
      "needs_background": "light"
     },
     "output_type": "display_data"
    }
   ],
   "source": [
    "df = df.loc[df['n_defs'] != 105]\n",
    "df = df.loc[df['n_defs'] != 80]\n",
    "df['n_defs'].hist(bins=len(df['n_defs'].value_counts()))\n",
    "plt.gca().set_yscale(\"log\")"
   ]
  },
  {
   "cell_type": "markdown",
   "metadata": {},
   "source": [
    "Посмотрим на длину определений."
   ]
  },
  {
   "cell_type": "code",
   "execution_count": 14,
   "metadata": {},
   "outputs": [
    {
     "data": {
      "image/png": "[encoded data removed]",
      "text/plain": [
       "<Figure size 432x288 with 1 Axes>"
      ]
     },
     "metadata": {
      "needs_background": "light"
     },
     "output_type": "display_data"
    }
   ],
   "source": [
    "def_len = []\n",
    "for i in df['defs']:\n",
    "    for j in i:\n",
    "        def_len.append(len(j[0]))\n",
    "        \n",
    "plt.hist(def_len)\n",
    "plt.gca().set_yscale(\"log\")\n",
    "# def_len.value_counts()\n",
    "# print(np.mean(def_len))"
   ]
  },
  {
   "cell_type": "code",
   "execution_count": 24,
   "metadata": {},
   "outputs": [
    {
     "name": "stdout",
     "output_type": "stream",
     "text": [
      "Mean word lenght value:  10.155432041870062\n",
      "Frequency of unique values of the word_len array:\n",
      "[[    1     2     3     4     5     6     7     8     9    10    11    12\n",
      "     13    14    15    16    17    18    19    20    21    22    23    24\n",
      "     25    26    27    28    29    30    31    32    33    34    36    37\n",
      "     38    40    42    46    51    82]\n",
      " [   46   630  4808 13570 28026 40081 57661 74791 83126 85693 77186 65027\n",
      "  49309 35656 24311 15936 10034  6262  3802  2147  1288   668   416   294\n",
      "    193   128    93    57    26    35    18    14     1     2     1     2\n",
      "      1     2     1     2     1     1]]\n"
     ]
    },
    {
     "data": {
      "text/plain": [
       "(array([6.76000e+02, 1.83780e+04, 6.81070e+04, 1.32452e+05, 1.68819e+05,\n",
       "        1.42213e+05, 8.49650e+04, 4.02470e+04, 1.62960e+04, 5.94900e+03,\n",
       "        1.95600e+03, 7.10000e+02, 3.21000e+02, 9.30000e+01, 8.30000e+01,\n",
       "        5.30000e+01, 1.50000e+01, 2.00000e+00, 3.00000e+00, 1.00000e+00,\n",
       "        2.00000e+00, 1.00000e+00, 0.00000e+00, 2.00000e+00, 0.00000e+00,\n",
       "        1.00000e+00, 0.00000e+00, 0.00000e+00, 0.00000e+00, 0.00000e+00,\n",
       "        0.00000e+00, 0.00000e+00, 0.00000e+00, 0.00000e+00, 0.00000e+00,\n",
       "        0.00000e+00, 0.00000e+00, 0.00000e+00, 0.00000e+00, 0.00000e+00,\n",
       "        0.00000e+00, 1.00000e+00]),\n",
       " array([ 1.        ,  2.92857143,  4.85714286,  6.78571429,  8.71428571,\n",
       "        10.64285714, 12.57142857, 14.5       , 16.42857143, 18.35714286,\n",
       "        20.28571429, 22.21428571, 24.14285714, 26.07142857, 28.        ,\n",
       "        29.92857143, 31.85714286, 33.78571429, 35.71428571, 37.64285714,\n",
       "        39.57142857, 41.5       , 43.42857143, 45.35714286, 47.28571429,\n",
       "        49.21428571, 51.14285714, 53.07142857, 55.        , 56.92857143,\n",
       "        58.85714286, 60.78571429, 62.71428571, 64.64285714, 66.57142857,\n",
       "        68.5       , 70.42857143, 72.35714286, 74.28571429, 76.21428571,\n",
       "        78.14285714, 80.07142857, 82.        ]),\n",
       " <a list of 42 Patch objects>)"
      ]
     },
     "execution_count": 24,
     "metadata": {},
     "output_type": "execute_result"
    },
    {
     "data": {
      "image/png": "[encoded data removed]",
      "text/plain": [
       "<Figure size 432x288 with 1 Axes>"
      ]
     },
     "metadata": {
      "needs_background": "light"
     },
     "output_type": "display_data"
    }
   ],
   "source": [
    "word_len = df['word'].map(lambda x: len(x))\n",
    "print('Mean word lenght value: ', np.mean(word_len))\n",
    "\n",
    "unique_elements, counts_elements = np.unique(word_len, return_counts=True)\n",
    "print(\"Frequency of unique values of the word_len array:\")\n",
    "print(np.asarray((unique_elements, counts_elements)))\n",
    "\n",
    "plt.hist(word_len, bins=len(unique_elements))"
   ]
  },
  {
   "cell_type": "markdown",
   "metadata": {},
   "source": [
    "В целом, требуется очистить данные от шума - пустых определений, возможно, имен собственных, предлогов."
   ]
  }
 ],
 "metadata": {
  "kernelspec": {
   "display_name": "Python 3",
   "language": "python",
   "name": "python3"
  },
  "language_info": {
   "codemirror_mode": {
    "name": "ipython",
    "version": 3
   },
   "file_extension": ".py",
   "mimetype": "text/x-python",
   "name": "python",
   "nbconvert_exporter": "python",
   "pygments_lexer": "ipython3",
   "version": "3.6.3"
  }
 },
 "nbformat": 4,
 "nbformat_minor": 4
}
