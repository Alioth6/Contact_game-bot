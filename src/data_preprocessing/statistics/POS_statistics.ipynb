{
 "cells": [
  {
   "cell_type": "code",
   "execution_count": 1,
   "metadata": {},
   "outputs": [],
   "source": [
    "import numpy as np\n",
    "import pandas as pd\n",
    "import matplotlib.pyplot as plt\n",
    "import seaborn as sns\n",
    "%matplotlib inline\n",
    "\n",
    "from string import punctuation\n",
    "import json"
   ]
  },
  {
   "cell_type": "code",
   "execution_count": 2,
   "metadata": {},
   "outputs": [
    {
     "name": "stdout",
     "output_type": "stream",
     "text": [
      "(26861, 3)\n"
     ]
    },
    {
     "data": {
      "text/html": [
       "<div>\n",
       "<style scoped>\n",
       "    .dataframe tbody tr th:only-of-type {\n",
       "        vertical-align: middle;\n",
       "    }\n",
       "\n",
       "    .dataframe tbody tr th {\n",
       "        vertical-align: top;\n",
       "    }\n",
       "\n",
       "    .dataframe thead th {\n",
       "        text-align: right;\n",
       "    }\n",
       "</style>\n",
       "<table border=\"1\" class=\"dataframe\">\n",
       "  <thead>\n",
       "    <tr style=\"text-align: right;\">\n",
       "      <th></th>\n",
       "      <th>defs</th>\n",
       "      <th>word</th>\n",
       "      <th>len</th>\n",
       "    </tr>\n",
       "  </thead>\n",
       "  <tbody>\n",
       "    <tr>\n",
       "      <th>0</th>\n",
       "      <td>колпак на лампе</td>\n",
       "      <td>абажур</td>\n",
       "      <td>15</td>\n",
       "    </tr>\n",
       "    <tr>\n",
       "      <th>1</th>\n",
       "      <td>настоятель католического монастыря</td>\n",
       "      <td>аббат</td>\n",
       "      <td>34</td>\n",
       "    </tr>\n",
       "    <tr>\n",
       "      <th>2</th>\n",
       "      <td>католический священник</td>\n",
       "      <td>аббат</td>\n",
       "      <td>22</td>\n",
       "    </tr>\n",
       "    <tr>\n",
       "      <th>3</th>\n",
       "      <td>католический монастырь</td>\n",
       "      <td>аббатство</td>\n",
       "      <td>22</td>\n",
       "    </tr>\n",
       "    <tr>\n",
       "      <th>4</th>\n",
       "      <td>слово из первых букв</td>\n",
       "      <td>аббревиатура</td>\n",
       "      <td>20</td>\n",
       "    </tr>\n",
       "  </tbody>\n",
       "</table>\n",
       "</div>"
      ],
      "text/plain": [
       "                                 defs          word  len\n",
       "0                     колпак на лампе        абажур   15\n",
       "1  настоятель католического монастыря         аббат   34\n",
       "2              католический священник         аббат   22\n",
       "3              католический монастырь     аббатство   22\n",
       "4                слово из первых букв  аббревиатура   20"
      ]
     },
     "execution_count": 2,
     "metadata": {},
     "output_type": "execute_result"
    }
   ],
   "source": [
    "file_name = 'test_set_002.csv'\n",
    "\n",
    "data = pd.read_csv(file_name, delimiter=',')\n",
    "\n",
    "print(data.shape)\n",
    "data.head(5)"
   ]
  },
  {
   "cell_type": "code",
   "execution_count": 3,
   "metadata": {},
   "outputs": [],
   "source": [
    "import spacy\n",
    "\n",
    "\n",
    "nlp = spacy.load('ru2')\n",
    "nlp.add_pipe(nlp.create_pipe('sentencizer'), first=True)"
   ]
  },
  {
   "cell_type": "code",
   "execution_count": 4,
   "metadata": {},
   "outputs": [],
   "source": [
    "entries = ['POS', 'freq', 'example', 'isBigram']\n",
    "\n",
    "frequences = {}\n",
    "examples = {}\n",
    "isBigram = {}\n",
    "\n",
    "for text in data['defs']:\n",
    "    text = ''.join(x for x in text if x not in punctuation)\n",
    "    doc = nlp(text)\n",
    "    for i in range(len(doc)):\n",
    "        word = doc[i]\n",
    "        pos_tag = word.pos_\n",
    "        if pos_tag not in frequences:\n",
    "            examples[pos_tag] = word.lemma_\n",
    "            isBigram[pos_tag] = False\n",
    "        frequences[pos_tag] = frequences[pos_tag] + 1 if pos_tag in frequences else 1\n",
    "        j = i + 1\n",
    "        if j < len(doc):\n",
    "            bigram_pos_tag = pos_tag + \"+\" + doc[j].pos_\n",
    "            if bigram_pos_tag not in frequences:\n",
    "                examples[bigram_pos_tag] = word.lemma_ + \" \" + doc[j].lemma_\n",
    "                isBigram[bigram_pos_tag] = True\n",
    "            frequences[bigram_pos_tag] = frequences[bigram_pos_tag] + 1 if bigram_pos_tag in frequences else 1\n",
    "\n",
    "array = [[k, v, examples[k], isBigram[k]] for k,v in frequences.items()]\n",
    "        \n",
    "df = pd.DataFrame(data = array, columns = entries)\n",
    "df_sorted = df.sort_values('freq', ascending=False)"
   ]
  },
  {
   "cell_type": "code",
   "execution_count": 5,
   "metadata": {},
   "outputs": [
    {
     "data": {
      "text/html": [
       "<div>\n",
       "<style scoped>\n",
       "    .dataframe tbody tr th:only-of-type {\n",
       "        vertical-align: middle;\n",
       "    }\n",
       "\n",
       "    .dataframe tbody tr th {\n",
       "        vertical-align: top;\n",
       "    }\n",
       "\n",
       "    .dataframe thead th {\n",
       "        text-align: right;\n",
       "    }\n",
       "</style>\n",
       "<table border=\"1\" class=\"dataframe\">\n",
       "  <thead>\n",
       "    <tr style=\"text-align: right;\">\n",
       "      <th></th>\n",
       "      <th>POS</th>\n",
       "      <th>freq</th>\n",
       "      <th>example</th>\n",
       "      <th>isBigram</th>\n",
       "    </tr>\n",
       "  </thead>\n",
       "  <tbody>\n",
       "    <tr>\n",
       "      <th>0</th>\n",
       "      <td>NOUN</td>\n",
       "      <td>99465</td>\n",
       "      <td>колпак</td>\n",
       "      <td>False</td>\n",
       "    </tr>\n",
       "    <tr>\n",
       "      <th>5</th>\n",
       "      <td>ADJ</td>\n",
       "      <td>37989</td>\n",
       "      <td>католический</td>\n",
       "      <td>False</td>\n",
       "    </tr>\n",
       "    <tr>\n",
       "      <th>8</th>\n",
       "      <td>NOUN+NOUN</td>\n",
       "      <td>29152</td>\n",
       "      <td>искажение изображение</td>\n",
       "      <td>True</td>\n",
       "    </tr>\n",
       "    <tr>\n",
       "      <th>6</th>\n",
       "      <td>ADJ+NOUN</td>\n",
       "      <td>26193</td>\n",
       "      <td>католический монастырь</td>\n",
       "      <td>True</td>\n",
       "    </tr>\n",
       "    <tr>\n",
       "      <th>2</th>\n",
       "      <td>ADP</td>\n",
       "      <td>21904</td>\n",
       "      <td>на</td>\n",
       "      <td>False</td>\n",
       "    </tr>\n",
       "  </tbody>\n",
       "</table>\n",
       "</div>"
      ],
      "text/plain": [
       "         POS   freq                 example  isBigram\n",
       "0       NOUN  99465                  колпак     False\n",
       "5        ADJ  37989            католический     False\n",
       "8  NOUN+NOUN  29152   искажение изображение      True\n",
       "6   ADJ+NOUN  26193  католический монастырь      True\n",
       "2        ADP  21904                      на     False"
      ]
     },
     "execution_count": 5,
     "metadata": {},
     "output_type": "execute_result"
    }
   ],
   "source": [
    "df_sorted.head()"
   ]
  },
  {
   "cell_type": "code",
   "execution_count": 6,
   "metadata": {},
   "outputs": [],
   "source": [
    "df_sorted = df_sorted.loc[df_sorted['POS'] != 'SPACE']"
   ]
  },
  {
   "cell_type": "code",
   "execution_count": 7,
   "metadata": {},
   "outputs": [
    {
     "data": {
      "text/html": [
       "<div>\n",
       "<style scoped>\n",
       "    .dataframe tbody tr th:only-of-type {\n",
       "        vertical-align: middle;\n",
       "    }\n",
       "\n",
       "    .dataframe tbody tr th {\n",
       "        vertical-align: top;\n",
       "    }\n",
       "\n",
       "    .dataframe thead th {\n",
       "        text-align: right;\n",
       "    }\n",
       "</style>\n",
       "<table border=\"1\" class=\"dataframe\">\n",
       "  <thead>\n",
       "    <tr style=\"text-align: right;\">\n",
       "      <th></th>\n",
       "      <th>POS</th>\n",
       "      <th>freq</th>\n",
       "      <th>example</th>\n",
       "      <th>isBigram</th>\n",
       "    </tr>\n",
       "  </thead>\n",
       "  <tbody>\n",
       "    <tr>\n",
       "      <th>0</th>\n",
       "      <td>NOUN</td>\n",
       "      <td>99465</td>\n",
       "      <td>колпак</td>\n",
       "      <td>False</td>\n",
       "    </tr>\n",
       "    <tr>\n",
       "      <th>5</th>\n",
       "      <td>ADJ</td>\n",
       "      <td>37989</td>\n",
       "      <td>католический</td>\n",
       "      <td>False</td>\n",
       "    </tr>\n",
       "    <tr>\n",
       "      <th>8</th>\n",
       "      <td>NOUN+NOUN</td>\n",
       "      <td>29152</td>\n",
       "      <td>искажение изображение</td>\n",
       "      <td>True</td>\n",
       "    </tr>\n",
       "    <tr>\n",
       "      <th>6</th>\n",
       "      <td>ADJ+NOUN</td>\n",
       "      <td>26193</td>\n",
       "      <td>католический монастырь</td>\n",
       "      <td>True</td>\n",
       "    </tr>\n",
       "    <tr>\n",
       "      <th>2</th>\n",
       "      <td>ADP</td>\n",
       "      <td>21904</td>\n",
       "      <td>на</td>\n",
       "      <td>False</td>\n",
       "    </tr>\n",
       "    <tr>\n",
       "      <th>9</th>\n",
       "      <td>VERB</td>\n",
       "      <td>15374</td>\n",
       "      <td>поступать</td>\n",
       "      <td>False</td>\n",
       "    </tr>\n",
       "    <tr>\n",
       "      <th>1</th>\n",
       "      <td>NOUN+ADP</td>\n",
       "      <td>13882</td>\n",
       "      <td>колпак на</td>\n",
       "      <td>True</td>\n",
       "    </tr>\n",
       "    <tr>\n",
       "      <th>3</th>\n",
       "      <td>ADP+NOUN</td>\n",
       "      <td>13580</td>\n",
       "      <td>на лампе</td>\n",
       "      <td>True</td>\n",
       "    </tr>\n",
       "    <tr>\n",
       "      <th>4</th>\n",
       "      <td>NOUN+ADJ</td>\n",
       "      <td>11735</td>\n",
       "      <td>настоятель католический</td>\n",
       "      <td>True</td>\n",
       "    </tr>\n",
       "    <tr>\n",
       "      <th>22</th>\n",
       "      <td>CCONJ</td>\n",
       "      <td>10513</td>\n",
       "      <td>и</td>\n",
       "      <td>False</td>\n",
       "    </tr>\n",
       "  </tbody>\n",
       "</table>\n",
       "</div>"
      ],
      "text/plain": [
       "          POS   freq                  example  isBigram\n",
       "0        NOUN  99465                   колпак     False\n",
       "5         ADJ  37989             католический     False\n",
       "8   NOUN+NOUN  29152    искажение изображение      True\n",
       "6    ADJ+NOUN  26193   католический монастырь      True\n",
       "2         ADP  21904                       на     False\n",
       "9        VERB  15374                поступать     False\n",
       "1    NOUN+ADP  13882                колпак на      True\n",
       "3    ADP+NOUN  13580                 на лампе      True\n",
       "4    NOUN+ADJ  11735  настоятель католический      True\n",
       "22      CCONJ  10513                        и     False"
      ]
     },
     "execution_count": 7,
     "metadata": {},
     "output_type": "execute_result"
    }
   ],
   "source": [
    "df_sorted.head(10)"
   ]
  },
  {
   "cell_type": "code",
   "execution_count": 8,
   "metadata": {},
   "outputs": [
    {
     "data": {
      "image/png": "[encoded data removed]",
      "text/plain": [
       "<Figure size 432x288 with 1 Axes>"
      ]
     },
     "metadata": {
      "needs_background": "light"
     },
     "output_type": "display_data"
    }
   ],
   "source": [
    "h = df_sorted['freq'].hist()\n",
    "fig = h.get_figure()"
   ]
  },
  {
   "cell_type": "code",
   "execution_count": 9,
   "metadata": {},
   "outputs": [],
   "source": [
    "data_pos = df_sorted.loc[df_sorted['isBigram'] == False]\n",
    "data_bigram_pos = df_sorted.loc[df_sorted['isBigram'] == True]"
   ]
  },
  {
   "cell_type": "code",
   "execution_count": 10,
   "metadata": {},
   "outputs": [
    {
     "data": {
      "text/html": [
       "<div>\n",
       "<style scoped>\n",
       "    .dataframe tbody tr th:only-of-type {\n",
       "        vertical-align: middle;\n",
       "    }\n",
       "\n",
       "    .dataframe tbody tr th {\n",
       "        vertical-align: top;\n",
       "    }\n",
       "\n",
       "    .dataframe thead th {\n",
       "        text-align: right;\n",
       "    }\n",
       "</style>\n",
       "<table border=\"1\" class=\"dataframe\">\n",
       "  <thead>\n",
       "    <tr style=\"text-align: right;\">\n",
       "      <th></th>\n",
       "      <th>POS</th>\n",
       "      <th>freq</th>\n",
       "      <th>example</th>\n",
       "      <th>isBigram</th>\n",
       "    </tr>\n",
       "  </thead>\n",
       "  <tbody>\n",
       "    <tr>\n",
       "      <th>0</th>\n",
       "      <td>NOUN</td>\n",
       "      <td>99465</td>\n",
       "      <td>колпак</td>\n",
       "      <td>False</td>\n",
       "    </tr>\n",
       "    <tr>\n",
       "      <th>5</th>\n",
       "      <td>ADJ</td>\n",
       "      <td>37989</td>\n",
       "      <td>католический</td>\n",
       "      <td>False</td>\n",
       "    </tr>\n",
       "    <tr>\n",
       "      <th>2</th>\n",
       "      <td>ADP</td>\n",
       "      <td>21904</td>\n",
       "      <td>на</td>\n",
       "      <td>False</td>\n",
       "    </tr>\n",
       "    <tr>\n",
       "      <th>9</th>\n",
       "      <td>VERB</td>\n",
       "      <td>15374</td>\n",
       "      <td>поступать</td>\n",
       "      <td>False</td>\n",
       "    </tr>\n",
       "    <tr>\n",
       "      <th>22</th>\n",
       "      <td>CCONJ</td>\n",
       "      <td>10513</td>\n",
       "      <td>и</td>\n",
       "      <td>False</td>\n",
       "    </tr>\n",
       "  </tbody>\n",
       "</table>\n",
       "</div>"
      ],
      "text/plain": [
       "      POS   freq       example  isBigram\n",
       "0    NOUN  99465        колпак     False\n",
       "5     ADJ  37989  католический     False\n",
       "2     ADP  21904            на     False\n",
       "9    VERB  15374     поступать     False\n",
       "22  CCONJ  10513             и     False"
      ]
     },
     "execution_count": 10,
     "metadata": {},
     "output_type": "execute_result"
    }
   ],
   "source": [
    "data_pos.head()"
   ]
  },
  {
   "cell_type": "code",
   "execution_count": 11,
   "metadata": {},
   "outputs": [
    {
     "data": {
      "text/html": [
       "<div>\n",
       "<style scoped>\n",
       "    .dataframe tbody tr th:only-of-type {\n",
       "        vertical-align: middle;\n",
       "    }\n",
       "\n",
       "    .dataframe tbody tr th {\n",
       "        vertical-align: top;\n",
       "    }\n",
       "\n",
       "    .dataframe thead th {\n",
       "        text-align: right;\n",
       "    }\n",
       "</style>\n",
       "<table border=\"1\" class=\"dataframe\">\n",
       "  <thead>\n",
       "    <tr style=\"text-align: right;\">\n",
       "      <th></th>\n",
       "      <th>POS</th>\n",
       "      <th>freq</th>\n",
       "      <th>example</th>\n",
       "      <th>isBigram</th>\n",
       "    </tr>\n",
       "  </thead>\n",
       "  <tbody>\n",
       "    <tr>\n",
       "      <th>8</th>\n",
       "      <td>NOUN+NOUN</td>\n",
       "      <td>29152</td>\n",
       "      <td>искажение изображение</td>\n",
       "      <td>True</td>\n",
       "    </tr>\n",
       "    <tr>\n",
       "      <th>6</th>\n",
       "      <td>ADJ+NOUN</td>\n",
       "      <td>26193</td>\n",
       "      <td>католический монастырь</td>\n",
       "      <td>True</td>\n",
       "    </tr>\n",
       "    <tr>\n",
       "      <th>1</th>\n",
       "      <td>NOUN+ADP</td>\n",
       "      <td>13882</td>\n",
       "      <td>колпак на</td>\n",
       "      <td>True</td>\n",
       "    </tr>\n",
       "    <tr>\n",
       "      <th>3</th>\n",
       "      <td>ADP+NOUN</td>\n",
       "      <td>13580</td>\n",
       "      <td>на лампе</td>\n",
       "      <td>True</td>\n",
       "    </tr>\n",
       "    <tr>\n",
       "      <th>4</th>\n",
       "      <td>NOUN+ADJ</td>\n",
       "      <td>11735</td>\n",
       "      <td>настоятель католический</td>\n",
       "      <td>True</td>\n",
       "    </tr>\n",
       "    <tr>\n",
       "      <th>21</th>\n",
       "      <td>NOUN+CCONJ</td>\n",
       "      <td>7672</td>\n",
       "      <td>течении и</td>\n",
       "      <td>True</td>\n",
       "    </tr>\n",
       "    <tr>\n",
       "      <th>14</th>\n",
       "      <td>NOUN+VERB</td>\n",
       "      <td>7313</td>\n",
       "      <td>книга выдаваться</td>\n",
       "      <td>True</td>\n",
       "    </tr>\n",
       "    <tr>\n",
       "      <th>25</th>\n",
       "      <td>ADJ+ADJ</td>\n",
       "      <td>5476</td>\n",
       "      <td>классический академичный</td>\n",
       "      <td>True</td>\n",
       "    </tr>\n",
       "    <tr>\n",
       "      <th>23</th>\n",
       "      <td>CCONJ+NOUN</td>\n",
       "      <td>5236</td>\n",
       "      <td>и тонна</td>\n",
       "      <td>True</td>\n",
       "    </tr>\n",
       "    <tr>\n",
       "      <th>19</th>\n",
       "      <td>VERB+NOUN</td>\n",
       "      <td>5133</td>\n",
       "      <td>поглощать вода</td>\n",
       "      <td>True</td>\n",
       "    </tr>\n",
       "    <tr>\n",
       "      <th>7</th>\n",
       "      <td>ADP+ADJ</td>\n",
       "      <td>4840</td>\n",
       "      <td>из один</td>\n",
       "      <td>True</td>\n",
       "    </tr>\n",
       "    <tr>\n",
       "      <th>10</th>\n",
       "      <td>VERB+ADP</td>\n",
       "      <td>4249</td>\n",
       "      <td>поступать в</td>\n",
       "      <td>True</td>\n",
       "    </tr>\n",
       "    <tr>\n",
       "      <th>33</th>\n",
       "      <td>CCONJ+ADJ</td>\n",
       "      <td>2789</td>\n",
       "      <td>и требующие</td>\n",
       "      <td>True</td>\n",
       "    </tr>\n",
       "    <tr>\n",
       "      <th>57</th>\n",
       "      <td>DET+NOUN</td>\n",
       "      <td>2671</td>\n",
       "      <td>весь коллектив</td>\n",
       "      <td>True</td>\n",
       "    </tr>\n",
       "    <tr>\n",
       "      <th>11</th>\n",
       "      <td>NOUN+ADV</td>\n",
       "      <td>2115</td>\n",
       "      <td>библиотека где</td>\n",
       "      <td>True</td>\n",
       "    </tr>\n",
       "    <tr>\n",
       "      <th>18</th>\n",
       "      <td>PRON+VERB</td>\n",
       "      <td>2097</td>\n",
       "      <td>которое поглощать</td>\n",
       "      <td>True</td>\n",
       "    </tr>\n",
       "    <tr>\n",
       "      <th>48</th>\n",
       "      <td>VERB+ADJ</td>\n",
       "      <td>1950</td>\n",
       "      <td>осуществлять грузопассажирский</td>\n",
       "      <td>True</td>\n",
       "    </tr>\n",
       "    <tr>\n",
       "      <th>52</th>\n",
       "      <td>SPACE+NOUN</td>\n",
       "      <td>1860</td>\n",
       "      <td>сетка</td>\n",
       "      <td>True</td>\n",
       "    </tr>\n",
       "    <tr>\n",
       "      <th>29</th>\n",
       "      <td>ADJ+CCONJ</td>\n",
       "      <td>1751</td>\n",
       "      <td>выраженный или</td>\n",
       "      <td>True</td>\n",
       "    </tr>\n",
       "    <tr>\n",
       "      <th>78</th>\n",
       "      <td>NOUN+DET</td>\n",
       "      <td>1683</td>\n",
       "      <td>проблема свой</td>\n",
       "      <td>True</td>\n",
       "    </tr>\n",
       "  </tbody>\n",
       "</table>\n",
       "</div>"
      ],
      "text/plain": [
       "           POS   freq                         example  isBigram\n",
       "8    NOUN+NOUN  29152           искажение изображение      True\n",
       "6     ADJ+NOUN  26193          католический монастырь      True\n",
       "1     NOUN+ADP  13882                       колпак на      True\n",
       "3     ADP+NOUN  13580                        на лампе      True\n",
       "4     NOUN+ADJ  11735         настоятель католический      True\n",
       "21  NOUN+CCONJ   7672                       течении и      True\n",
       "14   NOUN+VERB   7313                книга выдаваться      True\n",
       "25     ADJ+ADJ   5476        классический академичный      True\n",
       "23  CCONJ+NOUN   5236                         и тонна      True\n",
       "19   VERB+NOUN   5133                  поглощать вода      True\n",
       "7      ADP+ADJ   4840                         из один      True\n",
       "10    VERB+ADP   4249                     поступать в      True\n",
       "33   CCONJ+ADJ   2789                     и требующие      True\n",
       "57    DET+NOUN   2671                  весь коллектив      True\n",
       "11    NOUN+ADV   2115                  библиотека где      True\n",
       "18   PRON+VERB   2097               которое поглощать      True\n",
       "48    VERB+ADJ   1950  осуществлять грузопассажирский      True\n",
       "52  SPACE+NOUN   1860                           сетка      True\n",
       "29   ADJ+CCONJ   1751                  выраженный или      True\n",
       "78    NOUN+DET   1683                   проблема свой      True"
      ]
     },
     "execution_count": 11,
     "metadata": {},
     "output_type": "execute_result"
    }
   ],
   "source": [
    "data_bigram_pos.head(20)"
   ]
  },
  {
   "cell_type": "code",
   "execution_count": 12,
   "metadata": {},
   "outputs": [
    {
     "data": {
      "image/png": "[encoded data removed]",
      "text/plain": [
       "<Figure size 648x432 with 1 Axes>"
      ]
     },
     "metadata": {
      "needs_background": "light"
     },
     "output_type": "display_data"
    }
   ],
   "source": [
    "x = data_pos['POS']\n",
    "y = data_pos['freq']\n",
    "\n",
    "fig, ax = plt.subplots()\n",
    "\n",
    "plt.title('Frequences of POS')\n",
    "\n",
    "ax.bar(x, y)\n",
    "\n",
    "fig.set_figwidth(9)\n",
    "fig.set_figheight(6)\n",
    "\n",
    "plt.show()"
   ]
  },
  {
   "cell_type": "code",
   "execution_count": 13,
   "metadata": {},
   "outputs": [
    {
     "data": {
      "text/plain": [
       "(201, 4)"
      ]
     },
     "execution_count": 13,
     "metadata": {},
     "output_type": "execute_result"
    }
   ],
   "source": [
    "data_bigram_pos.shape"
   ]
  },
  {
   "cell_type": "code",
   "execution_count": 14,
   "metadata": {},
   "outputs": [
    {
     "data": {
      "text/plain": [
       "52.0"
      ]
     },
     "execution_count": 14,
     "metadata": {},
     "output_type": "execute_result"
    }
   ],
   "source": [
    "data_bigram_pos['freq'].median()"
   ]
  },
  {
   "cell_type": "code",
   "execution_count": 15,
   "metadata": {},
   "outputs": [
    {
     "data": {
      "text/plain": [
       "1356.0"
      ]
     },
     "execution_count": 15,
     "metadata": {},
     "output_type": "execute_result"
    }
   ],
   "source": [
    "np.percentile(data_bigram_pos['freq'], 90)"
   ]
  },
  {
   "cell_type": "code",
   "execution_count": 16,
   "metadata": {},
   "outputs": [],
   "source": [
    "data_bigram_pos = data_bigram_pos.loc[data_bigram_pos['freq'] >= 1356]"
   ]
  },
  {
   "cell_type": "code",
   "execution_count": 17,
   "metadata": {},
   "outputs": [
    {
     "data": {
      "image/png": "[encoded data removed]",
      "text/plain": [
       "<Figure size 1296x432 with 1 Axes>"
      ]
     },
     "metadata": {
      "needs_background": "light"
     },
     "output_type": "display_data"
    }
   ],
   "source": [
    "x = data_bigram_pos['POS']\n",
    "y = data_bigram_pos['freq']\n",
    "\n",
    "fig, ax = plt.subplots()\n",
    "\n",
    "plt.title('Frequences of Bigram POS')\n",
    "\n",
    "ax.bar(x, y)\n",
    "\n",
    "ax.set_xticklabels(x, rotation = 45)  \n",
    "\n",
    "fig.set_figwidth(18)\n",
    "fig.set_figheight(6)\n",
    "\n",
    "plt.show()"
   ]
  },
  {
   "cell_type": "code",
   "execution_count": null,
   "metadata": {},
   "outputs": [],
   "source": []
  }
 ],
 "metadata": {
  "kernelspec": {
   "display_name": "Python 3",
   "language": "python",
   "name": "python3"
  },
  "language_info": {
   "codemirror_mode": {
    "name": "ipython",
    "version": 3
   },
   "file_extension": ".py",
   "mimetype": "text/x-python",
   "name": "python",
   "nbconvert_exporter": "python",
   "pygments_lexer": "ipython3",
   "version": "3.7.3"
  }
 },
 "nbformat": 4,
 "nbformat_minor": 2
}
