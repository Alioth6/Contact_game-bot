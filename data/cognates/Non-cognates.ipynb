{
 "cells": [
  {
   "cell_type": "code",
   "execution_count": 1,
   "metadata": {},
   "outputs": [
    {
     "data": {
      "text/plain": [
       "(618260, 6)"
      ]
     },
     "execution_count": 1,
     "metadata": {},
     "output_type": "execute_result"
    }
   ],
   "source": [
    "import pandas as pd\n",
    "\n",
    "data = pd.read_csv('cognates_dataset_clean.csv', encoding='cp1251')\n",
    "data.shape"
   ]
  },
  {
   "cell_type": "code",
   "execution_count": 2,
   "metadata": {},
   "outputs": [],
   "source": [
    "cognates_dict = dict()\n",
    "for index, row in data.iterrows():\n",
    "    curr_first, curr_second = row.first_word, row.second_word\n",
    "    if curr_first not in cognates_dict:\n",
    "        cognates_dict[curr_first] = [curr_second]\n",
    "    else:\n",
    "        cognates_dict[curr_first].append(curr_second)\n",
    "    \n",
    "    if curr_second not in cognates_dict:\n",
    "        cognates_dict[curr_second] = [curr_first]\n",
    "    else:\n",
    "        cognates_dict[curr_second].append(curr_first)"
   ]
  },
  {
   "cell_type": "code",
   "execution_count": 3,
   "metadata": {},
   "outputs": [
    {
     "name": "stdout",
     "output_type": "stream",
     "text": [
      "['Гаагец', 'Гаагец', 'Гаагцы', 'Гаагцы']\n"
     ]
    }
   ],
   "source": [
    "print(cognates_dict['Гаагский'])"
   ]
  },
  {
   "cell_type": "code",
   "execution_count": 4,
   "metadata": {},
   "outputs": [
    {
     "name": "stdout",
     "output_type": "stream",
     "text": [
      "78263\n"
     ]
    }
   ],
   "source": [
    "arr = [key for key in cognates_dict]\n",
    "print(len(arr))"
   ]
  },
  {
   "cell_type": "code",
   "execution_count": 5,
   "metadata": {},
   "outputs": [],
   "source": [
    "from random import randint\n",
    "\n",
    "n_count = 10\n",
    "non_cognates = []\n",
    "\n",
    "for word in cognates_dict:\n",
    "    for i in range(n_count):\n",
    "        index = randint(0, len(arr) - 1)\n",
    "        random_word = arr[index]\n",
    "        if random_word not in cognates_dict[word] and word != random_word and len(non_cognates) <= 618000:\n",
    "            non_cognates.append([word, random_word])"
   ]
  },
  {
   "cell_type": "code",
   "execution_count": 6,
   "metadata": {},
   "outputs": [],
   "source": [
    "def dist_Levenshtein(s1, s2):\n",
    "    d = [[0] * (len(s2) + 1) for _ in range(len(s1) + 1)]\n",
    "    for i in range(len(s1) + 1):\n",
    "        for j in range(len(s2) + 1):\n",
    "            if i == 0:\n",
    "                d[i][j] = j\n",
    "            elif j == 0:\n",
    "                d[i][j] = i\n",
    "            else:\n",
    "                d[i][j] = min(d[i][j - 1] + 1, d[i - 1][j] + 1)\n",
    "                delta = 0 if s1[i - 1] == s2[j - 1] else 1\n",
    "                d[i][j] = min(d[i][j], d[i - 1][j - 1] + delta)\n",
    "                \n",
    "    return d[len(s1)][len(s2)]"
   ]
  },
  {
   "cell_type": "code",
   "execution_count": 7,
   "metadata": {},
   "outputs": [],
   "source": [
    "def longest_common_substring(s1, s2):\n",
    "    d = [[0] * (len(s2) + 1) for _ in range(len(s1) + 1)]\n",
    "    max_val = 0\n",
    "    for i in range(len(s1) + 1):\n",
    "        for j in range(len(s2) + 1):\n",
    "            if i and j and s1[i - 1] == s2[j - 1]:\n",
    "                d[i][j] = d[i - 1][j - 1] + 1\n",
    "            if d[i][j] > max_val:\n",
    "                max_val = d[i][j]\n",
    "\n",
    "    return max_val"
   ]
  },
  {
   "cell_type": "code",
   "execution_count": 8,
   "metadata": {},
   "outputs": [],
   "source": [
    "def longest_common_subsequence(s1, s2):\n",
    "    d = [[0] * (len(s2) + 1) for _ in range(len(s1) + 1)]\n",
    "    max_val = 0\n",
    "    for i in range(len(s1) + 1):\n",
    "        for j in range(len(s2) + 1):\n",
    "            if i and j and s1[i - 1] == s2[j - 1]:\n",
    "                d[i][j] = d[i - 1][j - 1] + 1\n",
    "            if i and j and s1[i - 1] != s2[j - 1]:\n",
    "                d[i][j] = max(d[i - 1][j], d[i][j - 1])\n",
    "            if d[i][j] > max_val:\n",
    "                max_val = d[i][j]\n",
    "\n",
    "    return max_val"
   ]
  },
  {
   "cell_type": "code",
   "execution_count": 9,
   "metadata": {},
   "outputs": [
    {
     "data": {
      "text/html": [
       "<div>\n",
       "<style scoped>\n",
       "    .dataframe tbody tr th:only-of-type {\n",
       "        vertical-align: middle;\n",
       "    }\n",
       "\n",
       "    .dataframe tbody tr th {\n",
       "        vertical-align: top;\n",
       "    }\n",
       "\n",
       "    .dataframe thead th {\n",
       "        text-align: right;\n",
       "    }\n",
       "</style>\n",
       "<table border=\"1\" class=\"dataframe\">\n",
       "  <thead>\n",
       "    <tr style=\"text-align: right;\">\n",
       "      <th></th>\n",
       "      <th>Unnamed: 0</th>\n",
       "      <th>first_word</th>\n",
       "      <th>second_word</th>\n",
       "      <th>Levenshtein</th>\n",
       "      <th>longest_common_substr</th>\n",
       "      <th>longest_common_subs</th>\n",
       "    </tr>\n",
       "  </thead>\n",
       "  <tbody>\n",
       "    <tr>\n",
       "      <th>0</th>\n",
       "      <td>0</td>\n",
       "      <td>А-конто</td>\n",
       "      <td>Аканье</td>\n",
       "      <td>4</td>\n",
       "      <td>1</td>\n",
       "      <td>3</td>\n",
       "    </tr>\n",
       "    <tr>\n",
       "      <th>1</th>\n",
       "      <td>1</td>\n",
       "      <td>А-конто</td>\n",
       "      <td>Акать</td>\n",
       "      <td>4</td>\n",
       "      <td>1</td>\n",
       "      <td>3</td>\n",
       "    </tr>\n",
       "    <tr>\n",
       "      <th>2</th>\n",
       "      <td>2</td>\n",
       "      <td>А-конто</td>\n",
       "      <td>Акающий</td>\n",
       "      <td>6</td>\n",
       "      <td>1</td>\n",
       "      <td>2</td>\n",
       "    </tr>\n",
       "    <tr>\n",
       "      <th>3</th>\n",
       "      <td>3</td>\n",
       "      <td>А-конто</td>\n",
       "      <td>Ашка</td>\n",
       "      <td>5</td>\n",
       "      <td>1</td>\n",
       "      <td>2</td>\n",
       "    </tr>\n",
       "    <tr>\n",
       "      <th>4</th>\n",
       "      <td>4</td>\n",
       "      <td>А-конто</td>\n",
       "      <td>Бамовец</td>\n",
       "      <td>6</td>\n",
       "      <td>1</td>\n",
       "      <td>1</td>\n",
       "    </tr>\n",
       "  </tbody>\n",
       "</table>\n",
       "</div>"
      ],
      "text/plain": [
       "   Unnamed: 0 first_word second_word  Levenshtein  longest_common_substr  \\\n",
       "0           0    А-конто      Аканье            4                      1   \n",
       "1           1    А-конто       Акать            4                      1   \n",
       "2           2    А-конто     Акающий            6                      1   \n",
       "3           3    А-конто        Ашка            5                      1   \n",
       "4           4    А-конто     Бамовец            6                      1   \n",
       "\n",
       "   longest_common_subs  \n",
       "0                    3  \n",
       "1                    3  \n",
       "2                    2  \n",
       "3                    2  \n",
       "4                    1  "
      ]
     },
     "execution_count": 9,
     "metadata": {},
     "output_type": "execute_result"
    }
   ],
   "source": [
    "data.head()"
   ]
  },
  {
   "cell_type": "code",
   "execution_count": 10,
   "metadata": {},
   "outputs": [
    {
     "data": {
      "text/html": [
       "<div>\n",
       "<style scoped>\n",
       "    .dataframe tbody tr th:only-of-type {\n",
       "        vertical-align: middle;\n",
       "    }\n",
       "\n",
       "    .dataframe tbody tr th {\n",
       "        vertical-align: top;\n",
       "    }\n",
       "\n",
       "    .dataframe thead th {\n",
       "        text-align: right;\n",
       "    }\n",
       "</style>\n",
       "<table border=\"1\" class=\"dataframe\">\n",
       "  <thead>\n",
       "    <tr style=\"text-align: right;\">\n",
       "      <th></th>\n",
       "      <th>first_word</th>\n",
       "      <th>second_word</th>\n",
       "    </tr>\n",
       "  </thead>\n",
       "  <tbody>\n",
       "    <tr>\n",
       "      <th>0</th>\n",
       "      <td>А-конто</td>\n",
       "      <td>Телеэкран</td>\n",
       "    </tr>\n",
       "    <tr>\n",
       "      <th>1</th>\n",
       "      <td>А-конто</td>\n",
       "      <td>Коллективизм</td>\n",
       "    </tr>\n",
       "    <tr>\n",
       "      <th>2</th>\n",
       "      <td>А-конто</td>\n",
       "      <td>Семерик</td>\n",
       "    </tr>\n",
       "    <tr>\n",
       "      <th>3</th>\n",
       "      <td>А-конто</td>\n",
       "      <td>Скрючить</td>\n",
       "    </tr>\n",
       "    <tr>\n",
       "      <th>4</th>\n",
       "      <td>А-конто</td>\n",
       "      <td>Эозойский</td>\n",
       "    </tr>\n",
       "  </tbody>\n",
       "</table>\n",
       "</div>"
      ],
      "text/plain": [
       "  first_word   second_word\n",
       "0    А-конто     Телеэкран\n",
       "1    А-конто  Коллективизм\n",
       "2    А-конто       Семерик\n",
       "3    А-конто      Скрючить\n",
       "4    А-конто     Эозойский"
      ]
     },
     "execution_count": 10,
     "metadata": {},
     "output_type": "execute_result"
    }
   ],
   "source": [
    "import numpy as np\n",
    "\n",
    "array = np.array(non_cognates)\n",
    "columns = ['first_word', 'second_word']\n",
    "\n",
    "new_data = pd.DataFrame(array, columns=columns)\n",
    "new_data.head()"
   ]
  },
  {
   "cell_type": "code",
   "execution_count": 11,
   "metadata": {},
   "outputs": [
    {
     "data": {
      "text/html": [
       "<div>\n",
       "<style scoped>\n",
       "    .dataframe tbody tr th:only-of-type {\n",
       "        vertical-align: middle;\n",
       "    }\n",
       "\n",
       "    .dataframe tbody tr th {\n",
       "        vertical-align: top;\n",
       "    }\n",
       "\n",
       "    .dataframe thead th {\n",
       "        text-align: right;\n",
       "    }\n",
       "</style>\n",
       "<table border=\"1\" class=\"dataframe\">\n",
       "  <thead>\n",
       "    <tr style=\"text-align: right;\">\n",
       "      <th></th>\n",
       "      <th>first_word</th>\n",
       "      <th>second_word</th>\n",
       "      <th>Levenshtein</th>\n",
       "    </tr>\n",
       "  </thead>\n",
       "  <tbody>\n",
       "    <tr>\n",
       "      <th>0</th>\n",
       "      <td>А-конто</td>\n",
       "      <td>Телеэкран</td>\n",
       "      <td>9</td>\n",
       "    </tr>\n",
       "    <tr>\n",
       "      <th>1</th>\n",
       "      <td>А-конто</td>\n",
       "      <td>Коллективизм</td>\n",
       "      <td>11</td>\n",
       "    </tr>\n",
       "    <tr>\n",
       "      <th>2</th>\n",
       "      <td>А-конто</td>\n",
       "      <td>Семерик</td>\n",
       "      <td>7</td>\n",
       "    </tr>\n",
       "    <tr>\n",
       "      <th>3</th>\n",
       "      <td>А-конто</td>\n",
       "      <td>Скрючить</td>\n",
       "      <td>7</td>\n",
       "    </tr>\n",
       "    <tr>\n",
       "      <th>4</th>\n",
       "      <td>А-конто</td>\n",
       "      <td>Эозойский</td>\n",
       "      <td>8</td>\n",
       "    </tr>\n",
       "  </tbody>\n",
       "</table>\n",
       "</div>"
      ],
      "text/plain": [
       "  first_word   second_word  Levenshtein\n",
       "0    А-конто     Телеэкран            9\n",
       "1    А-конто  Коллективизм           11\n",
       "2    А-конто       Семерик            7\n",
       "3    А-конто      Скрючить            7\n",
       "4    А-конто     Эозойский            8"
      ]
     },
     "execution_count": 11,
     "metadata": {},
     "output_type": "execute_result"
    }
   ],
   "source": [
    "new_data['Levenshtein'] = new_data.apply(lambda row: dist_Levenshtein(row.first_word, row.second_word), axis=1)\n",
    "new_data.head()"
   ]
  },
  {
   "cell_type": "code",
   "execution_count": 12,
   "metadata": {},
   "outputs": [
    {
     "data": {
      "text/html": [
       "<div>\n",
       "<style scoped>\n",
       "    .dataframe tbody tr th:only-of-type {\n",
       "        vertical-align: middle;\n",
       "    }\n",
       "\n",
       "    .dataframe tbody tr th {\n",
       "        vertical-align: top;\n",
       "    }\n",
       "\n",
       "    .dataframe thead th {\n",
       "        text-align: right;\n",
       "    }\n",
       "</style>\n",
       "<table border=\"1\" class=\"dataframe\">\n",
       "  <thead>\n",
       "    <tr style=\"text-align: right;\">\n",
       "      <th></th>\n",
       "      <th>first_word</th>\n",
       "      <th>second_word</th>\n",
       "      <th>Levenshtein</th>\n",
       "      <th>longest_common_substr</th>\n",
       "    </tr>\n",
       "  </thead>\n",
       "  <tbody>\n",
       "    <tr>\n",
       "      <th>0</th>\n",
       "      <td>А-конто</td>\n",
       "      <td>Телеэкран</td>\n",
       "      <td>9</td>\n",
       "      <td>1</td>\n",
       "    </tr>\n",
       "    <tr>\n",
       "      <th>1</th>\n",
       "      <td>А-конто</td>\n",
       "      <td>Коллективизм</td>\n",
       "      <td>11</td>\n",
       "      <td>1</td>\n",
       "    </tr>\n",
       "    <tr>\n",
       "      <th>2</th>\n",
       "      <td>А-конто</td>\n",
       "      <td>Семерик</td>\n",
       "      <td>7</td>\n",
       "      <td>1</td>\n",
       "    </tr>\n",
       "    <tr>\n",
       "      <th>3</th>\n",
       "      <td>А-конто</td>\n",
       "      <td>Скрючить</td>\n",
       "      <td>7</td>\n",
       "      <td>1</td>\n",
       "    </tr>\n",
       "    <tr>\n",
       "      <th>4</th>\n",
       "      <td>А-конто</td>\n",
       "      <td>Эозойский</td>\n",
       "      <td>8</td>\n",
       "      <td>1</td>\n",
       "    </tr>\n",
       "  </tbody>\n",
       "</table>\n",
       "</div>"
      ],
      "text/plain": [
       "  first_word   second_word  Levenshtein  longest_common_substr\n",
       "0    А-конто     Телеэкран            9                      1\n",
       "1    А-конто  Коллективизм           11                      1\n",
       "2    А-конто       Семерик            7                      1\n",
       "3    А-конто      Скрючить            7                      1\n",
       "4    А-конто     Эозойский            8                      1"
      ]
     },
     "execution_count": 12,
     "metadata": {},
     "output_type": "execute_result"
    }
   ],
   "source": [
    "new_data['longest_common_substr'] = new_data.apply(lambda row: longest_common_substring(row.first_word, row.second_word), axis=1)\n",
    "new_data.head()"
   ]
  },
  {
   "cell_type": "code",
   "execution_count": 13,
   "metadata": {},
   "outputs": [
    {
     "data": {
      "text/html": [
       "<div>\n",
       "<style scoped>\n",
       "    .dataframe tbody tr th:only-of-type {\n",
       "        vertical-align: middle;\n",
       "    }\n",
       "\n",
       "    .dataframe tbody tr th {\n",
       "        vertical-align: top;\n",
       "    }\n",
       "\n",
       "    .dataframe thead th {\n",
       "        text-align: right;\n",
       "    }\n",
       "</style>\n",
       "<table border=\"1\" class=\"dataframe\">\n",
       "  <thead>\n",
       "    <tr style=\"text-align: right;\">\n",
       "      <th></th>\n",
       "      <th>first_word</th>\n",
       "      <th>second_word</th>\n",
       "      <th>Levenshtein</th>\n",
       "      <th>longest_common_substr</th>\n",
       "      <th>longest_common_subs</th>\n",
       "    </tr>\n",
       "  </thead>\n",
       "  <tbody>\n",
       "    <tr>\n",
       "      <th>0</th>\n",
       "      <td>А-конто</td>\n",
       "      <td>Телеэкран</td>\n",
       "      <td>9</td>\n",
       "      <td>1</td>\n",
       "      <td>2</td>\n",
       "    </tr>\n",
       "    <tr>\n",
       "      <th>1</th>\n",
       "      <td>А-конто</td>\n",
       "      <td>Коллективизм</td>\n",
       "      <td>11</td>\n",
       "      <td>1</td>\n",
       "      <td>2</td>\n",
       "    </tr>\n",
       "    <tr>\n",
       "      <th>2</th>\n",
       "      <td>А-конто</td>\n",
       "      <td>Семерик</td>\n",
       "      <td>7</td>\n",
       "      <td>1</td>\n",
       "      <td>1</td>\n",
       "    </tr>\n",
       "    <tr>\n",
       "      <th>3</th>\n",
       "      <td>А-конто</td>\n",
       "      <td>Скрючить</td>\n",
       "      <td>7</td>\n",
       "      <td>1</td>\n",
       "      <td>2</td>\n",
       "    </tr>\n",
       "    <tr>\n",
       "      <th>4</th>\n",
       "      <td>А-конто</td>\n",
       "      <td>Эозойский</td>\n",
       "      <td>8</td>\n",
       "      <td>1</td>\n",
       "      <td>2</td>\n",
       "    </tr>\n",
       "  </tbody>\n",
       "</table>\n",
       "</div>"
      ],
      "text/plain": [
       "  first_word   second_word  Levenshtein  longest_common_substr  \\\n",
       "0    А-конто     Телеэкран            9                      1   \n",
       "1    А-конто  Коллективизм           11                      1   \n",
       "2    А-конто       Семерик            7                      1   \n",
       "3    А-конто      Скрючить            7                      1   \n",
       "4    А-конто     Эозойский            8                      1   \n",
       "\n",
       "   longest_common_subs  \n",
       "0                    2  \n",
       "1                    2  \n",
       "2                    1  \n",
       "3                    2  \n",
       "4                    2  "
      ]
     },
     "execution_count": 13,
     "metadata": {},
     "output_type": "execute_result"
    }
   ],
   "source": [
    "new_data['longest_common_subs'] = new_data.apply(lambda row: longest_common_subsequence(row.first_word, row.second_word), axis=1)\n",
    "new_data.head()"
   ]
  },
  {
   "cell_type": "code",
   "execution_count": 14,
   "metadata": {},
   "outputs": [
    {
     "data": {
      "text/html": [
       "<div>\n",
       "<style scoped>\n",
       "    .dataframe tbody tr th:only-of-type {\n",
       "        vertical-align: middle;\n",
       "    }\n",
       "\n",
       "    .dataframe tbody tr th {\n",
       "        vertical-align: top;\n",
       "    }\n",
       "\n",
       "    .dataframe thead th {\n",
       "        text-align: right;\n",
       "    }\n",
       "</style>\n",
       "<table border=\"1\" class=\"dataframe\">\n",
       "  <thead>\n",
       "    <tr style=\"text-align: right;\">\n",
       "      <th></th>\n",
       "      <th>first_word</th>\n",
       "      <th>second_word</th>\n",
       "      <th>Levenshtein</th>\n",
       "      <th>longest_common_substr</th>\n",
       "      <th>longest_common_subs</th>\n",
       "    </tr>\n",
       "  </thead>\n",
       "  <tbody>\n",
       "    <tr>\n",
       "      <th>0</th>\n",
       "      <td>А-конто</td>\n",
       "      <td>Аканье</td>\n",
       "      <td>4</td>\n",
       "      <td>1</td>\n",
       "      <td>3</td>\n",
       "    </tr>\n",
       "    <tr>\n",
       "      <th>1</th>\n",
       "      <td>А-конто</td>\n",
       "      <td>Акать</td>\n",
       "      <td>4</td>\n",
       "      <td>1</td>\n",
       "      <td>3</td>\n",
       "    </tr>\n",
       "    <tr>\n",
       "      <th>2</th>\n",
       "      <td>А-конто</td>\n",
       "      <td>Акающий</td>\n",
       "      <td>6</td>\n",
       "      <td>1</td>\n",
       "      <td>2</td>\n",
       "    </tr>\n",
       "    <tr>\n",
       "      <th>3</th>\n",
       "      <td>А-конто</td>\n",
       "      <td>Ашка</td>\n",
       "      <td>5</td>\n",
       "      <td>1</td>\n",
       "      <td>2</td>\n",
       "    </tr>\n",
       "    <tr>\n",
       "      <th>4</th>\n",
       "      <td>А-конто</td>\n",
       "      <td>Бамовец</td>\n",
       "      <td>6</td>\n",
       "      <td>1</td>\n",
       "      <td>1</td>\n",
       "    </tr>\n",
       "  </tbody>\n",
       "</table>\n",
       "</div>"
      ],
      "text/plain": [
       "  first_word second_word  Levenshtein  longest_common_substr  \\\n",
       "0    А-конто      Аканье            4                      1   \n",
       "1    А-конто       Акать            4                      1   \n",
       "2    А-конто     Акающий            6                      1   \n",
       "3    А-конто        Ашка            5                      1   \n",
       "4    А-конто     Бамовец            6                      1   \n",
       "\n",
       "   longest_common_subs  \n",
       "0                    3  \n",
       "1                    3  \n",
       "2                    2  \n",
       "3                    2  \n",
       "4                    1  "
      ]
     },
     "execution_count": 14,
     "metadata": {},
     "output_type": "execute_result"
    }
   ],
   "source": [
    "data.pop('Unnamed: 0')\n",
    "data.head()"
   ]
  },
  {
   "cell_type": "code",
   "execution_count": 15,
   "metadata": {},
   "outputs": [],
   "source": [
    "new_data.to_csv('non-cognates_dataset_bigger.csv', encoding='cp1251')"
   ]
  },
  {
   "cell_type": "code",
   "execution_count": 16,
   "metadata": {},
   "outputs": [
    {
     "data": {
      "text/plain": [
       "(618001, 5)"
      ]
     },
     "execution_count": 16,
     "metadata": {},
     "output_type": "execute_result"
    }
   ],
   "source": [
    "new_data.shape"
   ]
  },
  {
   "cell_type": "code",
   "execution_count": null,
   "metadata": {},
   "outputs": [],
   "source": []
  }
 ],
 "metadata": {
  "kernelspec": {
   "display_name": "Python 3",
   "language": "python",
   "name": "python3"
  },
  "language_info": {
   "codemirror_mode": {
    "name": "ipython",
    "version": 3
   },
   "file_extension": ".py",
   "mimetype": "text/x-python",
   "name": "python",
   "nbconvert_exporter": "python",
   "pygments_lexer": "ipython3",
   "version": "3.7.3"
  }
 },
 "nbformat": 4,
 "nbformat_minor": 2
}
