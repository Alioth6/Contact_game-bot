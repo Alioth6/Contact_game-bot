{
 "cells": [
  {
   "cell_type": "markdown",
   "metadata": {},
   "source": [
    "# Кодирование пар"
   ]
  },
  {
   "cell_type": "code",
   "execution_count": 1,
   "metadata": {},
   "outputs": [],
   "source": [
    "from nltk.stem import SnowballStemmer\n",
    "\n",
    "snowball = SnowballStemmer(language=\"russian\")"
   ]
  },
  {
   "cell_type": "code",
   "execution_count": 2,
   "metadata": {},
   "outputs": [],
   "source": [
    "def LCS_string(s1, s2):\n",
    "    s1 = snowball.stem(s1)\n",
    "    s2 = snowball.stem(s2)\n",
    "    \n",
    "    d = [[0] * (len(s2) + 1) for _ in range(len(s1) + 1)]\n",
    "    max_val, index_i = 0, 0\n",
    "    for i in range(len(s1) + 1):\n",
    "        for j in range(len(s2) + 1):\n",
    "            if i and j and s1[i - 1] == s2[j - 1]:\n",
    "                d[i][j] = d[i - 1][j - 1] + 1\n",
    "            if d[i][j] > max_val:\n",
    "                max_val = d[i][j]\n",
    "                index_i = i\n",
    "                index_j = j\n",
    "    \n",
    "    return s1[index_i - max_val : index_i]"
   ]
  },
  {
   "cell_type": "code",
   "execution_count": 3,
   "metadata": {},
   "outputs": [
    {
     "name": "stdout",
     "output_type": "stream",
     "text": [
      "{'а': 0, 'б': 1, 'в': 2, 'г': 3, 'д': 4, 'е': 5, 'ё': 6, 'ж': 7, 'з': 8, 'и': 9, 'й': 10, 'к': 11, 'л': 12, 'м': 13, 'н': 14, 'о': 15, 'п': 16, 'р': 17, 'с': 18, 'т': 19, 'у': 20, 'ф': 21, 'х': 22, 'ц': 23, 'ч': 24, 'ш': 25, 'щ': 26, 'ь': 27, 'ы': 28, 'ъ': 29, 'э': 30, 'ю': 31, 'я': 32, '*': 33}\n"
     ]
    }
   ],
   "source": [
    "arr_ru = ['а', 'б', 'в', 'г', 'д', 'е', 'ё', 'ж', 'з', 'и', 'й', 'к', 'л', 'м', 'н', 'о', 'п', \n",
    "          'р', 'с', 'т', 'у', 'ф', 'х', 'ц', 'ч', 'ш', 'щ', 'ь', 'ы', 'ъ', 'э', 'ю', 'я', '*']\n",
    "codes = dict(zip(arr_ru, range(len(arr_ru))))\n",
    "\n",
    "print(codes)"
   ]
  },
  {
   "cell_type": "code",
   "execution_count": 4,
   "metadata": {},
   "outputs": [],
   "source": [
    "from string import punctuation\n",
    "\n",
    "def encode(s1, s2):\n",
    "    s1 = s1.lower()\n",
    "    s2 = s2.lower()\n",
    "    s1 = ''.join([c for c in s1 if c not in punctuation])\n",
    "    s2 = ''.join([c for c in s2 if c not in punctuation])\n",
    "    \n",
    "    lcs_str = LCS_string(s1, s2)\n",
    "    ind1 = s1.find(lcs_str)\n",
    "    ind2 = s2.find(lcs_str)\n",
    "    \n",
    "    pref_len = max(ind1, ind2)\n",
    "    suff_len = max(len(s1) - ind1, len(s2) - ind2)\n",
    "    \n",
    "    code1 = [0] * (pref_len + suff_len)\n",
    "    code2 = [0] * (pref_len + suff_len)\n",
    "    \n",
    "    for i in range(pref_len + suff_len):\n",
    "        if i - (pref_len - ind1) < 0 or i - (pref_len - ind1) >= len(s1):\n",
    "            code1[i] = codes['*']\n",
    "        else:\n",
    "            code1[i] = codes[s1[i - (pref_len - ind1)]]\n",
    "            \n",
    "        if i - (pref_len - ind2) < 0 or i - (pref_len - ind2) >= len(s2):\n",
    "            code2[i] = codes['*']\n",
    "        else:\n",
    "            code2[i] = codes[s2[i - (pref_len - ind2)]]\n",
    "    \n",
    "    pair_code = [code1[i] * len(arr_ru) + code2[i] for i in range(pref_len + suff_len)]\n",
    "    \n",
    "    return pair_code"
   ]
  },
  {
   "cell_type": "code",
   "execution_count": 5,
   "metadata": {},
   "outputs": [
    {
     "name": "stdout",
     "output_type": "stream",
     "text": [
      "[1123, 0, 35, 0, 1]\n"
     ]
    }
   ],
   "source": [
    "print(encode('абаа', 'бабаб'))"
   ]
  },
  {
   "cell_type": "markdown",
   "metadata": {},
   "source": [
    "Загрузим данные, закодируем пары слов:"
   ]
  },
  {
   "cell_type": "code",
   "execution_count": 6,
   "metadata": {},
   "outputs": [],
   "source": [
    "import pandas as pd\n",
    "\n",
    "data = pd.read_csv('final_balanced_cognates_dataset.csv', encoding='cp1251')"
   ]
  },
  {
   "cell_type": "code",
   "execution_count": 7,
   "metadata": {},
   "outputs": [
    {
     "data": {
      "text/html": [
       "<div>\n",
       "<style scoped>\n",
       "    .dataframe tbody tr th:only-of-type {\n",
       "        vertical-align: middle;\n",
       "    }\n",
       "\n",
       "    .dataframe tbody tr th {\n",
       "        vertical-align: top;\n",
       "    }\n",
       "\n",
       "    .dataframe thead th {\n",
       "        text-align: right;\n",
       "    }\n",
       "</style>\n",
       "<table border=\"1\" class=\"dataframe\">\n",
       "  <thead>\n",
       "    <tr style=\"text-align: right;\">\n",
       "      <th></th>\n",
       "      <th>Unnamed: 0</th>\n",
       "      <th>first_word</th>\n",
       "      <th>second_word</th>\n",
       "      <th>Levenshtein</th>\n",
       "      <th>longest_common_substr</th>\n",
       "      <th>longest_common_subs</th>\n",
       "      <th>class</th>\n",
       "      <th>Levenshtein_stemmed</th>\n",
       "      <th>LCS_stemmed</th>\n",
       "      <th>Levenshtein_similarity</th>\n",
       "      <th>before_lcs</th>\n",
       "      <th>after_lcs</th>\n",
       "      <th>pair_code</th>\n",
       "    </tr>\n",
       "  </thead>\n",
       "  <tbody>\n",
       "    <tr>\n",
       "      <th>0</th>\n",
       "      <td>1590</td>\n",
       "      <td>Кровососущий</td>\n",
       "      <td>Соплеменный</td>\n",
       "      <td>10</td>\n",
       "      <td>1</td>\n",
       "      <td>2</td>\n",
       "      <td>0</td>\n",
       "      <td>9</td>\n",
       "      <td>2</td>\n",
       "      <td>0.111111</td>\n",
       "      <td>6</td>\n",
       "      <td>5</td>\n",
       "      <td>[407, 611, 543, 101, 543, 630, 525, 628, 692, ...</td>\n",
       "    </tr>\n",
       "    <tr>\n",
       "      <th>1</th>\n",
       "      <td>955209</td>\n",
       "      <td>Затюкать</td>\n",
       "      <td>Досушить</td>\n",
       "      <td>6</td>\n",
       "      <td>2</td>\n",
       "      <td>2</td>\n",
       "      <td>0</td>\n",
       "      <td>6</td>\n",
       "      <td>0</td>\n",
       "      <td>0.166667</td>\n",
       "      <td>0</td>\n",
       "      <td>0</td>\n",
       "      <td>[276, 15, 664, 1074, 399, 9, 665, 945]</td>\n",
       "    </tr>\n",
       "    <tr>\n",
       "      <th>2</th>\n",
       "      <td>1062544</td>\n",
       "      <td>Метелить</td>\n",
       "      <td>Затечь</td>\n",
       "      <td>5</td>\n",
       "      <td>2</td>\n",
       "      <td>3</td>\n",
       "      <td>0</td>\n",
       "      <td>3</td>\n",
       "      <td>2</td>\n",
       "      <td>0.333333</td>\n",
       "      <td>0</td>\n",
       "      <td>2</td>\n",
       "      <td>[450, 170, 665, 175, 432, 333, 679, 951]</td>\n",
       "    </tr>\n",
       "    <tr>\n",
       "      <th>3</th>\n",
       "      <td>607664</td>\n",
       "      <td>Калевать</td>\n",
       "      <td>Натравляться</td>\n",
       "      <td>8</td>\n",
       "      <td>2</td>\n",
       "      <td>4</td>\n",
       "      <td>0</td>\n",
       "      <td>6</td>\n",
       "      <td>1</td>\n",
       "      <td>0.166667</td>\n",
       "      <td>0</td>\n",
       "      <td>4</td>\n",
       "      <td>[388, 0, 427, 187, 68, 2, 658, 950, 1141, 1149...</td>\n",
       "    </tr>\n",
       "    <tr>\n",
       "      <th>4</th>\n",
       "      <td>802046</td>\n",
       "      <td>Уваляться</td>\n",
       "      <td>Валивать</td>\n",
       "      <td>7</td>\n",
       "      <td>2</td>\n",
       "      <td>4</td>\n",
       "      <td>1</td>\n",
       "      <td>4</td>\n",
       "      <td>3</td>\n",
       "      <td>0.250000</td>\n",
       "      <td>2</td>\n",
       "      <td>1</td>\n",
       "      <td>[713, 70, 0, 420, 1097, 648, 918, 631, 1115]</td>\n",
       "    </tr>\n",
       "  </tbody>\n",
       "</table>\n",
       "</div>"
      ],
      "text/plain": [
       "   Unnamed: 0    first_word   second_word  Levenshtein  longest_common_substr  \\\n",
       "0        1590  Кровососущий   Соплеменный           10                      1   \n",
       "1      955209      Затюкать      Досушить            6                      2   \n",
       "2     1062544      Метелить        Затечь            5                      2   \n",
       "3      607664      Калевать  Натравляться            8                      2   \n",
       "4      802046     Уваляться      Валивать            7                      2   \n",
       "\n",
       "   longest_common_subs  class  Levenshtein_stemmed  LCS_stemmed  \\\n",
       "0                    2      0                    9            2   \n",
       "1                    2      0                    6            0   \n",
       "2                    3      0                    3            2   \n",
       "3                    4      0                    6            1   \n",
       "4                    4      1                    4            3   \n",
       "\n",
       "   Levenshtein_similarity  before_lcs  after_lcs  \\\n",
       "0                0.111111           6          5   \n",
       "1                0.166667           0          0   \n",
       "2                0.333333           0          2   \n",
       "3                0.166667           0          4   \n",
       "4                0.250000           2          1   \n",
       "\n",
       "                                           pair_code  \n",
       "0  [407, 611, 543, 101, 543, 630, 525, 628, 692, ...  \n",
       "1             [276, 15, 664, 1074, 399, 9, 665, 945]  \n",
       "2           [450, 170, 665, 175, 432, 333, 679, 951]  \n",
       "3  [388, 0, 427, 187, 68, 2, 658, 950, 1141, 1149...  \n",
       "4       [713, 70, 0, 420, 1097, 648, 918, 631, 1115]  "
      ]
     },
     "execution_count": 7,
     "metadata": {},
     "output_type": "execute_result"
    }
   ],
   "source": [
    "data['pair_code'] = data.apply(lambda row: encode(row.first_word, row.second_word), axis=1)\n",
    "data.head()"
   ]
  },
  {
   "cell_type": "code",
   "execution_count": 8,
   "metadata": {},
   "outputs": [
    {
     "name": "stdout",
     "output_type": "stream",
     "text": [
      "38\n"
     ]
    }
   ],
   "source": [
    "data['code_len'] = data.apply(lambda row: len(row.pair_code), axis=1)\n",
    "max_len_code = data['code_len'].max()\n",
    "print(max_len_code)"
   ]
  },
  {
   "cell_type": "markdown",
   "metadata": {},
   "source": [
    "# Построение модели"
   ]
  },
  {
   "cell_type": "code",
   "execution_count": 10,
   "metadata": {},
   "outputs": [],
   "source": [
    "from tensorflow.keras.preprocessing.sequence import pad_sequences\n",
    "from tensorflow.keras import utils\n",
    "from sklearn.model_selection import train_test_split\n",
    "\n",
    "X = pad_sequences(data['pair_code'], maxlen=max_len_code)\n",
    "y = utils.to_categorical(data['class'], num_classes=2)\n",
    "\n",
    "X_train, X_test, y_train, y_test = train_test_split(X, y, test_size=0.20)"
   ]
  },
  {
   "cell_type": "code",
   "execution_count": 11,
   "metadata": {},
   "outputs": [
    {
     "data": {
      "text/plain": [
       "array([[   0,    0,    0, ..., 1136, 1150, 1132],\n",
       "       [   0,    0,    0, ...,  927,  666, 1140],\n",
       "       [   0,    0,    0, ...,  923,  624, 1097],\n",
       "       ...,\n",
       "       [   0,    0,    0, ...,  597,  503, 1121],\n",
       "       [   0,    0,    0, ...,  155,  606, 1132],\n",
       "       [   0,    0,    0, ...,  794,  321, 1091]])"
      ]
     },
     "execution_count": 11,
     "metadata": {},
     "output_type": "execute_result"
    }
   ],
   "source": [
    "X_train"
   ]
  },
  {
   "cell_type": "code",
   "execution_count": 12,
   "metadata": {},
   "outputs": [
    {
     "data": {
      "text/plain": [
       "array([[1., 0.],\n",
       "       [1., 0.],\n",
       "       [0., 1.],\n",
       "       ...,\n",
       "       [0., 1.],\n",
       "       [1., 0.],\n",
       "       [1., 0.]], dtype=float32)"
      ]
     },
     "execution_count": 12,
     "metadata": {},
     "output_type": "execute_result"
    }
   ],
   "source": [
    "y_train"
   ]
  },
  {
   "cell_type": "code",
   "execution_count": 13,
   "metadata": {},
   "outputs": [],
   "source": [
    "from tensorflow.keras.models import Sequential\n",
    "from tensorflow.keras.layers import Embedding, Conv1D, Dense, Bidirectional, LSTM\n",
    "\n",
    "model = Sequential()\n",
    "pair_count = len(arr_ru) * len(arr_ru)\n",
    "model.add(Embedding(input_dim=pair_count, output_dim=32, input_length=max_len_code))\n",
    "model.add(Conv1D(filters=32, kernel_size=5, padding='valid', activation='relu'))\n",
    "model.add(Conv1D(filters=32, kernel_size=5, padding='valid', activation='relu'))\n",
    "model.add(Conv1D(filters=32, kernel_size=5, padding='valid', activation='relu'))\n",
    "model.add(Bidirectional(LSTM(units=8)))\n",
    "model.add(Dense(units=2, activation='softmax'))"
   ]
  },
  {
   "cell_type": "code",
   "execution_count": 14,
   "metadata": {},
   "outputs": [],
   "source": [
    "model.compile(optimizer='adam', \n",
    "              loss='binary_crossentropy', \n",
    "              metrics=['accuracy'])"
   ]
  },
  {
   "cell_type": "code",
   "execution_count": 15,
   "metadata": {},
   "outputs": [
    {
     "name": "stdout",
     "output_type": "stream",
     "text": [
      "Model: \"sequential\"\n",
      "_________________________________________________________________\n",
      "Layer (type)                 Output Shape              Param #   \n",
      "=================================================================\n",
      "embedding (Embedding)        (None, 38, 32)            36992     \n",
      "_________________________________________________________________\n",
      "conv1d (Conv1D)              (None, 34, 32)            5152      \n",
      "_________________________________________________________________\n",
      "conv1d_1 (Conv1D)            (None, 30, 32)            5152      \n",
      "_________________________________________________________________\n",
      "conv1d_2 (Conv1D)            (None, 26, 32)            5152      \n",
      "_________________________________________________________________\n",
      "bidirectional (Bidirectional (None, 16)                2624      \n",
      "_________________________________________________________________\n",
      "dense (Dense)                (None, 2)                 34        \n",
      "=================================================================\n",
      "Total params: 55,106\n",
      "Trainable params: 55,106\n",
      "Non-trainable params: 0\n",
      "_________________________________________________________________\n"
     ]
    }
   ],
   "source": [
    "model.summary()"
   ]
  },
  {
   "cell_type": "code",
   "execution_count": 16,
   "metadata": {},
   "outputs": [],
   "source": [
    "from tensorflow.keras.callbacks import ModelCheckpoint\n",
    "\n",
    "model_save_path = 'cognates_model_first.h5'\n",
    "checkpoint_callback = ModelCheckpoint(model_save_path,\n",
    "                                      monitor='val_accuracy',\n",
    "                                      save_best_only=True,\n",
    "                                      verbose=1)"
   ]
  },
  {
   "cell_type": "code",
   "execution_count": 17,
   "metadata": {},
   "outputs": [
    {
     "name": "stdout",
     "output_type": "stream",
     "text": [
      "Epoch 1/5\n",
      "27816/27816 [==============================] - 445s 16ms/step - loss: 0.0877 - accuracy: 0.9719 - val_loss: 0.0418 - val_accuracy: 0.9879\n",
      "\n",
      "Epoch 00001: val_accuracy improved from -inf to 0.98792, saving model to cognates_model_first.h5\n",
      "Epoch 2/5\n",
      "27816/27816 [==============================] - 405s 15ms/step - loss: 0.0363 - accuracy: 0.9897 - val_loss: 0.0373 - val_accuracy: 0.9892\n",
      "\n",
      "Epoch 00002: val_accuracy improved from 0.98792 to 0.98916, saving model to cognates_model_first.h5\n",
      "Epoch 3/5\n",
      "27816/27816 [==============================] - 350s 13ms/step - loss: 0.0292 - accuracy: 0.9917 - val_loss: 0.0320 - val_accuracy: 0.9907\n",
      "\n",
      "Epoch 00003: val_accuracy improved from 0.98916 to 0.99073, saving model to cognates_model_first.h5\n",
      "Epoch 4/5\n",
      "27816/27816 [==============================] - 376s 14ms/step - loss: 0.0252 - accuracy: 0.9929 - val_loss: 0.0346 - val_accuracy: 0.9899\n",
      "\n",
      "Epoch 00004: val_accuracy did not improve from 0.99073\n",
      "Epoch 5/5\n",
      "27816/27816 [==============================] - 376s 14ms/step - loss: 0.0226 - accuracy: 0.9935 - val_loss: 0.0295 - val_accuracy: 0.9913\n",
      "\n",
      "Epoch 00005: val_accuracy improved from 0.99073 to 0.99126, saving model to cognates_model_first.h5\n"
     ]
    }
   ],
   "source": [
    "history = model.fit(X_train, \n",
    "                    y_train,\n",
    "                    epochs=5,\n",
    "                    validation_split=0.1,\n",
    "                    callbacks=[checkpoint_callback])"
   ]
  },
  {
   "cell_type": "code",
   "execution_count": 18,
   "metadata": {},
   "outputs": [
    {
     "data": {
      "image/png": "[encoded data removed]",
      "text/plain": [
       "<Figure size 432x288 with 1 Axes>"
      ]
     },
     "metadata": {
      "needs_background": "light"
     },
     "output_type": "display_data"
    }
   ],
   "source": [
    "import matplotlib.pyplot as plt\n",
    "%matplotlib inline\n",
    "\n",
    "plt.plot(history.history['accuracy'], \n",
    "         label='Доля верных ответов на обучающем наборе')\n",
    "plt.plot(history.history['val_accuracy'], \n",
    "         label='Доля верных ответов на проверочном наборе')\n",
    "plt.xlabel('Эпоха обучения')\n",
    "plt.ylabel('Доля верных ответов')\n",
    "plt.legend()\n",
    "plt.show()"
   ]
  },
  {
   "cell_type": "code",
   "execution_count": 19,
   "metadata": {},
   "outputs": [
    {
     "name": "stdout",
     "output_type": "stream",
     "text": [
      "              precision    recall  f1-score   support\n",
      "\n",
      "     class 0       0.99      0.99      0.99    123271\n",
      "     class 1       0.99      0.99      0.99    123982\n",
      "\n",
      "    accuracy                           0.99    247253\n",
      "   macro avg       0.99      0.99      0.99    247253\n",
      "weighted avg       0.99      0.99      0.99    247253\n",
      "\n"
     ]
    }
   ],
   "source": [
    "from sklearn.metrics import confusion_matrix  \n",
    "from sklearn.metrics import classification_report\n",
    "\n",
    "prediction = model.predict(X_test)\n",
    "print(classification_report(y_test.argmax(axis=1), prediction.argmax(axis=1), target_names=['class 0', 'class 1']))"
   ]
  }
 ],
 "metadata": {
  "kernelspec": {
   "display_name": "Python 3",
   "language": "python",
   "name": "python3"
  },
  "language_info": {
   "codemirror_mode": {
    "name": "ipython",
    "version": 3
   },
   "file_extension": ".py",
   "mimetype": "text/x-python",
   "name": "python",
   "nbconvert_exporter": "python",
   "pygments_lexer": "ipython3",
   "version": "3.7.3"
  }
 },
 "nbformat": 4,
 "nbformat_minor": 2
}
