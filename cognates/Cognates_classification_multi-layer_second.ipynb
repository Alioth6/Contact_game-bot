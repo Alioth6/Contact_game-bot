{
 "cells": [
  {
   "cell_type": "code",
   "execution_count": 1,
   "metadata": {},
   "outputs": [
    {
     "name": "stdout",
     "output_type": "stream",
     "text": [
      "{'а': 0, 'б': 1, 'в': 2, 'г': 3, 'д': 4, 'е': 5, 'ё': 6, 'ж': 7, 'з': 8, 'и': 9, 'й': 10, 'к': 11, 'л': 12, 'м': 13, 'н': 14, 'о': 15, 'п': 16, 'р': 17, 'с': 18, 'т': 19, 'у': 20, 'ф': 21, 'х': 22, 'ц': 23, 'ч': 24, 'ш': 25, 'щ': 26, 'ь': 27, 'ы': 28, 'ъ': 29, 'э': 30, 'ю': 31, 'я': 32}\n"
     ]
    }
   ],
   "source": [
    "arr_ru = ['а', 'б', 'в', 'г', 'д', 'е', 'ё', 'ж', 'з', 'и', 'й', 'к', 'л', 'м', 'н', 'о', 'п', \n",
    "          'р', 'с', 'т', 'у', 'ф', 'х', 'ц', 'ч', 'ш', 'щ', 'ь', 'ы', 'ъ', 'э', 'ю', 'я']\n",
    "codes = dict(zip(arr_ru, range(len(arr_ru))))\n",
    "\n",
    "print(codes)"
   ]
  },
  {
   "cell_type": "code",
   "execution_count": 2,
   "metadata": {},
   "outputs": [],
   "source": [
    "from string import punctuation\n",
    "\n",
    "def encode(s):\n",
    "    s = s.lower()\n",
    "    s = ''.join([c for c in s if c not in punctuation])\n",
    "    \n",
    "    str_code = [0] * len(s)\n",
    "    for i in range(len(s)):\n",
    "        str_code[i] = codes[s[i]]\n",
    "    \n",
    "    return str_code"
   ]
  },
  {
   "cell_type": "code",
   "execution_count": 3,
   "metadata": {},
   "outputs": [
    {
     "name": "stdout",
     "output_type": "stream",
     "text": [
      "[0, 1, 1, 0, 0]\n"
     ]
    }
   ],
   "source": [
    "print(encode('аббаа'))"
   ]
  },
  {
   "cell_type": "markdown",
   "metadata": {},
   "source": [
    "Загрузим данные, закодируем слова каждой пары:"
   ]
  },
  {
   "cell_type": "code",
   "execution_count": 5,
   "metadata": {},
   "outputs": [],
   "source": [
    "import pandas as pd\n",
    "\n",
    "data = pd.read_csv('final_balanced_cognates_dataset.csv', encoding='cp1251')"
   ]
  },
  {
   "cell_type": "code",
   "execution_count": 6,
   "metadata": {},
   "outputs": [
    {
     "data": {
      "text/html": [
       "<div>\n",
       "<style scoped>\n",
       "    .dataframe tbody tr th:only-of-type {\n",
       "        vertical-align: middle;\n",
       "    }\n",
       "\n",
       "    .dataframe tbody tr th {\n",
       "        vertical-align: top;\n",
       "    }\n",
       "\n",
       "    .dataframe thead th {\n",
       "        text-align: right;\n",
       "    }\n",
       "</style>\n",
       "<table border=\"1\" class=\"dataframe\">\n",
       "  <thead>\n",
       "    <tr style=\"text-align: right;\">\n",
       "      <th></th>\n",
       "      <th>Unnamed: 0</th>\n",
       "      <th>first_word</th>\n",
       "      <th>second_word</th>\n",
       "      <th>Levenshtein</th>\n",
       "      <th>longest_common_substr</th>\n",
       "      <th>longest_common_subs</th>\n",
       "      <th>class</th>\n",
       "      <th>Levenshtein_stemmed</th>\n",
       "      <th>LCS_stemmed</th>\n",
       "      <th>Levenshtein_similarity</th>\n",
       "      <th>before_lcs</th>\n",
       "      <th>after_lcs</th>\n",
       "      <th>first_code</th>\n",
       "      <th>second_code</th>\n",
       "    </tr>\n",
       "  </thead>\n",
       "  <tbody>\n",
       "    <tr>\n",
       "      <th>0</th>\n",
       "      <td>1590</td>\n",
       "      <td>Кровососущий</td>\n",
       "      <td>Соплеменный</td>\n",
       "      <td>10</td>\n",
       "      <td>1</td>\n",
       "      <td>2</td>\n",
       "      <td>0</td>\n",
       "      <td>9</td>\n",
       "      <td>2</td>\n",
       "      <td>0.111111</td>\n",
       "      <td>6</td>\n",
       "      <td>5</td>\n",
       "      <td>[11, 17, 15, 2, 15, 18, 15, 18, 20, 26, 9, 10]</td>\n",
       "      <td>[18, 15, 16, 12, 5, 13, 5, 14, 14, 28, 10]</td>\n",
       "    </tr>\n",
       "    <tr>\n",
       "      <th>1</th>\n",
       "      <td>955209</td>\n",
       "      <td>Затюкать</td>\n",
       "      <td>Досушить</td>\n",
       "      <td>6</td>\n",
       "      <td>2</td>\n",
       "      <td>2</td>\n",
       "      <td>0</td>\n",
       "      <td>6</td>\n",
       "      <td>0</td>\n",
       "      <td>0.166667</td>\n",
       "      <td>0</td>\n",
       "      <td>0</td>\n",
       "      <td>[8, 0, 19, 31, 11, 0, 19, 27]</td>\n",
       "      <td>[4, 15, 18, 20, 25, 9, 19, 27]</td>\n",
       "    </tr>\n",
       "    <tr>\n",
       "      <th>2</th>\n",
       "      <td>1062544</td>\n",
       "      <td>Метелить</td>\n",
       "      <td>Затечь</td>\n",
       "      <td>5</td>\n",
       "      <td>2</td>\n",
       "      <td>3</td>\n",
       "      <td>0</td>\n",
       "      <td>3</td>\n",
       "      <td>2</td>\n",
       "      <td>0.333333</td>\n",
       "      <td>0</td>\n",
       "      <td>2</td>\n",
       "      <td>[13, 5, 19, 5, 12, 9, 19, 27]</td>\n",
       "      <td>[8, 0, 19, 5, 24, 27]</td>\n",
       "    </tr>\n",
       "    <tr>\n",
       "      <th>3</th>\n",
       "      <td>607664</td>\n",
       "      <td>Калевать</td>\n",
       "      <td>Натравляться</td>\n",
       "      <td>8</td>\n",
       "      <td>2</td>\n",
       "      <td>4</td>\n",
       "      <td>0</td>\n",
       "      <td>6</td>\n",
       "      <td>1</td>\n",
       "      <td>0.166667</td>\n",
       "      <td>0</td>\n",
       "      <td>4</td>\n",
       "      <td>[11, 0, 12, 5, 2, 0, 19, 27]</td>\n",
       "      <td>[14, 0, 19, 17, 0, 2, 12, 32, 19, 27, 18, 32]</td>\n",
       "    </tr>\n",
       "    <tr>\n",
       "      <th>4</th>\n",
       "      <td>802046</td>\n",
       "      <td>Уваляться</td>\n",
       "      <td>Валивать</td>\n",
       "      <td>7</td>\n",
       "      <td>2</td>\n",
       "      <td>4</td>\n",
       "      <td>1</td>\n",
       "      <td>4</td>\n",
       "      <td>3</td>\n",
       "      <td>0.250000</td>\n",
       "      <td>2</td>\n",
       "      <td>1</td>\n",
       "      <td>[20, 2, 0, 12, 32, 19, 27, 18, 32]</td>\n",
       "      <td>[2, 0, 12, 9, 2, 0, 19, 27]</td>\n",
       "    </tr>\n",
       "  </tbody>\n",
       "</table>\n",
       "</div>"
      ],
      "text/plain": [
       "   Unnamed: 0    first_word   second_word  Levenshtein  longest_common_substr  \\\n",
       "0        1590  Кровососущий   Соплеменный           10                      1   \n",
       "1      955209      Затюкать      Досушить            6                      2   \n",
       "2     1062544      Метелить        Затечь            5                      2   \n",
       "3      607664      Калевать  Натравляться            8                      2   \n",
       "4      802046     Уваляться      Валивать            7                      2   \n",
       "\n",
       "   longest_common_subs  class  Levenshtein_stemmed  LCS_stemmed  \\\n",
       "0                    2      0                    9            2   \n",
       "1                    2      0                    6            0   \n",
       "2                    3      0                    3            2   \n",
       "3                    4      0                    6            1   \n",
       "4                    4      1                    4            3   \n",
       "\n",
       "   Levenshtein_similarity  before_lcs  after_lcs  \\\n",
       "0                0.111111           6          5   \n",
       "1                0.166667           0          0   \n",
       "2                0.333333           0          2   \n",
       "3                0.166667           0          4   \n",
       "4                0.250000           2          1   \n",
       "\n",
       "                                       first_code  \\\n",
       "0  [11, 17, 15, 2, 15, 18, 15, 18, 20, 26, 9, 10]   \n",
       "1                   [8, 0, 19, 31, 11, 0, 19, 27]   \n",
       "2                   [13, 5, 19, 5, 12, 9, 19, 27]   \n",
       "3                    [11, 0, 12, 5, 2, 0, 19, 27]   \n",
       "4              [20, 2, 0, 12, 32, 19, 27, 18, 32]   \n",
       "\n",
       "                                     second_code  \n",
       "0     [18, 15, 16, 12, 5, 13, 5, 14, 14, 28, 10]  \n",
       "1                 [4, 15, 18, 20, 25, 9, 19, 27]  \n",
       "2                          [8, 0, 19, 5, 24, 27]  \n",
       "3  [14, 0, 19, 17, 0, 2, 12, 32, 19, 27, 18, 32]  \n",
       "4                    [2, 0, 12, 9, 2, 0, 19, 27]  "
      ]
     },
     "execution_count": 6,
     "metadata": {},
     "output_type": "execute_result"
    }
   ],
   "source": [
    "data['first_code'] = data.apply(lambda row: encode(row.first_word), axis=1)\n",
    "data['second_code'] = data.apply(lambda row: encode(row.second_word), axis=1)\n",
    "data.head()"
   ]
  },
  {
   "cell_type": "code",
   "execution_count": 7,
   "metadata": {},
   "outputs": [
    {
     "name": "stdout",
     "output_type": "stream",
     "text": [
      "29\n"
     ]
    }
   ],
   "source": [
    "data['code_len'] = data.apply(lambda row: max(len(row.first_code), len(row.second_code)), axis=1)\n",
    "max_len_code = data['code_len'].max()\n",
    "print(max_len_code)"
   ]
  },
  {
   "cell_type": "code",
   "execution_count": 8,
   "metadata": {},
   "outputs": [],
   "source": [
    "from tensorflow.keras.preprocessing.sequence import pad_sequences\n",
    "from tensorflow.keras import utils\n",
    "from sklearn.model_selection import train_test_split\n",
    "\n",
    "X1 = pad_sequences(data['first_code'], maxlen=max_len_code)\n",
    "X2 = pad_sequences(data['second_code'], maxlen=max_len_code)\n",
    "y = utils.to_categorical(data['class'], num_classes=2)\n",
    "\n",
    "X1_train, X1_test, y_train, y_test = train_test_split(X1, y, test_size=0.20)\n",
    "X2_train, X2_test, y_train, y_test = train_test_split(X2, y, test_size=0.20)"
   ]
  },
  {
   "cell_type": "code",
   "execution_count": 9,
   "metadata": {},
   "outputs": [
    {
     "data": {
      "text/plain": [
       "array([[ 0,  0,  0, ...,  4, 11,  0],\n",
       "       [ 0,  0,  0, ...,  9, 23,  5],\n",
       "       [ 0,  0,  0, ..., 27, 18, 32],\n",
       "       ...,\n",
       "       [ 0,  0,  0, ...,  0, 19, 27],\n",
       "       [ 0,  0,  0, ..., 27, 18, 32],\n",
       "       [ 0,  0,  0, ...,  1, 15, 10]])"
      ]
     },
     "execution_count": 9,
     "metadata": {},
     "output_type": "execute_result"
    }
   ],
   "source": [
    "X1_train"
   ]
  },
  {
   "cell_type": "code",
   "execution_count": 10,
   "metadata": {},
   "outputs": [
    {
     "data": {
      "text/plain": [
       "array([[ 0,  0,  0, ...,  1,  9, 32],\n",
       "       [ 0,  0,  0, ...,  0, 19, 27],\n",
       "       [ 0,  0,  0, ...,  5, 19, 17],\n",
       "       ...,\n",
       "       [ 0,  0,  0, ...,  9, 18, 19],\n",
       "       [ 0,  0,  0, ..., 27, 18, 32],\n",
       "       [ 0,  0,  0, ..., 14, 28, 10]])"
      ]
     },
     "execution_count": 10,
     "metadata": {},
     "output_type": "execute_result"
    }
   ],
   "source": [
    "X2_train"
   ]
  },
  {
   "cell_type": "code",
   "execution_count": 11,
   "metadata": {},
   "outputs": [
    {
     "data": {
      "text/plain": [
       "array([[0., 1.],\n",
       "       [0., 1.],\n",
       "       [0., 1.],\n",
       "       ...,\n",
       "       [0., 1.],\n",
       "       [0., 1.],\n",
       "       [1., 0.]], dtype=float32)"
      ]
     },
     "execution_count": 11,
     "metadata": {},
     "output_type": "execute_result"
    }
   ],
   "source": [
    "y_train"
   ]
  },
  {
   "cell_type": "markdown",
   "metadata": {},
   "source": [
    "# Построение модели"
   ]
  },
  {
   "cell_type": "code",
   "execution_count": 12,
   "metadata": {},
   "outputs": [],
   "source": [
    "from tensorflow.keras.models import Model\n",
    "from tensorflow.keras.layers import Input, Embedding, Conv1D, Dense, Bidirectional, LSTM, maximum, minimum, subtract\n",
    "\n",
    "first_input = Input(shape=(max_len_code,))\n",
    "first_emb = Embedding(input_dim=len(arr_ru), output_dim=16, input_length=max_len_code)(first_input)\n",
    "first_conv = Conv1D(filters=16, kernel_size=5, padding='valid', activation='relu')(first_emb)\n",
    "\n",
    "second_input = Input(shape=(max_len_code,))\n",
    "second_emb = Embedding(input_dim=len(arr_ru), output_dim=16, input_length=max_len_code)(second_input)\n",
    "second_conv = Conv1D(filters=16, kernel_size=5, padding='valid', activation='relu')(second_emb)\n",
    "\n",
    "max_layer =  maximum([first_conv, second_conv])\n",
    "min_layer = minimum([first_conv, second_conv])\n",
    "delta_layer = subtract([max_layer, min_layer])\n",
    "\n",
    "conv_1 = Conv1D(filters=16, kernel_size=5, padding='valid', activation='relu')(delta_layer)\n",
    "conv_2 = Conv1D(filters=16, kernel_size=5, padding='valid', activation='relu')(conv_1)\n",
    "bilstm = Bidirectional(LSTM(units=4))(conv_2)\n",
    "dense = Dense(units=2, activation='softmax')(bilstm)\n",
    "\n",
    "model = Model(inputs=[first_input, second_input], outputs=[dense])"
   ]
  },
  {
   "cell_type": "code",
   "execution_count": 13,
   "metadata": {},
   "outputs": [],
   "source": [
    "model.compile(optimizer='adam', \n",
    "              loss='binary_crossentropy', \n",
    "              metrics=['accuracy'])"
   ]
  },
  {
   "cell_type": "code",
   "execution_count": 14,
   "metadata": {},
   "outputs": [
    {
     "name": "stdout",
     "output_type": "stream",
     "text": [
      "Model: \"model\"\n",
      "__________________________________________________________________________________________________\n",
      "Layer (type)                    Output Shape         Param #     Connected to                     \n",
      "==================================================================================================\n",
      "input_1 (InputLayer)            [(None, 29)]         0                                            \n",
      "__________________________________________________________________________________________________\n",
      "input_2 (InputLayer)            [(None, 29)]         0                                            \n",
      "__________________________________________________________________________________________________\n",
      "embedding (Embedding)           (None, 29, 16)       528         input_1[0][0]                    \n",
      "__________________________________________________________________________________________________\n",
      "embedding_1 (Embedding)         (None, 29, 16)       528         input_2[0][0]                    \n",
      "__________________________________________________________________________________________________\n",
      "conv1d (Conv1D)                 (None, 25, 16)       1296        embedding[0][0]                  \n",
      "__________________________________________________________________________________________________\n",
      "conv1d_1 (Conv1D)               (None, 25, 16)       1296        embedding_1[0][0]                \n",
      "__________________________________________________________________________________________________\n",
      "maximum (Maximum)               (None, 25, 16)       0           conv1d[0][0]                     \n",
      "                                                                 conv1d_1[0][0]                   \n",
      "__________________________________________________________________________________________________\n",
      "minimum (Minimum)               (None, 25, 16)       0           conv1d[0][0]                     \n",
      "                                                                 conv1d_1[0][0]                   \n",
      "__________________________________________________________________________________________________\n",
      "subtract (Subtract)             (None, 25, 16)       0           maximum[0][0]                    \n",
      "                                                                 minimum[0][0]                    \n",
      "__________________________________________________________________________________________________\n",
      "conv1d_2 (Conv1D)               (None, 21, 16)       1296        subtract[0][0]                   \n",
      "__________________________________________________________________________________________________\n",
      "conv1d_3 (Conv1D)               (None, 17, 16)       1296        conv1d_2[0][0]                   \n",
      "__________________________________________________________________________________________________\n",
      "bidirectional (Bidirectional)   (None, 8)            672         conv1d_3[0][0]                   \n",
      "__________________________________________________________________________________________________\n",
      "dense (Dense)                   (None, 2)            18          bidirectional[0][0]              \n",
      "==================================================================================================\n",
      "Total params: 6,930\n",
      "Trainable params: 6,930\n",
      "Non-trainable params: 0\n",
      "__________________________________________________________________________________________________\n"
     ]
    }
   ],
   "source": [
    "model.summary()"
   ]
  },
  {
   "cell_type": "code",
   "execution_count": 15,
   "metadata": {},
   "outputs": [],
   "source": [
    "from tensorflow.keras.callbacks import ModelCheckpoint\n",
    "\n",
    "model_save_path = 'cognates_model_second.h5'\n",
    "checkpoint_callback = ModelCheckpoint(model_save_path,\n",
    "                                      monitor='val_accuracy',\n",
    "                                      save_best_only=True,\n",
    "                                      verbose=1)"
   ]
  },
  {
   "cell_type": "code",
   "execution_count": 16,
   "metadata": {},
   "outputs": [
    {
     "name": "stdout",
     "output_type": "stream",
     "text": [
      "Epoch 1/5\n",
      "27816/27816 [==============================] - 227s 8ms/step - loss: 0.6145 - accuracy: 0.6666 - val_loss: 0.5845 - val_accuracy: 0.6986\n",
      "\n",
      "Epoch 00001: val_accuracy improved from -inf to 0.69865, saving model to cognates_model_second.h5\n",
      "Epoch 2/5\n",
      "27816/27816 [==============================] - 249s 9ms/step - loss: 0.5821 - accuracy: 0.7000 - val_loss: 0.5737 - val_accuracy: 0.7054\n",
      "\n",
      "Epoch 00002: val_accuracy improved from 0.69865 to 0.70536, saving model to cognates_model_second.h5\n",
      "Epoch 3/5\n",
      "27816/27816 [==============================] - 256s 9ms/step - loss: 0.5707 - accuracy: 0.7074 - val_loss: 0.5660 - val_accuracy: 0.7119\n",
      "\n",
      "Epoch 00003: val_accuracy improved from 0.70536 to 0.71190, saving model to cognates_model_second.h5\n",
      "Epoch 4/5\n",
      "27816/27816 [==============================] - 265s 10ms/step - loss: 0.5644 - accuracy: 0.7109 - val_loss: 0.5625 - val_accuracy: 0.7123\n",
      "\n",
      "Epoch 00004: val_accuracy improved from 0.71190 to 0.71230, saving model to cognates_model_second.h5\n",
      "Epoch 5/5\n",
      "27816/27816 [==============================] - 270s 10ms/step - loss: 0.5599 - accuracy: 0.7144 - val_loss: 0.5597 - val_accuracy: 0.7154\n",
      "\n",
      "Epoch 00005: val_accuracy improved from 0.71230 to 0.71538, saving model to cognates_model_second.h5\n"
     ]
    }
   ],
   "source": [
    "history = model.fit([X1_train, X2_train], \n",
    "                    y_train,\n",
    "                    epochs=5,\n",
    "                    validation_split=0.1,\n",
    "                    callbacks=[checkpoint_callback])"
   ]
  },
  {
   "cell_type": "code",
   "execution_count": 17,
   "metadata": {},
   "outputs": [
    {
     "data": {
      "image/png": "[encoded data removed]",
      "text/plain": [
       "<Figure size 432x288 with 1 Axes>"
      ]
     },
     "metadata": {
      "needs_background": "light"
     },
     "output_type": "display_data"
    }
   ],
   "source": [
    "import matplotlib.pyplot as plt\n",
    "%matplotlib inline\n",
    "\n",
    "plt.plot(history.history['accuracy'], \n",
    "         label='Доля верных ответов на обучающем наборе')\n",
    "plt.plot(history.history['val_accuracy'], \n",
    "         label='Доля верных ответов на проверочном наборе')\n",
    "plt.xlabel('Эпоха обучения')\n",
    "plt.ylabel('Доля верных ответов')\n",
    "plt.legend()\n",
    "plt.show()"
   ]
  },
  {
   "cell_type": "code",
   "execution_count": 18,
   "metadata": {},
   "outputs": [
    {
     "name": "stdout",
     "output_type": "stream",
     "text": [
      "              precision    recall  f1-score   support\n",
      "\n",
      "     class 0       0.69      0.77      0.73    123468\n",
      "     class 1       0.74      0.66      0.70    123785\n",
      "\n",
      "    accuracy                           0.71    247253\n",
      "   macro avg       0.72      0.71      0.71    247253\n",
      "weighted avg       0.72      0.71      0.71    247253\n",
      "\n"
     ]
    }
   ],
   "source": [
    "from sklearn.metrics import confusion_matrix  \n",
    "from sklearn.metrics import classification_report\n",
    "\n",
    "prediction = model.predict([X1_test, X2_test])\n",
    "print(classification_report(y_test.argmax(axis=1), prediction.argmax(axis=1), target_names=['class 0', 'class 1']))"
   ]
  },
  {
   "cell_type": "code",
   "execution_count": null,
   "metadata": {},
   "outputs": [],
   "source": [
    "from tensorflow.keras.utils import plot_model\n",
    "\n",
    "plot_model(model, to_file='cognates_second_model.png', show_shapes=True, show_layer_names=True)"
   ]
  }
 ],
 "metadata": {
  "kernelspec": {
   "display_name": "Python 3",
   "language": "python",
   "name": "python3"
  },
  "language_info": {
   "codemirror_mode": {
    "name": "ipython",
    "version": 3
   },
   "file_extension": ".py",
   "mimetype": "text/x-python",
   "name": "python",
   "nbconvert_exporter": "python",
   "pygments_lexer": "ipython3",
   "version": "3.7.3"
  }
 },
 "nbformat": 4,
 "nbformat_minor": 2
}
